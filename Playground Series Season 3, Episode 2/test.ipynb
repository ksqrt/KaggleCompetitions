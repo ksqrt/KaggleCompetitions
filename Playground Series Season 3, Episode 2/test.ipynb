{
 "cells": [
  {
   "cell_type": "code",
   "execution_count": 1,
   "metadata": {},
   "outputs": [],
   "source": [
    "# 1 라이브러리 임포트\n",
    "\n",
    "import pandas as pd\n",
    "import numpy as np\n",
    "import tensorflow as tf\n",
    "import sklearn as sk\n",
    "\n",
    "# 알고리즘을 그래픽화 하기위한 라이브러리\n",
    "import seaborn as sns\n",
    "import matplotlib.pylab as plt\n",
    "from matplotlib import rcParams\n",
    "import re\n",
    "from keras.models import Sequential\n",
    "from keras.layers import Dense, Activation, Dropout\n",
    "import keras\n",
    "\n",
    "# 모델생성 라이브러리\n",
    "from tensorflow.keras.models import Sequential\n",
    "from tensorflow.keras.layers import Dense\n",
    "\n",
    "# 데이터 스플릿,스케일링\n",
    "from sklearn.model_selection import train_test_split\n",
    "from sklearn.preprocessing import MinMaxScaler,StandardScaler"
   ]
  },
  {
   "cell_type": "code",
   "execution_count": 2,
   "metadata": {},
   "outputs": [],
   "source": [
    "# 1. 경로 지정과 임포트하기\n",
    "path = (\"./playground-series-s3e2/\")\n",
    "\n",
    "df_train = pd.read_csv(path+\"train.csv\")\n",
    "df_test = pd.read_csv(path+\"test.csv\")\n",
    "\n",
    "# 1-1 겟더미로 문자열 제거 \n",
    "df_train = pd.get_dummies(df_train)\n",
    "df_test  = pd.get_dummies(df_test)\n"
   ]
  },
  {
   "cell_type": "code",
   "execution_count": 13,
   "metadata": {},
   "outputs": [
    {
     "name": "stdout",
     "output_type": "stream",
     "text": [
      "(15304, 23)\n"
     ]
    }
   ],
   "source": [
    "# 2. 데이터 조회\n",
    "print(df_train.shape)\n",
    "# print(df_train.head())"
   ]
  },
  {
   "cell_type": "code",
   "execution_count": 14,
   "metadata": {},
   "outputs": [
    {
     "data": {
      "text/plain": [
       "id                                0\n",
       "age                               0\n",
       "hypertension                      0\n",
       "heart_disease                     0\n",
       "avg_glucose_level                 0\n",
       "bmi                               0\n",
       "stroke                            0\n",
       "gender_Female                     0\n",
       "gender_Male                       0\n",
       "gender_Other                      0\n",
       "ever_married_No                   0\n",
       "ever_married_Yes                  0\n",
       "work_type_Govt_job                0\n",
       "work_type_Never_worked            0\n",
       "work_type_Private                 0\n",
       "work_type_Self-employed           0\n",
       "work_type_children                0\n",
       "Residence_type_Rural              0\n",
       "Residence_type_Urban              0\n",
       "smoking_status_Unknown            0\n",
       "smoking_status_formerly smoked    0\n",
       "smoking_status_never smoked       0\n",
       "smoking_status_smokes             0\n",
       "dtype: int64"
      ]
     },
     "execution_count": 14,
     "metadata": {},
     "output_type": "execute_result"
    }
   ],
   "source": [
    "# 3.널값 확인\n",
    "df_train.isna().sum()\n",
    "# df_train.isnull().any()\n",
    "# 아에 널값이 없는 정제된 데이터를 확인.. ㄷㄷ"
   ]
  },
  {
   "cell_type": "code",
   "execution_count": 15,
   "metadata": {},
   "outputs": [
    {
     "name": "stdout",
     "output_type": "stream",
     "text": [
      "(15304, 21) (15304,)\n"
     ]
    },
    {
     "data": {
      "text/plain": [
       "0    0\n",
       "1    0\n",
       "2    0\n",
       "3    0\n",
       "4    0\n",
       "Name: stroke, dtype: int64"
      ]
     },
     "execution_count": 15,
     "metadata": {},
     "output_type": "execute_result"
    }
   ],
   "source": [
    "# 4. 데이터 전처리 \n",
    "# 데이터 스플릿과 스케일링 할꺼임 \n",
    "# 결측치가 없어서 결측치 처리는 안해도됨\n",
    "\n",
    "# 4-1 데이터를 x와 y 로 분할\n",
    "x = df_train.drop([\"stroke\"],axis=1)\n",
    "y = df_train[\"stroke\"]\n",
    "x = x.drop([\"id\"],axis=1)\n",
    "# y = y.drop([\"id\"],axis=1)\n",
    "print(x.shape,y.shape)"
   ]
  },
  {
   "cell_type": "code",
   "execution_count": 6,
   "metadata": {},
   "outputs": [
    {
     "name": "stdout",
     "output_type": "stream",
     "text": [
      "(12243, 21) (3061, 21)\n",
      "(12243,) (3061,)\n"
     ]
    }
   ],
   "source": [
    "# 4-2 테스트 데이터와 훈련 데이터로 스플릿\n",
    "\n",
    "x_train, x_test, y_train,y_test = train_test_split(\n",
    "    x,\n",
    "    y,\n",
    "    train_size=0.8,\n",
    "    shuffle = True,\n",
    "    stratify = y,\n",
    "    # random_state=21\n",
    ")\n",
    "print(x_train.shape,x_test.shape)\n",
    "print(y_train.shape,y_test.shape)"
   ]
  },
  {
   "cell_type": "code",
   "execution_count": 7,
   "metadata": {},
   "outputs": [],
   "source": [
    "# 4-3 문자열 겟더미로 인덱싱\n",
    "# df_train = pd.get_dummies(df_train, columns=[\"gender\",\"ever_married\",\"work_type\",\"Residence_type\",\"smoking_status\"],\\\n",
    "#                           prefix=[\"gender\",\"ever_married\",\"work_type\",\"Residence_type\",\"smoking_status\"], drop_first=True)\n",
    "# df_test = pd.get_dummies(df_test, columns=[\"gender\",\"ever_married\",\"work_type\",\"Residence_type\",\"smoking_status\"],\\\n",
    "#                           prefix=[\"gender\",\"ever_married\",\"work_type\",\"Residence_type\",\"smoking_status\"], drop_first=True)\n"
   ]
  },
  {
   "cell_type": "code",
   "execution_count": 8,
   "metadata": {},
   "outputs": [
    {
     "name": "stdout",
     "output_type": "stream",
     "text": [
      "<class 'pandas.core.frame.DataFrame'>\n",
      "RangeIndex: 15304 entries, 0 to 15303\n",
      "Data columns (total 23 columns):\n",
      " #   Column                          Non-Null Count  Dtype  \n",
      "---  ------                          --------------  -----  \n",
      " 0   id                              15304 non-null  int64  \n",
      " 1   age                             15304 non-null  float64\n",
      " 2   hypertension                    15304 non-null  int64  \n",
      " 3   heart_disease                   15304 non-null  int64  \n",
      " 4   avg_glucose_level               15304 non-null  float64\n",
      " 5   bmi                             15304 non-null  float64\n",
      " 6   stroke                          15304 non-null  int64  \n",
      " 7   gender_Female                   15304 non-null  uint8  \n",
      " 8   gender_Male                     15304 non-null  uint8  \n",
      " 9   gender_Other                    15304 non-null  uint8  \n",
      " 10  ever_married_No                 15304 non-null  uint8  \n",
      " 11  ever_married_Yes                15304 non-null  uint8  \n",
      " 12  work_type_Govt_job              15304 non-null  uint8  \n",
      " 13  work_type_Never_worked          15304 non-null  uint8  \n",
      " 14  work_type_Private               15304 non-null  uint8  \n",
      " 15  work_type_Self-employed         15304 non-null  uint8  \n",
      " 16  work_type_children              15304 non-null  uint8  \n",
      " 17  Residence_type_Rural            15304 non-null  uint8  \n",
      " 18  Residence_type_Urban            15304 non-null  uint8  \n",
      " 19  smoking_status_Unknown          15304 non-null  uint8  \n",
      " 20  smoking_status_formerly smoked  15304 non-null  uint8  \n",
      " 21  smoking_status_never smoked     15304 non-null  uint8  \n",
      " 22  smoking_status_smokes           15304 non-null  uint8  \n",
      "dtypes: float64(3), int64(4), uint8(16)\n",
      "memory usage: 1.1 MB\n"
     ]
    }
   ],
   "source": [
    "df_train.info()"
   ]
  },
  {
   "cell_type": "code",
   "execution_count": 9,
   "metadata": {},
   "outputs": [],
   "source": [
    "# 4-3 데이터스케일링\n",
    "\n",
    "scaler = MinMaxScaler()\n",
    "\n",
    "scaler.fit(x_train)\n",
    "x_train = scaler.transform(x_train)\n",
    "x_test = scaler.transform(x_test)\n"
   ]
  },
  {
   "cell_type": "code",
   "execution_count": 10,
   "metadata": {},
   "outputs": [
    {
     "name": "stdout",
     "output_type": "stream",
     "text": [
      "(12243, 21) (12243,)\n"
     ]
    }
   ],
   "source": [
    "print(x_train.shape,y_train.shape)"
   ]
  },
  {
   "cell_type": "code",
   "execution_count": 16,
   "metadata": {},
   "outputs": [],
   "source": [
    "# 5 모델구성\n",
    "\n",
    "dr = 0.1\n",
    "model = Sequential([\n",
    "    Dense(256,input_dim=21,activation=\"relu\"),\n",
    "    Dropout(rate=dr),\n",
    "    Dense(128,activation=\"relu\"),\n",
    "    Dropout(rate=dr),\n",
    "    Dense(64,activation=\"relu\"),\n",
    "    Dropout(rate=dr),\n",
    "    Dense(32,activation=\"relu\"),\n",
    "    Dropout(rate=dr),\n",
    "    Dense(16,activation=\"relu\"),\n",
    "    Dropout(rate=dr),\n",
    "    Dense(8,activation=\"relu\"),\n",
    "    Dropout(rate=dr),\n",
    "    Dense(4,activation=\"relu\"),\n",
    "    Dropout(rate=dr),\n",
    "    Dense(2,activation=\"relu\"),\n",
    "    Dropout(rate=dr),\n",
    "# 이진분할 이기때문에 출력층 1 , sigmoid\n",
    "    Dense(1,activation=\"sigmoid\")\n",
    "])\n"
   ]
  },
  {
   "cell_type": "code",
   "execution_count": 18,
   "metadata": {},
   "outputs": [
    {
     "name": "stdout",
     "output_type": "stream",
     "text": [
      "Epoch 1/500\n",
      "154/154 [==============================] - 1s 5ms/step - loss: 0.1506 - accuracy: 0.9599 - val_loss: 0.1400 - val_accuracy: 0.9539 - lr: 0.0010\n",
      "Epoch 2/500\n",
      "154/154 [==============================] - 1s 4ms/step - loss: 0.1491 - accuracy: 0.9599 - val_loss: 0.1428 - val_accuracy: 0.9539 - lr: 0.0010\n",
      "Epoch 3/500\n",
      "154/154 [==============================] - 1s 4ms/step - loss: 0.1426 - accuracy: 0.9599 - val_loss: 0.1376 - val_accuracy: 0.9539 - lr: 0.0010\n",
      "Epoch 4/500\n",
      "154/154 [==============================] - 1s 3ms/step - loss: 0.1402 - accuracy: 0.9599 - val_loss: 0.1367 - val_accuracy: 0.9539 - lr: 0.0010\n",
      "Epoch 5/500\n",
      "154/154 [==============================] - 1s 4ms/step - loss: 0.1409 - accuracy: 0.9599 - val_loss: 0.1391 - val_accuracy: 0.9539 - lr: 0.0010\n",
      "Epoch 6/500\n",
      "154/154 [==============================] - 1s 4ms/step - loss: 0.1401 - accuracy: 0.9599 - val_loss: 0.1396 - val_accuracy: 0.9539 - lr: 0.0010\n",
      "Epoch 7/500\n",
      "154/154 [==============================] - 1s 4ms/step - loss: 0.1408 - accuracy: 0.9599 - val_loss: 0.1396 - val_accuracy: 0.9539 - lr: 0.0010\n",
      "Epoch 8/500\n",
      "154/154 [==============================] - 1s 4ms/step - loss: 0.1338 - accuracy: 0.9599 - val_loss: 0.1394 - val_accuracy: 0.9539 - lr: 1.0000e-04\n",
      "Epoch 9/500\n",
      "154/154 [==============================] - 1s 3ms/step - loss: 0.1367 - accuracy: 0.9599 - val_loss: 0.1392 - val_accuracy: 0.9539 - lr: 1.0000e-04\n",
      "Epoch 10/500\n",
      "154/154 [==============================] - 1s 4ms/step - loss: 0.1327 - accuracy: 0.9599 - val_loss: 0.1391 - val_accuracy: 0.9539 - lr: 1.0000e-04\n",
      "Epoch 11/500\n",
      "154/154 [==============================] - 1s 3ms/step - loss: 0.1370 - accuracy: 0.9599 - val_loss: 0.1391 - val_accuracy: 0.9539 - lr: 1.0000e-05\n",
      "Epoch 12/500\n",
      "154/154 [==============================] - 1s 4ms/step - loss: 0.1351 - accuracy: 0.9599 - val_loss: 0.1391 - val_accuracy: 0.9539 - lr: 1.0000e-05\n",
      "Epoch 13/500\n",
      "154/154 [==============================] - 1s 3ms/step - loss: 0.1319 - accuracy: 0.9599 - val_loss: 0.1392 - val_accuracy: 0.9539 - lr: 1.0000e-05\n",
      "Epoch 14/500\n",
      " 34/154 [=====>........................] - ETA: 0s - loss: 0.1351 - accuracy: 0.9609"
     ]
    },
    {
     "ename": "KeyboardInterrupt",
     "evalue": "",
     "output_type": "error",
     "traceback": [
      "\u001b[0;31m---------------------------------------------------------------------------\u001b[0m",
      "\u001b[0;31mKeyboardInterrupt\u001b[0m                         Traceback (most recent call last)",
      "\u001b[1;32m/root/project/KaggleCompetitions/Playground Series Season 3, Episode 2/test.ipynb 셀 12\u001b[0m in \u001b[0;36m<cell line: 21>\u001b[0;34m()\u001b[0m\n\u001b[1;32m     <a href='vscode-notebook-cell://attached-container%2B7b22636f6e7461696e65724e616d65223a222f6375646e6e222c22637764223a225c5c5c5c77736c2e6c6f63616c686f73745c5c5562756e74752d32302e30345c5c686f6d65227d/root/project/KaggleCompetitions/Playground%20Series%20Season%203%2C%20Episode%202/test.ipynb#X14sdnNjb2RlLXJlbW90ZQ%3D%3D?line=17'>18</a>\u001b[0m model\u001b[39m.\u001b[39mcompile(loss\u001b[39m=\u001b[39m\u001b[39m\"\u001b[39m\u001b[39mbinary_crossentropy\u001b[39m\u001b[39m\"\u001b[39m,optimizer\u001b[39m=\u001b[39m\u001b[39m\"\u001b[39m\u001b[39madam\u001b[39m\u001b[39m\"\u001b[39m,metrics\u001b[39m=\u001b[39m[\u001b[39m\"\u001b[39m\u001b[39maccuracy\u001b[39m\u001b[39m\"\u001b[39m])\n\u001b[1;32m     <a href='vscode-notebook-cell://attached-container%2B7b22636f6e7461696e65724e616d65223a222f6375646e6e222c22637764223a225c5c5c5c77736c2e6c6f63616c686f73745c5c5562756e74752d32302e30345c5c686f6d65227d/root/project/KaggleCompetitions/Playground%20Series%20Season%203%2C%20Episode%202/test.ipynb#X14sdnNjb2RlLXJlbW90ZQ%3D%3D?line=19'>20</a>\u001b[0m \u001b[39m# \u001b[39;00m\n\u001b[0;32m---> <a href='vscode-notebook-cell://attached-container%2B7b22636f6e7461696e65724e616d65223a222f6375646e6e222c22637764223a225c5c5c5c77736c2e6c6f63616c686f73745c5c5562756e74752d32302e30345c5c686f6d65227d/root/project/KaggleCompetitions/Playground%20Series%20Season%203%2C%20Episode%202/test.ipynb#X14sdnNjb2RlLXJlbW90ZQ%3D%3D?line=20'>21</a>\u001b[0m hist \u001b[39m=\u001b[39m model\u001b[39m.\u001b[39;49mfit(x_train, y_train, epochs\u001b[39m=\u001b[39;49m\u001b[39m500\u001b[39;49m, \n\u001b[1;32m     <a href='vscode-notebook-cell://attached-container%2B7b22636f6e7461696e65724e616d65223a222f6375646e6e222c22637764223a225c5c5c5c77736c2e6c6f63616c686f73745c5c5562756e74752d32302e30345c5c686f6d65227d/root/project/KaggleCompetitions/Playground%20Series%20Season%203%2C%20Episode%202/test.ipynb#X14sdnNjb2RlLXJlbW90ZQ%3D%3D?line=21'>22</a>\u001b[0m                  validation_split\u001b[39m=\u001b[39;49m\u001b[39m0.2\u001b[39;49m,\n\u001b[1;32m     <a href='vscode-notebook-cell://attached-container%2B7b22636f6e7461696e65724e616d65223a222f6375646e6e222c22637764223a225c5c5c5c77736c2e6c6f63616c686f73745c5c5562756e74752d32302e30345c5c686f6d65227d/root/project/KaggleCompetitions/Playground%20Series%20Season%203%2C%20Episode%202/test.ipynb#X14sdnNjb2RlLXJlbW90ZQ%3D%3D?line=22'>23</a>\u001b[0m                  batch_size\u001b[39m=\u001b[39;49m\u001b[39m64\u001b[39;49m,\n\u001b[1;32m     <a href='vscode-notebook-cell://attached-container%2B7b22636f6e7461696e65724e616d65223a222f6375646e6e222c22637764223a225c5c5c5c77736c2e6c6f63616c686f73745c5c5562756e74752d32302e30345c5c686f6d65227d/root/project/KaggleCompetitions/Playground%20Series%20Season%203%2C%20Episode%202/test.ipynb#X14sdnNjb2RlLXJlbW90ZQ%3D%3D?line=23'>24</a>\u001b[0m                  verbose\u001b[39m=\u001b[39;49m\u001b[39m1\u001b[39;49m,\n\u001b[1;32m     <a href='vscode-notebook-cell://attached-container%2B7b22636f6e7461696e65724e616d65223a222f6375646e6e222c22637764223a225c5c5c5c77736c2e6c6f63616c686f73745c5c5562756e74752d32302e30345c5c686f6d65227d/root/project/KaggleCompetitions/Playground%20Series%20Season%203%2C%20Episode%202/test.ipynb#X14sdnNjb2RlLXJlbW90ZQ%3D%3D?line=24'>25</a>\u001b[0m                  callbacks \u001b[39m=\u001b[39;49m [early_stopping,plat])\n",
      "File \u001b[0;32m/usr/local/lib/python3.8/dist-packages/keras/utils/traceback_utils.py:64\u001b[0m, in \u001b[0;36mfilter_traceback.<locals>.error_handler\u001b[0;34m(*args, **kwargs)\u001b[0m\n\u001b[1;32m     62\u001b[0m filtered_tb \u001b[39m=\u001b[39m \u001b[39mNone\u001b[39;00m\n\u001b[1;32m     63\u001b[0m \u001b[39mtry\u001b[39;00m:\n\u001b[0;32m---> 64\u001b[0m   \u001b[39mreturn\u001b[39;00m fn(\u001b[39m*\u001b[39;49margs, \u001b[39m*\u001b[39;49m\u001b[39m*\u001b[39;49mkwargs)\n\u001b[1;32m     65\u001b[0m \u001b[39mexcept\u001b[39;00m \u001b[39mException\u001b[39;00m \u001b[39mas\u001b[39;00m e:  \u001b[39m# pylint: disable=broad-except\u001b[39;00m\n\u001b[1;32m     66\u001b[0m   filtered_tb \u001b[39m=\u001b[39m _process_traceback_frames(e\u001b[39m.\u001b[39m__traceback__)\n",
      "File \u001b[0;32m/usr/local/lib/python3.8/dist-packages/keras/engine/training.py:1409\u001b[0m, in \u001b[0;36mModel.fit\u001b[0;34m(self, x, y, batch_size, epochs, verbose, callbacks, validation_split, validation_data, shuffle, class_weight, sample_weight, initial_epoch, steps_per_epoch, validation_steps, validation_batch_size, validation_freq, max_queue_size, workers, use_multiprocessing)\u001b[0m\n\u001b[1;32m   1402\u001b[0m \u001b[39mwith\u001b[39;00m tf\u001b[39m.\u001b[39mprofiler\u001b[39m.\u001b[39mexperimental\u001b[39m.\u001b[39mTrace(\n\u001b[1;32m   1403\u001b[0m     \u001b[39m'\u001b[39m\u001b[39mtrain\u001b[39m\u001b[39m'\u001b[39m,\n\u001b[1;32m   1404\u001b[0m     epoch_num\u001b[39m=\u001b[39mepoch,\n\u001b[1;32m   1405\u001b[0m     step_num\u001b[39m=\u001b[39mstep,\n\u001b[1;32m   1406\u001b[0m     batch_size\u001b[39m=\u001b[39mbatch_size,\n\u001b[1;32m   1407\u001b[0m     _r\u001b[39m=\u001b[39m\u001b[39m1\u001b[39m):\n\u001b[1;32m   1408\u001b[0m   callbacks\u001b[39m.\u001b[39mon_train_batch_begin(step)\n\u001b[0;32m-> 1409\u001b[0m   tmp_logs \u001b[39m=\u001b[39m \u001b[39mself\u001b[39;49m\u001b[39m.\u001b[39;49mtrain_function(iterator)\n\u001b[1;32m   1410\u001b[0m   \u001b[39mif\u001b[39;00m data_handler\u001b[39m.\u001b[39mshould_sync:\n\u001b[1;32m   1411\u001b[0m     context\u001b[39m.\u001b[39masync_wait()\n",
      "File \u001b[0;32m/usr/local/lib/python3.8/dist-packages/tensorflow/python/util/traceback_utils.py:150\u001b[0m, in \u001b[0;36mfilter_traceback.<locals>.error_handler\u001b[0;34m(*args, **kwargs)\u001b[0m\n\u001b[1;32m    148\u001b[0m filtered_tb \u001b[39m=\u001b[39m \u001b[39mNone\u001b[39;00m\n\u001b[1;32m    149\u001b[0m \u001b[39mtry\u001b[39;00m:\n\u001b[0;32m--> 150\u001b[0m   \u001b[39mreturn\u001b[39;00m fn(\u001b[39m*\u001b[39;49margs, \u001b[39m*\u001b[39;49m\u001b[39m*\u001b[39;49mkwargs)\n\u001b[1;32m    151\u001b[0m \u001b[39mexcept\u001b[39;00m \u001b[39mException\u001b[39;00m \u001b[39mas\u001b[39;00m e:\n\u001b[1;32m    152\u001b[0m   filtered_tb \u001b[39m=\u001b[39m _process_traceback_frames(e\u001b[39m.\u001b[39m__traceback__)\n",
      "File \u001b[0;32m/usr/local/lib/python3.8/dist-packages/tensorflow/python/eager/def_function.py:915\u001b[0m, in \u001b[0;36mFunction.__call__\u001b[0;34m(self, *args, **kwds)\u001b[0m\n\u001b[1;32m    912\u001b[0m compiler \u001b[39m=\u001b[39m \u001b[39m\"\u001b[39m\u001b[39mxla\u001b[39m\u001b[39m\"\u001b[39m \u001b[39mif\u001b[39;00m \u001b[39mself\u001b[39m\u001b[39m.\u001b[39m_jit_compile \u001b[39melse\u001b[39;00m \u001b[39m\"\u001b[39m\u001b[39mnonXla\u001b[39m\u001b[39m\"\u001b[39m\n\u001b[1;32m    914\u001b[0m \u001b[39mwith\u001b[39;00m OptionalXlaContext(\u001b[39mself\u001b[39m\u001b[39m.\u001b[39m_jit_compile):\n\u001b[0;32m--> 915\u001b[0m   result \u001b[39m=\u001b[39m \u001b[39mself\u001b[39;49m\u001b[39m.\u001b[39;49m_call(\u001b[39m*\u001b[39;49margs, \u001b[39m*\u001b[39;49m\u001b[39m*\u001b[39;49mkwds)\n\u001b[1;32m    917\u001b[0m new_tracing_count \u001b[39m=\u001b[39m \u001b[39mself\u001b[39m\u001b[39m.\u001b[39mexperimental_get_tracing_count()\n\u001b[1;32m    918\u001b[0m without_tracing \u001b[39m=\u001b[39m (tracing_count \u001b[39m==\u001b[39m new_tracing_count)\n",
      "File \u001b[0;32m/usr/local/lib/python3.8/dist-packages/tensorflow/python/eager/def_function.py:947\u001b[0m, in \u001b[0;36mFunction._call\u001b[0;34m(self, *args, **kwds)\u001b[0m\n\u001b[1;32m    944\u001b[0m   \u001b[39mself\u001b[39m\u001b[39m.\u001b[39m_lock\u001b[39m.\u001b[39mrelease()\n\u001b[1;32m    945\u001b[0m   \u001b[39m# In this case we have created variables on the first call, so we run the\u001b[39;00m\n\u001b[1;32m    946\u001b[0m   \u001b[39m# defunned version which is guaranteed to never create variables.\u001b[39;00m\n\u001b[0;32m--> 947\u001b[0m   \u001b[39mreturn\u001b[39;00m \u001b[39mself\u001b[39;49m\u001b[39m.\u001b[39;49m_stateless_fn(\u001b[39m*\u001b[39;49margs, \u001b[39m*\u001b[39;49m\u001b[39m*\u001b[39;49mkwds)  \u001b[39m# pylint: disable=not-callable\u001b[39;00m\n\u001b[1;32m    948\u001b[0m \u001b[39melif\u001b[39;00m \u001b[39mself\u001b[39m\u001b[39m.\u001b[39m_stateful_fn \u001b[39mis\u001b[39;00m \u001b[39mnot\u001b[39;00m \u001b[39mNone\u001b[39;00m:\n\u001b[1;32m    949\u001b[0m   \u001b[39m# Release the lock early so that multiple threads can perform the call\u001b[39;00m\n\u001b[1;32m    950\u001b[0m   \u001b[39m# in parallel.\u001b[39;00m\n\u001b[1;32m    951\u001b[0m   \u001b[39mself\u001b[39m\u001b[39m.\u001b[39m_lock\u001b[39m.\u001b[39mrelease()\n",
      "File \u001b[0;32m/usr/local/lib/python3.8/dist-packages/tensorflow/python/eager/function.py:2453\u001b[0m, in \u001b[0;36mFunction.__call__\u001b[0;34m(self, *args, **kwargs)\u001b[0m\n\u001b[1;32m   2450\u001b[0m \u001b[39mwith\u001b[39;00m \u001b[39mself\u001b[39m\u001b[39m.\u001b[39m_lock:\n\u001b[1;32m   2451\u001b[0m   (graph_function,\n\u001b[1;32m   2452\u001b[0m    filtered_flat_args) \u001b[39m=\u001b[39m \u001b[39mself\u001b[39m\u001b[39m.\u001b[39m_maybe_define_function(args, kwargs)\n\u001b[0;32m-> 2453\u001b[0m \u001b[39mreturn\u001b[39;00m graph_function\u001b[39m.\u001b[39;49m_call_flat(\n\u001b[1;32m   2454\u001b[0m     filtered_flat_args, captured_inputs\u001b[39m=\u001b[39;49mgraph_function\u001b[39m.\u001b[39;49mcaptured_inputs)\n",
      "File \u001b[0;32m/usr/local/lib/python3.8/dist-packages/tensorflow/python/eager/function.py:1860\u001b[0m, in \u001b[0;36mConcreteFunction._call_flat\u001b[0;34m(self, args, captured_inputs, cancellation_manager)\u001b[0m\n\u001b[1;32m   1856\u001b[0m possible_gradient_type \u001b[39m=\u001b[39m gradients_util\u001b[39m.\u001b[39mPossibleTapeGradientTypes(args)\n\u001b[1;32m   1857\u001b[0m \u001b[39mif\u001b[39;00m (possible_gradient_type \u001b[39m==\u001b[39m gradients_util\u001b[39m.\u001b[39mPOSSIBLE_GRADIENT_TYPES_NONE\n\u001b[1;32m   1858\u001b[0m     \u001b[39mand\u001b[39;00m executing_eagerly):\n\u001b[1;32m   1859\u001b[0m   \u001b[39m# No tape is watching; skip to running the function.\u001b[39;00m\n\u001b[0;32m-> 1860\u001b[0m   \u001b[39mreturn\u001b[39;00m \u001b[39mself\u001b[39m\u001b[39m.\u001b[39m_build_call_outputs(\u001b[39mself\u001b[39;49m\u001b[39m.\u001b[39;49m_inference_function\u001b[39m.\u001b[39;49mcall(\n\u001b[1;32m   1861\u001b[0m       ctx, args, cancellation_manager\u001b[39m=\u001b[39;49mcancellation_manager))\n\u001b[1;32m   1862\u001b[0m forward_backward \u001b[39m=\u001b[39m \u001b[39mself\u001b[39m\u001b[39m.\u001b[39m_select_forward_and_backward_functions(\n\u001b[1;32m   1863\u001b[0m     args,\n\u001b[1;32m   1864\u001b[0m     possible_gradient_type,\n\u001b[1;32m   1865\u001b[0m     executing_eagerly)\n\u001b[1;32m   1866\u001b[0m forward_function, args_with_tangents \u001b[39m=\u001b[39m forward_backward\u001b[39m.\u001b[39mforward()\n",
      "File \u001b[0;32m/usr/local/lib/python3.8/dist-packages/tensorflow/python/eager/function.py:497\u001b[0m, in \u001b[0;36m_EagerDefinedFunction.call\u001b[0;34m(self, ctx, args, cancellation_manager)\u001b[0m\n\u001b[1;32m    495\u001b[0m \u001b[39mwith\u001b[39;00m _InterpolateFunctionError(\u001b[39mself\u001b[39m):\n\u001b[1;32m    496\u001b[0m   \u001b[39mif\u001b[39;00m cancellation_manager \u001b[39mis\u001b[39;00m \u001b[39mNone\u001b[39;00m:\n\u001b[0;32m--> 497\u001b[0m     outputs \u001b[39m=\u001b[39m execute\u001b[39m.\u001b[39;49mexecute(\n\u001b[1;32m    498\u001b[0m         \u001b[39mstr\u001b[39;49m(\u001b[39mself\u001b[39;49m\u001b[39m.\u001b[39;49msignature\u001b[39m.\u001b[39;49mname),\n\u001b[1;32m    499\u001b[0m         num_outputs\u001b[39m=\u001b[39;49m\u001b[39mself\u001b[39;49m\u001b[39m.\u001b[39;49m_num_outputs,\n\u001b[1;32m    500\u001b[0m         inputs\u001b[39m=\u001b[39;49margs,\n\u001b[1;32m    501\u001b[0m         attrs\u001b[39m=\u001b[39;49mattrs,\n\u001b[1;32m    502\u001b[0m         ctx\u001b[39m=\u001b[39;49mctx)\n\u001b[1;32m    503\u001b[0m   \u001b[39melse\u001b[39;00m:\n\u001b[1;32m    504\u001b[0m     outputs \u001b[39m=\u001b[39m execute\u001b[39m.\u001b[39mexecute_with_cancellation(\n\u001b[1;32m    505\u001b[0m         \u001b[39mstr\u001b[39m(\u001b[39mself\u001b[39m\u001b[39m.\u001b[39msignature\u001b[39m.\u001b[39mname),\n\u001b[1;32m    506\u001b[0m         num_outputs\u001b[39m=\u001b[39m\u001b[39mself\u001b[39m\u001b[39m.\u001b[39m_num_outputs,\n\u001b[0;32m   (...)\u001b[0m\n\u001b[1;32m    509\u001b[0m         ctx\u001b[39m=\u001b[39mctx,\n\u001b[1;32m    510\u001b[0m         cancellation_manager\u001b[39m=\u001b[39mcancellation_manager)\n",
      "File \u001b[0;32m/usr/local/lib/python3.8/dist-packages/tensorflow/python/eager/execute.py:54\u001b[0m, in \u001b[0;36mquick_execute\u001b[0;34m(op_name, num_outputs, inputs, attrs, ctx, name)\u001b[0m\n\u001b[1;32m     52\u001b[0m \u001b[39mtry\u001b[39;00m:\n\u001b[1;32m     53\u001b[0m   ctx\u001b[39m.\u001b[39mensure_initialized()\n\u001b[0;32m---> 54\u001b[0m   tensors \u001b[39m=\u001b[39m pywrap_tfe\u001b[39m.\u001b[39;49mTFE_Py_Execute(ctx\u001b[39m.\u001b[39;49m_handle, device_name, op_name,\n\u001b[1;32m     55\u001b[0m                                       inputs, attrs, num_outputs)\n\u001b[1;32m     56\u001b[0m \u001b[39mexcept\u001b[39;00m core\u001b[39m.\u001b[39m_NotOkStatusException \u001b[39mas\u001b[39;00m e:\n\u001b[1;32m     57\u001b[0m   \u001b[39mif\u001b[39;00m name \u001b[39mis\u001b[39;00m \u001b[39mnot\u001b[39;00m \u001b[39mNone\u001b[39;00m:\n",
      "\u001b[0;31mKeyboardInterrupt\u001b[0m: "
     ]
    }
   ],
   "source": [
    "from keras.callbacks import EarlyStopping,ReduceLROnPlateau\n",
    "\n",
    "early_stopping = EarlyStopping(\n",
    "monitor='val_loss',\n",
    "mode='min',\n",
    "patience=30, \n",
    "min_delta=0.0001,\n",
    "verbose=1, \n",
    ")\n",
    "\n",
    "plat =ReduceLROnPlateau(\n",
    "        monitor=\"val_loss\", \n",
    "        mode='min', \n",
    "        patience=3, \n",
    "        factor=0.1, \n",
    "        min_lr=1e-8, \n",
    "        min_delta=0.000001)\n",
    "\n",
    "model.compile(loss=\"binary_crossentropy\",optimizer=\"adam\",metrics = ['mean_absolute_error',tf.keras.metrics.RootMeanSquaredError()])\n",
    "\n",
    "hist = model.fit(x_train, y_train, epochs=500, \n",
    "                 validation_split=0.2,\n",
    "                 batch_size=128, \n",
    "                 verbose=1,\n",
    "                 callbacks = [early_stopping,plat])\n"
   ]
  },
  {
   "cell_type": "code",
   "execution_count": null,
   "metadata": {},
   "outputs": [
    {
     "name": "stdout",
     "output_type": "stream",
     "text": [
      "409/409 [==============================] - 1s 2ms/step - loss: 0.1290 - accuracy: 0.9587\n",
      "accuracy: 95.87%\n"
     ]
    }
   ],
   "source": [
    "scores = model.evaluate(x_train, y_train, batch_size=30)\n",
    "print(\"%s: %.2f%%\" % (model.metrics_names[1], scores[1]*100))"
   ]
  },
  {
   "cell_type": "code",
   "execution_count": null,
   "metadata": {},
   "outputs": [
    {
     "data": {
      "image/png": "[encoded data removed]",
      "text/plain": [
       "<Figure size 640x480 with 1 Axes>"
      ]
     },
     "metadata": {},
     "output_type": "display_data"
    }
   ],
   "source": [
    "plt.plot(hist.history['accuracy'])\n",
    "plt.plot(hist.history['val_accuracy'])\n",
    "plt.title('Model Accuracy')\n",
    "plt.ylabel('Accuracy')\n",
    "plt.xlabel('Epoch')\n",
    "plt.legend(['train', 'test'], loc='upper left')\n",
    "plt.show()"
   ]
  },
  {
   "cell_type": "code",
   "execution_count": null,
   "metadata": {},
   "outputs": [
    {
     "data": {
      "image/png": "[encoded data removed]",
      "text/plain": [
       "<Figure size 640x480 with 1 Axes>"
      ]
     },
     "metadata": {},
     "output_type": "display_data"
    }
   ],
   "source": [
    "plt.plot(hist.history['loss'])\n",
    "plt.plot(hist.history['val_loss'])\n",
    "plt.title('Model Accuracy')\n",
    "plt.ylabel('Accuracy')\n",
    "plt.xlabel('Epoch')\n",
    "plt.legend(['train', 'test'], loc='upper left')\n",
    "plt.show()"
   ]
  },
  {
   "cell_type": "code",
   "execution_count": null,
   "metadata": {},
   "outputs": [
    {
     "data": {
      "text/plain": [
       "(10204, 21)"
      ]
     },
     "execution_count": 211,
     "metadata": {},
     "output_type": "execute_result"
    }
   ],
   "source": [
    "df_test = pd.DataFrame(df_test)\n",
    "df_test = df_test.drop([\"id\"],axis=1)\n",
    "df_test.shape"
   ]
  },
  {
   "cell_type": "code",
   "execution_count": null,
   "metadata": {},
   "outputs": [
    {
     "name": "stdout",
     "output_type": "stream",
     "text": [
      "[[0.29135892]\n",
      " [0.29135892]\n",
      " [0.29135892]\n",
      " [0.29135892]\n",
      " [0.29135892]\n",
      " [0.29135892]\n",
      " [0.29135892]\n",
      " [0.29135892]\n",
      " [0.29135892]\n",
      " [0.29135892]\n",
      " [0.29135892]\n",
      " [0.29135892]\n",
      " [0.29135892]\n",
      " [0.29135892]\n",
      " [0.29135892]\n",
      " [0.29135892]\n",
      " [0.29135892]\n",
      " [0.29135892]\n",
      " [0.29135892]\n",
      " [0.29135892]]\n",
      "[0 0 0 0 0 0 0 0 0 0 0 0 0 0 0 0 0 0 0 0]\n"
     ]
    }
   ],
   "source": [
    "\n",
    "y_submit = model.predict(df_test)\n",
    "print(y_submit[:20])\n",
    "\n",
    "# 1 과 1로 이진변환해주는 코드\n",
    "y_submit =y_submit.flatten()\n",
    "# y_predict 가 0.5 보다 크면 1 아니면 0 반환\n",
    "y_submit = np.where(y_submit > 0.5, 1 , 0)\n",
    "print(y_submit[:20])\n"
   ]
  },
  {
   "cell_type": "code",
   "execution_count": null,
   "metadata": {},
   "outputs": [
    {
     "data": {
      "text/html": [
       "<div>\n",
       "<style scoped>\n",
       "    .dataframe tbody tr th:only-of-type {\n",
       "        vertical-align: middle;\n",
       "    }\n",
       "\n",
       "    .dataframe tbody tr th {\n",
       "        vertical-align: top;\n",
       "    }\n",
       "\n",
       "    .dataframe thead th {\n",
       "        text-align: right;\n",
       "    }\n",
       "</style>\n",
       "<table border=\"1\" class=\"dataframe\">\n",
       "  <thead>\n",
       "    <tr style=\"text-align: right;\">\n",
       "      <th></th>\n",
       "      <th>stroke</th>\n",
       "    </tr>\n",
       "    <tr>\n",
       "      <th>id</th>\n",
       "      <th></th>\n",
       "    </tr>\n",
       "  </thead>\n",
       "  <tbody>\n",
       "    <tr>\n",
       "      <th>15304</th>\n",
       "      <td>0.291359</td>\n",
       "    </tr>\n",
       "    <tr>\n",
       "      <th>15305</th>\n",
       "      <td>0.291359</td>\n",
       "    </tr>\n",
       "    <tr>\n",
       "      <th>15306</th>\n",
       "      <td>0.291359</td>\n",
       "    </tr>\n",
       "    <tr>\n",
       "      <th>15307</th>\n",
       "      <td>0.291359</td>\n",
       "    </tr>\n",
       "    <tr>\n",
       "      <th>15308</th>\n",
       "      <td>0.291359</td>\n",
       "    </tr>\n",
       "    <tr>\n",
       "      <th>...</th>\n",
       "      <td>...</td>\n",
       "    </tr>\n",
       "    <tr>\n",
       "      <th>25503</th>\n",
       "      <td>0.291359</td>\n",
       "    </tr>\n",
       "    <tr>\n",
       "      <th>25504</th>\n",
       "      <td>0.291359</td>\n",
       "    </tr>\n",
       "    <tr>\n",
       "      <th>25505</th>\n",
       "      <td>0.291359</td>\n",
       "    </tr>\n",
       "    <tr>\n",
       "      <th>25506</th>\n",
       "      <td>0.291359</td>\n",
       "    </tr>\n",
       "    <tr>\n",
       "      <th>25507</th>\n",
       "      <td>0.291359</td>\n",
       "    </tr>\n",
       "  </tbody>\n",
       "</table>\n",
       "<p>10204 rows × 1 columns</p>\n",
       "</div>"
      ],
      "text/plain": [
       "         stroke\n",
       "id             \n",
       "15304  0.291359\n",
       "15305  0.291359\n",
       "15306  0.291359\n",
       "15307  0.291359\n",
       "15308  0.291359\n",
       "...         ...\n",
       "25503  0.291359\n",
       "25504  0.291359\n",
       "25505  0.291359\n",
       "25506  0.291359\n",
       "25507  0.291359\n",
       "\n",
       "[10204 rows x 1 columns]"
      ]
     },
     "execution_count": 213,
     "metadata": {},
     "output_type": "execute_result"
    }
   ],
   "source": [
    "preds =[]\n",
    "\n",
    "preds.append(model.predict(df_test))\n",
    "pred = np.average(np.array(preds),axis=0)\n",
    "\n",
    "pred\n",
    "\n",
    "# 15-3 경로와 파일명 지정\n",
    "submission = pd.read_csv(path +\"sample_submission.csv\",index_col=\"id\")\n",
    "submission['stroke'] = pred\n",
    "submission['stroke'] = submission['stroke'].clip(0,1)\n",
    "submission"
   ]
  },
  {
   "cell_type": "code",
   "execution_count": null,
   "metadata": {},
   "outputs": [],
   "source": [
    "# 15-2.제촐용을 데이터프레임형으로 변환\n",
    "submission = pd.read_csv(path +\"sample_submission.csv\",index_col=\"id\")\n",
    "\n",
    "# 15-2 제출용의 카운트 칼럼에 y_submit 삽입\n",
    "submission[\"stroke\"] = y_submit.astype(int)\n",
    "# 15-3 경로와 파일명 지정\n",
    "submission.to_csv(path + \"submission_3.csv\")\n"
   ]
  },
  {
   "cell_type": "code",
   "execution_count": null,
   "metadata": {},
   "outputs": [
    {
     "name": "stdout",
     "output_type": "stream",
     "text": [
      "96/96 [==============================] - 0s 2ms/step - loss: 0.1336 - accuracy: 0.9588\n",
      "================================\n",
      "loss :  0.13361206650733948 \n",
      " acc :  0.9588369727134705\n",
      "RMSE :  0.1883381541525112\n",
      "R2   :  0.10127954187530863\n"
     ]
    }
   ],
   "source": [
    "from sklearn.metrics import mean_squared_error\n",
    "from sklearn.metrics import r2_score\n",
    "\n",
    "def RMSE(y_test,y_predict):\n",
    "    return np.sqrt(mean_squared_error(y_test,y_predict))\n",
    "# 평가 손실률 가져오기\n",
    "loss = model.evaluate(x_test,y_test)\n",
    "\n",
    "y_predict =model.predict(x_test)\n",
    "# print(\"=================\")\n",
    "# print(y_test)\n",
    "# print(y_predict)\n",
    "print(\"================================\")\n",
    "print(\"loss : \",loss[0],\"\\n acc : \",loss[1])\n",
    "print(\"RMSE : \",RMSE(y_test,y_predict))\n",
    "print(\"R2   : \",r2_score(y_test,y_predict))"
   ]
  }
 ],
 "metadata": {
  "kernelspec": {
   "display_name": "Python 3",
   "language": "python",
   "name": "python3"
  },
  "language_info": {
   "codemirror_mode": {
    "name": "ipython",
    "version": 3
   },
   "file_extension": ".py",
   "mimetype": "text/x-python",
   "name": "python",
   "nbconvert_exporter": "python",
   "pygments_lexer": "ipython3",
   "version": "3.8.10"
  },
  "orig_nbformat": 4,
  "vscode": {
   "interpreter": {
    "hash": "916dbcbb3f70747c44a77c7bcd40155683ae19c65e1c03b4aa3499c5328201f1"
   }
  }
 },
 "nbformat": 4,
 "nbformat_minor": 2
}
