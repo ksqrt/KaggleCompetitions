{
 "cells": [
  {
   "cell_type": "code",
   "execution_count": 187,
   "metadata": {},
   "outputs": [],
   "source": [
    "# 1 라이브러리 임포트\n",
    "\n",
    "import pandas as pd\n",
    "import numpy as np\n",
    "import tensorflow as tf\n",
    "import sklearn as sk\n",
    "\n",
    "# 알고리즘을 그래픽화 하기위한 라이브러리\n",
    "import seaborn as sns\n",
    "import matplotlib.pylab as plt\n",
    "from matplotlib import rcParams\n",
    "import re\n",
    "from keras.models import Sequential\n",
    "from keras.layers import Dense, Activation, Dropout\n",
    "import keras\n",
    "\n",
    "# 모델생성 라이브러리\n",
    "from tensorflow.keras.models import Sequential\n",
    "from tensorflow.keras.layers import Dense\n",
    "\n",
    "# 데이터 스플릿,스케일링\n",
    "from sklearn.model_selection import train_test_split\n",
    "from sklearn.preprocessing import MinMaxScaler,StandardScaler"
   ]
  },
  {
   "cell_type": "code",
   "execution_count": 188,
   "metadata": {},
   "outputs": [],
   "source": [
    "# 1. 경로 지정과 임포트하기\n",
    "path = (\"./playground-series-s3e2/\")\n",
    "\n",
    "df_train = pd.read_csv(path+\"train.csv\")\n",
    "df_test = pd.read_csv(path+\"test.csv\")\n",
    "\n",
    "# 1-1 겟더미로 문자열 제거 \n",
    "df_train = pd.get_dummies(df_train)\n",
    "df_test  = pd.get_dummies(df_test)\n"
   ]
  },
  {
   "cell_type": "code",
   "execution_count": 189,
   "metadata": {},
   "outputs": [
    {
     "name": "stdout",
     "output_type": "stream",
     "text": [
      "(15304, 12)\n",
      "   id  gender   age  hypertension  heart_disease ever_married work_type  \\\n",
      "0   0    Male  28.0             0              0          Yes   Private   \n",
      "1   1    Male  33.0             0              0          Yes   Private   \n",
      "2   2  Female  42.0             0              0          Yes   Private   \n",
      "3   3    Male  56.0             0              0          Yes   Private   \n",
      "4   4  Female  24.0             0              0           No   Private   \n",
      "\n",
      "  Residence_type  avg_glucose_level   bmi   smoking_status  stroke  \n",
      "0          Urban              79.53  31.1     never smoked       0  \n",
      "1          Rural              78.44  23.9  formerly smoked       0  \n",
      "2          Rural             103.00  40.3          Unknown       0  \n",
      "3          Urban              64.87  28.8     never smoked       0  \n",
      "4          Rural              73.36  28.8     never smoked       0  \n"
     ]
    }
   ],
   "source": [
    "# 2. 데이터 조회\n",
    "print(df_train.shape)\n",
    "print(df_train.head())"
   ]
  },
  {
   "cell_type": "code",
   "execution_count": 190,
   "metadata": {},
   "outputs": [
    {
     "data": {
      "text/plain": [
       "id                   False\n",
       "gender               False\n",
       "age                  False\n",
       "hypertension         False\n",
       "heart_disease        False\n",
       "ever_married         False\n",
       "work_type            False\n",
       "Residence_type       False\n",
       "avg_glucose_level    False\n",
       "bmi                  False\n",
       "smoking_status       False\n",
       "stroke               False\n",
       "dtype: bool"
      ]
     },
     "execution_count": 190,
     "metadata": {},
     "output_type": "execute_result"
    }
   ],
   "source": [
    "# 3.널값 확인\n",
    "df_train.isnull().any()\n",
    "# 아에 널값이 없는 정제된 데이터를 확인.. ㄷㄷ"
   ]
  },
  {
   "cell_type": "code",
   "execution_count": 191,
   "metadata": {},
   "outputs": [
    {
     "name": "stdout",
     "output_type": "stream",
     "text": [
      "(15304, 10) (15304,)\n"
     ]
    }
   ],
   "source": [
    "# 4. 데이터 전처리 \n",
    "# 데이터 스플릿과 스케일링 할꺼임 \n",
    "# 결측치가 없어서 결측치 처리는 안해도됨\n",
    "\n",
    "# 4-1 데이터를 x와 y 로 분할\n",
    "x = df_train.drop([\"stroke\"],axis=1)\n",
    "y = df_train[\"stroke\"]\n",
    "x = x.drop([\"id\"],axis=1)\n",
    "# y = y.drop([\"id\"],axis=1)\n",
    "print(x.shape,y.shape)"
   ]
  },
  {
   "cell_type": "code",
   "execution_count": 192,
   "metadata": {},
   "outputs": [
    {
     "name": "stdout",
     "output_type": "stream",
     "text": [
      "(12243, 10) (3061, 10)\n",
      "(12243,) (3061,)\n"
     ]
    }
   ],
   "source": [
    "# 4-2 테스트 데이터와 훈련 데이터로 스플릿\n",
    "\n",
    "x_train, x_test, y_train,y_test = train_test_split(\n",
    "    x,\n",
    "    y,\n",
    "    train_size=0.8,\n",
    "    shuffle = True,\n",
    "    stratify = y,\n",
    "    # random_state=21\n",
    ")\n",
    "print(x_train.shape,x_test.shape)\n",
    "print(y_train.shape,y_test.shape)"
   ]
  },
  {
   "cell_type": "code",
   "execution_count": 193,
   "metadata": {},
   "outputs": [],
   "source": [
    "# 4-3 문자열 겟더미로 인덱싱\n",
    "# df_train = pd.get_dummies(df_train, columns=[\"gender\",\"ever_married\",\"work_type\",\"Residence_type\",\"smoking_status\"],\\\n",
    "#                           prefix=[\"gender\",\"ever_married\",\"work_type\",\"Residence_type\",\"smoking_status\"], drop_first=True)\n",
    "# df_test = pd.get_dummies(df_test, columns=[\"gender\",\"ever_married\",\"work_type\",\"Residence_type\",\"smoking_status\"],\\\n",
    "#                           prefix=[\"gender\",\"ever_married\",\"work_type\",\"Residence_type\",\"smoking_status\"], drop_first=True)\n"
   ]
  },
  {
   "cell_type": "code",
   "execution_count": 194,
   "metadata": {},
   "outputs": [
    {
     "name": "stdout",
     "output_type": "stream",
     "text": [
      "<class 'pandas.core.frame.DataFrame'>\n",
      "RangeIndex: 15304 entries, 0 to 15303\n",
      "Data columns (total 12 columns):\n",
      " #   Column             Non-Null Count  Dtype  \n",
      "---  ------             --------------  -----  \n",
      " 0   id                 15304 non-null  int64  \n",
      " 1   gender             15304 non-null  object \n",
      " 2   age                15304 non-null  float64\n",
      " 3   hypertension       15304 non-null  int64  \n",
      " 4   heart_disease      15304 non-null  int64  \n",
      " 5   ever_married       15304 non-null  object \n",
      " 6   work_type          15304 non-null  object \n",
      " 7   Residence_type     15304 non-null  object \n",
      " 8   avg_glucose_level  15304 non-null  float64\n",
      " 9   bmi                15304 non-null  float64\n",
      " 10  smoking_status     15304 non-null  object \n",
      " 11  stroke             15304 non-null  int64  \n",
      "dtypes: float64(3), int64(4), object(5)\n",
      "memory usage: 1.4+ MB\n"
     ]
    }
   ],
   "source": [
    "df_train.info()"
   ]
  },
  {
   "cell_type": "code",
   "execution_count": 195,
   "metadata": {},
   "outputs": [
    {
     "ename": "ValueError",
     "evalue": "could not convert string to float: 'Female'",
     "output_type": "error",
     "traceback": [
      "\u001b[1;31m---------------------------------------------------------------------------\u001b[0m",
      "\u001b[1;31mValueError\u001b[0m                                Traceback (most recent call last)",
      "\u001b[1;32m~\\AppData\\Local\\Temp\\ipykernel_14252\\2328156285.py\u001b[0m in \u001b[0;36m<module>\u001b[1;34m\u001b[0m\n\u001b[0;32m      3\u001b[0m \u001b[0mscaler\u001b[0m \u001b[1;33m=\u001b[0m \u001b[0mMinMaxScaler\u001b[0m\u001b[1;33m(\u001b[0m\u001b[1;33m)\u001b[0m\u001b[1;33m\u001b[0m\u001b[1;33m\u001b[0m\u001b[0m\n\u001b[0;32m      4\u001b[0m \u001b[1;33m\u001b[0m\u001b[0m\n\u001b[1;32m----> 5\u001b[1;33m \u001b[0mscaler\u001b[0m\u001b[1;33m.\u001b[0m\u001b[0mfit\u001b[0m\u001b[1;33m(\u001b[0m\u001b[0mx_train\u001b[0m\u001b[1;33m)\u001b[0m\u001b[1;33m\u001b[0m\u001b[1;33m\u001b[0m\u001b[0m\n\u001b[0m\u001b[0;32m      6\u001b[0m \u001b[0mx_train\u001b[0m \u001b[1;33m=\u001b[0m \u001b[0mscaler\u001b[0m\u001b[1;33m.\u001b[0m\u001b[0mtransform\u001b[0m\u001b[1;33m(\u001b[0m\u001b[0mx_train\u001b[0m\u001b[1;33m)\u001b[0m\u001b[1;33m\u001b[0m\u001b[1;33m\u001b[0m\u001b[0m\n\u001b[0;32m      7\u001b[0m \u001b[0mx_test\u001b[0m \u001b[1;33m=\u001b[0m \u001b[0mscaler\u001b[0m\u001b[1;33m.\u001b[0m\u001b[0mtransform\u001b[0m\u001b[1;33m(\u001b[0m\u001b[0mx_test\u001b[0m\u001b[1;33m)\u001b[0m\u001b[1;33m\u001b[0m\u001b[1;33m\u001b[0m\u001b[0m\n",
      "\u001b[1;32mc:\\Users\\bitcamp\\anaconda3\\envs\\tf274gpu\\lib\\site-packages\\sklearn\\preprocessing\\_data.py\u001b[0m in \u001b[0;36mfit\u001b[1;34m(self, X, y)\u001b[0m\n\u001b[0;32m    418\u001b[0m         \u001b[1;31m# Reset internal state before fitting\u001b[0m\u001b[1;33m\u001b[0m\u001b[1;33m\u001b[0m\u001b[0m\n\u001b[0;32m    419\u001b[0m         \u001b[0mself\u001b[0m\u001b[1;33m.\u001b[0m\u001b[0m_reset\u001b[0m\u001b[1;33m(\u001b[0m\u001b[1;33m)\u001b[0m\u001b[1;33m\u001b[0m\u001b[1;33m\u001b[0m\u001b[0m\n\u001b[1;32m--> 420\u001b[1;33m         \u001b[1;32mreturn\u001b[0m \u001b[0mself\u001b[0m\u001b[1;33m.\u001b[0m\u001b[0mpartial_fit\u001b[0m\u001b[1;33m(\u001b[0m\u001b[0mX\u001b[0m\u001b[1;33m,\u001b[0m \u001b[0my\u001b[0m\u001b[1;33m)\u001b[0m\u001b[1;33m\u001b[0m\u001b[1;33m\u001b[0m\u001b[0m\n\u001b[0m\u001b[0;32m    421\u001b[0m \u001b[1;33m\u001b[0m\u001b[0m\n\u001b[0;32m    422\u001b[0m     \u001b[1;32mdef\u001b[0m \u001b[0mpartial_fit\u001b[0m\u001b[1;33m(\u001b[0m\u001b[0mself\u001b[0m\u001b[1;33m,\u001b[0m \u001b[0mX\u001b[0m\u001b[1;33m,\u001b[0m \u001b[0my\u001b[0m\u001b[1;33m=\u001b[0m\u001b[1;32mNone\u001b[0m\u001b[1;33m)\u001b[0m\u001b[1;33m:\u001b[0m\u001b[1;33m\u001b[0m\u001b[1;33m\u001b[0m\u001b[0m\n",
      "\u001b[1;32mc:\\Users\\bitcamp\\anaconda3\\envs\\tf274gpu\\lib\\site-packages\\sklearn\\preprocessing\\_data.py\u001b[0m in \u001b[0;36mpartial_fit\u001b[1;34m(self, X, y)\u001b[0m\n\u001b[0;32m    455\u001b[0m \u001b[1;33m\u001b[0m\u001b[0m\n\u001b[0;32m    456\u001b[0m         \u001b[0mfirst_pass\u001b[0m \u001b[1;33m=\u001b[0m \u001b[1;32mnot\u001b[0m \u001b[0mhasattr\u001b[0m\u001b[1;33m(\u001b[0m\u001b[0mself\u001b[0m\u001b[1;33m,\u001b[0m \u001b[1;34m\"n_samples_seen_\"\u001b[0m\u001b[1;33m)\u001b[0m\u001b[1;33m\u001b[0m\u001b[1;33m\u001b[0m\u001b[0m\n\u001b[1;32m--> 457\u001b[1;33m         X = self._validate_data(\n\u001b[0m\u001b[0;32m    458\u001b[0m             \u001b[0mX\u001b[0m\u001b[1;33m,\u001b[0m\u001b[1;33m\u001b[0m\u001b[1;33m\u001b[0m\u001b[0m\n\u001b[0;32m    459\u001b[0m             \u001b[0mreset\u001b[0m\u001b[1;33m=\u001b[0m\u001b[0mfirst_pass\u001b[0m\u001b[1;33m,\u001b[0m\u001b[1;33m\u001b[0m\u001b[1;33m\u001b[0m\u001b[0m\n",
      "\u001b[1;32mc:\\Users\\bitcamp\\anaconda3\\envs\\tf274gpu\\lib\\site-packages\\sklearn\\base.py\u001b[0m in \u001b[0;36m_validate_data\u001b[1;34m(self, X, y, reset, validate_separately, **check_params)\u001b[0m\n\u001b[0;32m    575\u001b[0m             \u001b[1;32mraise\u001b[0m \u001b[0mValueError\u001b[0m\u001b[1;33m(\u001b[0m\u001b[1;34m\"Validation should be done on X, y or both.\"\u001b[0m\u001b[1;33m)\u001b[0m\u001b[1;33m\u001b[0m\u001b[1;33m\u001b[0m\u001b[0m\n\u001b[0;32m    576\u001b[0m         \u001b[1;32melif\u001b[0m \u001b[1;32mnot\u001b[0m \u001b[0mno_val_X\u001b[0m \u001b[1;32mand\u001b[0m \u001b[0mno_val_y\u001b[0m\u001b[1;33m:\u001b[0m\u001b[1;33m\u001b[0m\u001b[1;33m\u001b[0m\u001b[0m\n\u001b[1;32m--> 577\u001b[1;33m             \u001b[0mX\u001b[0m \u001b[1;33m=\u001b[0m \u001b[0mcheck_array\u001b[0m\u001b[1;33m(\u001b[0m\u001b[0mX\u001b[0m\u001b[1;33m,\u001b[0m \u001b[0minput_name\u001b[0m\u001b[1;33m=\u001b[0m\u001b[1;34m\"X\"\u001b[0m\u001b[1;33m,\u001b[0m \u001b[1;33m**\u001b[0m\u001b[0mcheck_params\u001b[0m\u001b[1;33m)\u001b[0m\u001b[1;33m\u001b[0m\u001b[1;33m\u001b[0m\u001b[0m\n\u001b[0m\u001b[0;32m    578\u001b[0m             \u001b[0mout\u001b[0m \u001b[1;33m=\u001b[0m \u001b[0mX\u001b[0m\u001b[1;33m\u001b[0m\u001b[1;33m\u001b[0m\u001b[0m\n\u001b[0;32m    579\u001b[0m         \u001b[1;32melif\u001b[0m \u001b[0mno_val_X\u001b[0m \u001b[1;32mand\u001b[0m \u001b[1;32mnot\u001b[0m \u001b[0mno_val_y\u001b[0m\u001b[1;33m:\u001b[0m\u001b[1;33m\u001b[0m\u001b[1;33m\u001b[0m\u001b[0m\n",
      "\u001b[1;32mc:\\Users\\bitcamp\\anaconda3\\envs\\tf274gpu\\lib\\site-packages\\sklearn\\utils\\validation.py\u001b[0m in \u001b[0;36mcheck_array\u001b[1;34m(array, accept_sparse, accept_large_sparse, dtype, order, copy, force_all_finite, ensure_2d, allow_nd, ensure_min_samples, ensure_min_features, estimator, input_name)\u001b[0m\n\u001b[0;32m    854\u001b[0m                     \u001b[0marray\u001b[0m \u001b[1;33m=\u001b[0m \u001b[0marray\u001b[0m\u001b[1;33m.\u001b[0m\u001b[0mastype\u001b[0m\u001b[1;33m(\u001b[0m\u001b[0mdtype\u001b[0m\u001b[1;33m,\u001b[0m \u001b[0mcasting\u001b[0m\u001b[1;33m=\u001b[0m\u001b[1;34m\"unsafe\"\u001b[0m\u001b[1;33m,\u001b[0m \u001b[0mcopy\u001b[0m\u001b[1;33m=\u001b[0m\u001b[1;32mFalse\u001b[0m\u001b[1;33m)\u001b[0m\u001b[1;33m\u001b[0m\u001b[1;33m\u001b[0m\u001b[0m\n\u001b[0;32m    855\u001b[0m                 \u001b[1;32melse\u001b[0m\u001b[1;33m:\u001b[0m\u001b[1;33m\u001b[0m\u001b[1;33m\u001b[0m\u001b[0m\n\u001b[1;32m--> 856\u001b[1;33m                     \u001b[0marray\u001b[0m \u001b[1;33m=\u001b[0m \u001b[0mnp\u001b[0m\u001b[1;33m.\u001b[0m\u001b[0masarray\u001b[0m\u001b[1;33m(\u001b[0m\u001b[0marray\u001b[0m\u001b[1;33m,\u001b[0m \u001b[0morder\u001b[0m\u001b[1;33m=\u001b[0m\u001b[0morder\u001b[0m\u001b[1;33m,\u001b[0m \u001b[0mdtype\u001b[0m\u001b[1;33m=\u001b[0m\u001b[0mdtype\u001b[0m\u001b[1;33m)\u001b[0m\u001b[1;33m\u001b[0m\u001b[1;33m\u001b[0m\u001b[0m\n\u001b[0m\u001b[0;32m    857\u001b[0m             \u001b[1;32mexcept\u001b[0m \u001b[0mComplexWarning\u001b[0m \u001b[1;32mas\u001b[0m \u001b[0mcomplex_warning\u001b[0m\u001b[1;33m:\u001b[0m\u001b[1;33m\u001b[0m\u001b[1;33m\u001b[0m\u001b[0m\n\u001b[0;32m    858\u001b[0m                 raise ValueError(\n",
      "\u001b[1;32mc:\\Users\\bitcamp\\anaconda3\\envs\\tf274gpu\\lib\\site-packages\\pandas\\core\\generic.py\u001b[0m in \u001b[0;36m__array__\u001b[1;34m(self, dtype)\u001b[0m\n\u001b[0;32m   2068\u001b[0m \u001b[1;33m\u001b[0m\u001b[0m\n\u001b[0;32m   2069\u001b[0m     \u001b[1;32mdef\u001b[0m \u001b[0m__array__\u001b[0m\u001b[1;33m(\u001b[0m\u001b[0mself\u001b[0m\u001b[1;33m,\u001b[0m \u001b[0mdtype\u001b[0m\u001b[1;33m:\u001b[0m \u001b[0mnpt\u001b[0m\u001b[1;33m.\u001b[0m\u001b[0mDTypeLike\u001b[0m \u001b[1;33m|\u001b[0m \u001b[1;32mNone\u001b[0m \u001b[1;33m=\u001b[0m \u001b[1;32mNone\u001b[0m\u001b[1;33m)\u001b[0m \u001b[1;33m->\u001b[0m \u001b[0mnp\u001b[0m\u001b[1;33m.\u001b[0m\u001b[0mndarray\u001b[0m\u001b[1;33m:\u001b[0m\u001b[1;33m\u001b[0m\u001b[1;33m\u001b[0m\u001b[0m\n\u001b[1;32m-> 2070\u001b[1;33m         \u001b[1;32mreturn\u001b[0m \u001b[0mnp\u001b[0m\u001b[1;33m.\u001b[0m\u001b[0masarray\u001b[0m\u001b[1;33m(\u001b[0m\u001b[0mself\u001b[0m\u001b[1;33m.\u001b[0m\u001b[0m_values\u001b[0m\u001b[1;33m,\u001b[0m \u001b[0mdtype\u001b[0m\u001b[1;33m=\u001b[0m\u001b[0mdtype\u001b[0m\u001b[1;33m)\u001b[0m\u001b[1;33m\u001b[0m\u001b[1;33m\u001b[0m\u001b[0m\n\u001b[0m\u001b[0;32m   2071\u001b[0m \u001b[1;33m\u001b[0m\u001b[0m\n\u001b[0;32m   2072\u001b[0m     def __array_wrap__(\n",
      "\u001b[1;31mValueError\u001b[0m: could not convert string to float: 'Female'"
     ]
    }
   ],
   "source": [
    "\n",
    "# 4-3 데이터스케일링\n",
    "\n",
    "scaler = MinMaxScaler()\n",
    "\n",
    "scaler.fit(x_train)\n",
    "x_train = scaler.transform(x_train)\n",
    "x_test = scaler.transform(x_test)\n"
   ]
  },
  {
   "cell_type": "code",
   "execution_count": null,
   "metadata": {},
   "outputs": [
    {
     "name": "stdout",
     "output_type": "stream",
     "text": [
      "(12243, 21) (12243,)\n"
     ]
    }
   ],
   "source": [
    "print(x_train.shape,y_train.shape)"
   ]
  },
  {
   "cell_type": "code",
   "execution_count": null,
   "metadata": {},
   "outputs": [],
   "source": [
    "# 5 모델구성\n",
    "\n",
    "dr = 0.1\n",
    "model = Sequential([\n",
    "    Dense(256,input_dim=21,activation=\"relu\"),\n",
    "    Dropout(rate=dr),\n",
    "    Dense(128,activation=\"relu\"),\n",
    "    Dropout(rate=dr),\n",
    "    Dense(64,activation=\"relu\"),\n",
    "    Dropout(rate=dr),\n",
    "    Dense(32,activation=\"relu\"),\n",
    "    Dropout(rate=dr),\n",
    "    Dense(16,activation=\"relu\"),\n",
    "    Dropout(rate=dr),\n",
    "    Dense(8,activation=\"relu\"),\n",
    "    Dropout(rate=dr),\n",
    "    Dense(4,activation=\"relu\"),\n",
    "    Dropout(rate=dr),\n",
    "    Dense(2,activation=\"relu\"),\n",
    "    Dropout(rate=dr),\n",
    "# 이진분할 이기때문에 출력층 1 , sigmoid\n",
    "    Dense(1,activation=\"sigmoid\")\n",
    "])\n"
   ]
  },
  {
   "cell_type": "code",
   "execution_count": null,
   "metadata": {},
   "outputs": [
    {
     "name": "stderr",
     "output_type": "stream",
     "text": [
      "c:\\Users\\bitcamp\\anaconda3\\envs\\tf274gpu\\lib\\site-packages\\keras\\engine\\data_adapter.py:1510: FutureWarning: The behavior of `series[i:j]` with an integer-dtype index is deprecated. In a future version, this will be treated as *label-based* indexing, consistent with e.g. `series[i]` lookups. To retain the old behavior, use `series.iloc[i:j]`. To get the future behavior, use `series.loc[i:j]`.\n",
      "  return t[start:end]\n"
     ]
    },
    {
     "name": "stdout",
     "output_type": "stream",
     "text": [
      "Epoch 1/500\n",
      "154/154 [==============================] - 1s 6ms/step - loss: 0.6600 - accuracy: 0.9535 - val_loss: 0.6269 - val_accuracy: 0.9539 - lr: 0.0010\n",
      "Epoch 2/500\n",
      "154/154 [==============================] - 1s 5ms/step - loss: 0.5966 - accuracy: 0.9599 - val_loss: 0.5693 - val_accuracy: 0.9539 - lr: 0.0010\n",
      "Epoch 3/500\n",
      "154/154 [==============================] - 1s 5ms/step - loss: 0.5417 - accuracy: 0.9599 - val_loss: 0.5189 - val_accuracy: 0.9539 - lr: 0.0010\n",
      "Epoch 4/500\n",
      "154/154 [==============================] - 1s 5ms/step - loss: 0.4937 - accuracy: 0.9599 - val_loss: 0.4750 - val_accuracy: 0.9539 - lr: 0.0010\n",
      "Epoch 5/500\n",
      "154/154 [==============================] - 1s 5ms/step - loss: 0.4519 - accuracy: 0.9599 - val_loss: 0.4368 - val_accuracy: 0.9539 - lr: 0.0010\n",
      "Epoch 6/500\n",
      "154/154 [==============================] - 1s 5ms/step - loss: 0.4154 - accuracy: 0.9599 - val_loss: 0.4036 - val_accuracy: 0.9539 - lr: 0.0010\n",
      "Epoch 7/500\n",
      "154/154 [==============================] - 1s 5ms/step - loss: 0.3837 - accuracy: 0.9599 - val_loss: 0.3746 - val_accuracy: 0.9539 - lr: 0.0010\n",
      "Epoch 8/500\n",
      "154/154 [==============================] - 1s 5ms/step - loss: 0.3560 - accuracy: 0.9599 - val_loss: 0.3495 - val_accuracy: 0.9539 - lr: 0.0010\n",
      "Epoch 9/500\n",
      "154/154 [==============================] - 1s 6ms/step - loss: 0.3319 - accuracy: 0.9599 - val_loss: 0.3277 - val_accuracy: 0.9539 - lr: 0.0010\n",
      "Epoch 10/500\n",
      "154/154 [==============================] - 1s 5ms/step - loss: 0.3108 - accuracy: 0.9599 - val_loss: 0.3087 - val_accuracy: 0.9539 - lr: 0.0010\n",
      "Epoch 11/500\n",
      "154/154 [==============================] - 1s 5ms/step - loss: 0.2925 - accuracy: 0.9599 - val_loss: 0.2922 - val_accuracy: 0.9539 - lr: 0.0010\n",
      "Epoch 12/500\n",
      "154/154 [==============================] - 1s 5ms/step - loss: 0.2765 - accuracy: 0.9599 - val_loss: 0.2777 - val_accuracy: 0.9539 - lr: 0.0010\n",
      "Epoch 13/500\n",
      "154/154 [==============================] - 1s 6ms/step - loss: 0.2624 - accuracy: 0.9599 - val_loss: 0.2652 - val_accuracy: 0.9539 - lr: 0.0010\n",
      "Epoch 14/500\n",
      "154/154 [==============================] - 1s 5ms/step - loss: 0.2502 - accuracy: 0.9599 - val_loss: 0.2543 - val_accuracy: 0.9539 - lr: 0.0010\n",
      "Epoch 15/500\n",
      "154/154 [==============================] - 1s 5ms/step - loss: 0.2394 - accuracy: 0.9599 - val_loss: 0.2448 - val_accuracy: 0.9539 - lr: 0.0010\n",
      "Epoch 16/500\n",
      "154/154 [==============================] - 1s 5ms/step - loss: 0.2300 - accuracy: 0.9599 - val_loss: 0.2365 - val_accuracy: 0.9539 - lr: 0.0010\n",
      "Epoch 17/500\n",
      "154/154 [==============================] - 1s 5ms/step - loss: 0.2220 - accuracy: 0.9599 - val_loss: 0.2294 - val_accuracy: 0.9539 - lr: 0.0010\n",
      "Epoch 18/500\n",
      "154/154 [==============================] - 1s 5ms/step - loss: 0.2148 - accuracy: 0.9599 - val_loss: 0.2231 - val_accuracy: 0.9539 - lr: 0.0010\n",
      "Epoch 19/500\n",
      "154/154 [==============================] - 1s 5ms/step - loss: 0.2084 - accuracy: 0.9599 - val_loss: 0.2176 - val_accuracy: 0.9539 - lr: 0.0010\n",
      "Epoch 20/500\n",
      "154/154 [==============================] - 1s 5ms/step - loss: 0.2028 - accuracy: 0.9599 - val_loss: 0.2128 - val_accuracy: 0.9539 - lr: 0.0010\n",
      "Epoch 21/500\n",
      "154/154 [==============================] - 1s 5ms/step - loss: 0.1979 - accuracy: 0.9599 - val_loss: 0.2087 - val_accuracy: 0.9539 - lr: 0.0010\n",
      "Epoch 22/500\n",
      "154/154 [==============================] - 1s 5ms/step - loss: 0.1937 - accuracy: 0.9599 - val_loss: 0.2051 - val_accuracy: 0.9539 - lr: 0.0010\n",
      "Epoch 23/500\n",
      "154/154 [==============================] - 1s 5ms/step - loss: 0.1900 - accuracy: 0.9599 - val_loss: 0.2020 - val_accuracy: 0.9539 - lr: 0.0010\n",
      "Epoch 24/500\n",
      "154/154 [==============================] - 1s 5ms/step - loss: 0.1867 - accuracy: 0.9599 - val_loss: 0.1994 - val_accuracy: 0.9539 - lr: 0.0010\n",
      "Epoch 25/500\n",
      "154/154 [==============================] - 1s 5ms/step - loss: 0.1839 - accuracy: 0.9599 - val_loss: 0.1971 - val_accuracy: 0.9539 - lr: 0.0010\n",
      "Epoch 26/500\n",
      "154/154 [==============================] - 1s 5ms/step - loss: 0.1814 - accuracy: 0.9599 - val_loss: 0.1952 - val_accuracy: 0.9539 - lr: 0.0010\n",
      "Epoch 27/500\n",
      "154/154 [==============================] - 1s 5ms/step - loss: 0.1795 - accuracy: 0.9599 - val_loss: 0.1937 - val_accuracy: 0.9539 - lr: 0.0010\n",
      "Epoch 28/500\n",
      "154/154 [==============================] - 1s 5ms/step - loss: 0.1776 - accuracy: 0.9599 - val_loss: 0.1922 - val_accuracy: 0.9539 - lr: 0.0010\n",
      "Epoch 29/500\n",
      "154/154 [==============================] - 1s 5ms/step - loss: 0.1760 - accuracy: 0.9599 - val_loss: 0.1911 - val_accuracy: 0.9539 - lr: 0.0010\n",
      "Epoch 30/500\n",
      "154/154 [==============================] - 1s 5ms/step - loss: 0.1747 - accuracy: 0.9599 - val_loss: 0.1901 - val_accuracy: 0.9539 - lr: 0.0010\n",
      "Epoch 31/500\n",
      "154/154 [==============================] - 1s 5ms/step - loss: 0.1735 - accuracy: 0.9599 - val_loss: 0.1894 - val_accuracy: 0.9539 - lr: 0.0010\n",
      "Epoch 32/500\n",
      "154/154 [==============================] - 1s 5ms/step - loss: 0.1726 - accuracy: 0.9599 - val_loss: 0.1887 - val_accuracy: 0.9539 - lr: 0.0010\n",
      "Epoch 33/500\n",
      "154/154 [==============================] - 1s 5ms/step - loss: 0.1718 - accuracy: 0.9599 - val_loss: 0.1882 - val_accuracy: 0.9539 - lr: 0.0010\n",
      "Epoch 34/500\n",
      "154/154 [==============================] - 1s 5ms/step - loss: 0.1711 - accuracy: 0.9599 - val_loss: 0.1878 - val_accuracy: 0.9539 - lr: 0.0010\n",
      "Epoch 35/500\n",
      "154/154 [==============================] - 1s 5ms/step - loss: 0.1705 - accuracy: 0.9599 - val_loss: 0.1875 - val_accuracy: 0.9539 - lr: 0.0010\n",
      "Epoch 36/500\n",
      "154/154 [==============================] - 1s 5ms/step - loss: 0.1700 - accuracy: 0.9599 - val_loss: 0.1873 - val_accuracy: 0.9539 - lr: 0.0010\n",
      "Epoch 37/500\n",
      "154/154 [==============================] - 1s 5ms/step - loss: 0.1697 - accuracy: 0.9599 - val_loss: 0.1872 - val_accuracy: 0.9539 - lr: 0.0010\n",
      "Epoch 38/500\n",
      "154/154 [==============================] - 1s 5ms/step - loss: 0.1694 - accuracy: 0.9599 - val_loss: 0.1871 - val_accuracy: 0.9539 - lr: 0.0010\n",
      "Epoch 39/500\n",
      "154/154 [==============================] - 1s 5ms/step - loss: 0.1691 - accuracy: 0.9599 - val_loss: 0.1870 - val_accuracy: 0.9539 - lr: 0.0010\n",
      "Epoch 40/500\n",
      "154/154 [==============================] - 1s 5ms/step - loss: 0.1689 - accuracy: 0.9599 - val_loss: 0.1870 - val_accuracy: 0.9539 - lr: 0.0010\n",
      "Epoch 41/500\n",
      "154/154 [==============================] - 1s 5ms/step - loss: 0.1688 - accuracy: 0.9599 - val_loss: 0.1870 - val_accuracy: 0.9539 - lr: 0.0010\n",
      "Epoch 42/500\n",
      "154/154 [==============================] - 1s 5ms/step - loss: 0.1687 - accuracy: 0.9599 - val_loss: 0.1870 - val_accuracy: 0.9539 - lr: 0.0010\n",
      "Epoch 43/500\n",
      "154/154 [==============================] - 1s 5ms/step - loss: 0.1686 - accuracy: 0.9599 - val_loss: 0.1870 - val_accuracy: 0.9539 - lr: 0.0010\n",
      "Epoch 44/500\n",
      "154/154 [==============================] - 1s 5ms/step - loss: 0.1685 - accuracy: 0.9599 - val_loss: 0.1870 - val_accuracy: 0.9539 - lr: 1.0000e-04\n",
      "Epoch 45/500\n",
      "154/154 [==============================] - 1s 5ms/step - loss: 0.1685 - accuracy: 0.9599 - val_loss: 0.1871 - val_accuracy: 0.9539 - lr: 1.0000e-04\n",
      "Epoch 46/500\n",
      "154/154 [==============================] - 1s 5ms/step - loss: 0.1685 - accuracy: 0.9599 - val_loss: 0.1871 - val_accuracy: 0.9539 - lr: 1.0000e-04\n",
      "Epoch 47/500\n",
      "154/154 [==============================] - 1s 5ms/step - loss: 0.1685 - accuracy: 0.9599 - val_loss: 0.1871 - val_accuracy: 0.9539 - lr: 1.0000e-05\n",
      "Epoch 48/500\n",
      "154/154 [==============================] - 1s 5ms/step - loss: 0.1685 - accuracy: 0.9599 - val_loss: 0.1871 - val_accuracy: 0.9539 - lr: 1.0000e-05\n",
      "Epoch 49/500\n",
      "154/154 [==============================] - 1s 5ms/step - loss: 0.1685 - accuracy: 0.9599 - val_loss: 0.1871 - val_accuracy: 0.9539 - lr: 1.0000e-05\n",
      "Epoch 50/500\n",
      "154/154 [==============================] - 1s 5ms/step - loss: 0.1685 - accuracy: 0.9599 - val_loss: 0.1871 - val_accuracy: 0.9539 - lr: 1.0000e-06\n",
      "Epoch 51/500\n",
      "154/154 [==============================] - 1s 5ms/step - loss: 0.1685 - accuracy: 0.9599 - val_loss: 0.1871 - val_accuracy: 0.9539 - lr: 1.0000e-06\n",
      "Epoch 52/500\n",
      "154/154 [==============================] - 1s 5ms/step - loss: 0.1685 - accuracy: 0.9599 - val_loss: 0.1871 - val_accuracy: 0.9539 - lr: 1.0000e-06\n",
      "Epoch 53/500\n",
      "154/154 [==============================] - 1s 5ms/step - loss: 0.1685 - accuracy: 0.9599 - val_loss: 0.1871 - val_accuracy: 0.9539 - lr: 1.0000e-07\n",
      "Epoch 54/500\n",
      "154/154 [==============================] - 1s 5ms/step - loss: 0.1685 - accuracy: 0.9599 - val_loss: 0.1871 - val_accuracy: 0.9539 - lr: 1.0000e-07\n",
      "Epoch 55/500\n",
      "154/154 [==============================] - 1s 5ms/step - loss: 0.1685 - accuracy: 0.9599 - val_loss: 0.1871 - val_accuracy: 0.9539 - lr: 1.0000e-07\n",
      "Epoch 56/500\n",
      "154/154 [==============================] - 1s 5ms/step - loss: 0.1685 - accuracy: 0.9599 - val_loss: 0.1871 - val_accuracy: 0.9539 - lr: 1.0000e-08\n",
      "Epoch 57/500\n",
      "154/154 [==============================] - 1s 5ms/step - loss: 0.1685 - accuracy: 0.9599 - val_loss: 0.1871 - val_accuracy: 0.9539 - lr: 1.0000e-08\n",
      "Epoch 58/500\n",
      "154/154 [==============================] - 1s 5ms/step - loss: 0.1685 - accuracy: 0.9599 - val_loss: 0.1871 - val_accuracy: 0.9539 - lr: 1.0000e-08\n",
      "Epoch 59/500\n",
      "154/154 [==============================] - 1s 5ms/step - loss: 0.1685 - accuracy: 0.9599 - val_loss: 0.1871 - val_accuracy: 0.9539 - lr: 1.0000e-08\n",
      "Epoch 00059: early stopping\n"
     ]
    }
   ],
   "source": [
    "from keras.callbacks import EarlyStopping,ReduceLROnPlateau\n",
    "\n",
    "early_stopping = EarlyStopping(\n",
    "monitor='val_loss',\n",
    "min_delta=0.01, patience=30, \n",
    "verbose=1, \n",
    "mode='min')\n",
    "\n",
    "plat =ReduceLROnPlateau(\n",
    "        monitor=\"val_loss\", \n",
    "        mode='min', \n",
    "        patience=3, \n",
    "        factor=0.1, \n",
    "        min_lr=1e-8, \n",
    "        min_delta=0.000001)\n",
    "\n",
    "# 이진분할 이기 떄문에 로스 binary_crossentropy\n",
    "model.compile(loss=\"binary_crossentropy\",optimizer=\"adam\",metrics=[\"accuracy\"])\n",
    "\n",
    "# \n",
    "hist = model.fit(x_train, y_train, epochs=500, \n",
    "                 validation_split=0.2,\n",
    "                 batch_size=64,\n",
    "                 verbose=1,\n",
    "                 callbacks = [early_stopping,plat])\n"
   ]
  },
  {
   "cell_type": "code",
   "execution_count": null,
   "metadata": {},
   "outputs": [
    {
     "name": "stdout",
     "output_type": "stream",
     "text": [
      "409/409 [==============================] - 1s 2ms/step - loss: 0.1722 - accuracy: 0.9587\n",
      "accuracy: 95.87%\n"
     ]
    }
   ],
   "source": [
    "scores = model.evaluate(x_train, y_train, batch_size=30)\n",
    "print(\"%s: %.2f%%\" % (model.metrics_names[1], scores[1]*100))"
   ]
  },
  {
   "cell_type": "code",
   "execution_count": null,
   "metadata": {},
   "outputs": [
    {
     "data": {
      "image/png": "[encoded data removed]",
      "text/plain": [
       "<Figure size 640x480 with 1 Axes>"
      ]
     },
     "metadata": {},
     "output_type": "display_data"
    }
   ],
   "source": [
    "plt.plot(hist.history['accuracy'])\n",
    "plt.plot(hist.history['val_accuracy'])\n",
    "plt.title('Model Accuracy')\n",
    "plt.ylabel('Accuracy')\n",
    "plt.xlabel('Epoch')\n",
    "plt.legend(['train', 'test'], loc='upper left')\n",
    "plt.show()"
   ]
  },
  {
   "cell_type": "code",
   "execution_count": null,
   "metadata": {},
   "outputs": [
    {
     "data": {
      "image/png": "[encoded data removed]",
      "text/plain": [
       "<Figure size 640x480 with 1 Axes>"
      ]
     },
     "metadata": {},
     "output_type": "display_data"
    }
   ],
   "source": [
    "plt.plot(hist.history['loss'])\n",
    "plt.plot(hist.history['val_loss'])\n",
    "plt.title('Model Accuracy')\n",
    "plt.ylabel('Accuracy')\n",
    "plt.xlabel('Epoch')\n",
    "plt.legend(['train', 'test'], loc='upper left')\n",
    "plt.show()"
   ]
  },
  {
   "cell_type": "code",
   "execution_count": null,
   "metadata": {},
   "outputs": [
    {
     "data": {
      "text/plain": [
       "(10204, 21)"
      ]
     },
     "execution_count": 180,
     "metadata": {},
     "output_type": "execute_result"
    }
   ],
   "source": [
    "df_test = pd.DataFrame(df_test)\n",
    "df_test = df_test.drop([\"id\"],axis=1)\n",
    "df_test.shape"
   ]
  },
  {
   "cell_type": "code",
   "execution_count": null,
   "metadata": {},
   "outputs": [
    {
     "name": "stdout",
     "output_type": "stream",
     "text": [
      "[[0.043782]\n",
      " [0.043782]\n",
      " [0.043782]\n",
      " [0.043782]\n",
      " [0.043782]\n",
      " [0.043782]\n",
      " [0.043782]\n",
      " [0.043782]\n",
      " [0.043782]\n",
      " [0.043782]\n",
      " [0.043782]\n",
      " [0.043782]\n",
      " [0.043782]\n",
      " [0.043782]\n",
      " [0.043782]\n",
      " [0.043782]\n",
      " [0.043782]\n",
      " [0.043782]\n",
      " [0.043782]\n",
      " [0.043782]]\n",
      "[0 0 0 0 0 0 0 0 0 0 0 0 0 0 0 0 0 0 0 0]\n"
     ]
    }
   ],
   "source": [
    "\n",
    "y_submit = model.predict(df_test)\n",
    "print(y_submit[:20])\n",
    "\n",
    "# 1 과 1로 이진변환해주는 코드\n",
    "y_submit =y_submit.flatten()\n",
    "# y_predict 가 0.5 보다 크면 1 아니면 0 반환\n",
    "y_submit = np.where(y_submit > 0.5, 1 , 0)\n",
    "print(y_submit[:20])\n"
   ]
  },
  {
   "cell_type": "code",
   "execution_count": null,
   "metadata": {},
   "outputs": [
    {
     "data": {
      "text/html": [
       "<div>\n",
       "<style scoped>\n",
       "    .dataframe tbody tr th:only-of-type {\n",
       "        vertical-align: middle;\n",
       "    }\n",
       "\n",
       "    .dataframe tbody tr th {\n",
       "        vertical-align: top;\n",
       "    }\n",
       "\n",
       "    .dataframe thead th {\n",
       "        text-align: right;\n",
       "    }\n",
       "</style>\n",
       "<table border=\"1\" class=\"dataframe\">\n",
       "  <thead>\n",
       "    <tr style=\"text-align: right;\">\n",
       "      <th></th>\n",
       "      <th>stroke</th>\n",
       "    </tr>\n",
       "    <tr>\n",
       "      <th>id</th>\n",
       "      <th></th>\n",
       "    </tr>\n",
       "  </thead>\n",
       "  <tbody>\n",
       "    <tr>\n",
       "      <th>15304</th>\n",
       "      <td>0.043782</td>\n",
       "    </tr>\n",
       "    <tr>\n",
       "      <th>15305</th>\n",
       "      <td>0.043782</td>\n",
       "    </tr>\n",
       "    <tr>\n",
       "      <th>15306</th>\n",
       "      <td>0.043782</td>\n",
       "    </tr>\n",
       "    <tr>\n",
       "      <th>15307</th>\n",
       "      <td>0.043782</td>\n",
       "    </tr>\n",
       "    <tr>\n",
       "      <th>15308</th>\n",
       "      <td>0.043782</td>\n",
       "    </tr>\n",
       "    <tr>\n",
       "      <th>...</th>\n",
       "      <td>...</td>\n",
       "    </tr>\n",
       "    <tr>\n",
       "      <th>25503</th>\n",
       "      <td>0.043782</td>\n",
       "    </tr>\n",
       "    <tr>\n",
       "      <th>25504</th>\n",
       "      <td>0.043782</td>\n",
       "    </tr>\n",
       "    <tr>\n",
       "      <th>25505</th>\n",
       "      <td>0.043782</td>\n",
       "    </tr>\n",
       "    <tr>\n",
       "      <th>25506</th>\n",
       "      <td>0.043782</td>\n",
       "    </tr>\n",
       "    <tr>\n",
       "      <th>25507</th>\n",
       "      <td>0.043782</td>\n",
       "    </tr>\n",
       "  </tbody>\n",
       "</table>\n",
       "<p>10204 rows × 1 columns</p>\n",
       "</div>"
      ],
      "text/plain": [
       "         stroke\n",
       "id             \n",
       "15304  0.043782\n",
       "15305  0.043782\n",
       "15306  0.043782\n",
       "15307  0.043782\n",
       "15308  0.043782\n",
       "...         ...\n",
       "25503  0.043782\n",
       "25504  0.043782\n",
       "25505  0.043782\n",
       "25506  0.043782\n",
       "25507  0.043782\n",
       "\n",
       "[10204 rows x 1 columns]"
      ]
     },
     "execution_count": 182,
     "metadata": {},
     "output_type": "execute_result"
    }
   ],
   "source": [
    "preds =[]\n",
    "\n",
    "preds.append(model.predict(df_test))\n",
    "pred = np.average(np.array(preds),axis=0)\n",
    "\n",
    "pred\n",
    "\n",
    "# 15-3 경로와 파일명 지정\n",
    "submission = pd.read_csv(path +\"sample_submission.csv\",index_col=\"id\")\n",
    "submission['stroke'] = pred\n",
    "submission['stroke'] = submission['stroke'].clip(0,1)\n",
    "submission"
   ]
  },
  {
   "cell_type": "code",
   "execution_count": null,
   "metadata": {},
   "outputs": [],
   "source": [
    "# 15-2.제촐용을 데이터프레임형으로 변환\n",
    "submission = pd.read_csv(path +\"sample_submission.csv\",index_col=\"id\")\n",
    "\n",
    "# 15-2 제출용의 카운트 칼럼에 y_submit 삽입\n",
    "submission[\"stroke\"] = y_submit.astype(int)\n",
    "# 15-3 경로와 파일명 지정\n",
    "submission.to_csv(path + \"submission_3.csv\")\n"
   ]
  },
  {
   "cell_type": "code",
   "execution_count": null,
   "metadata": {},
   "outputs": [
    {
     "name": "stdout",
     "output_type": "stream",
     "text": [
      "96/96 [==============================] - 0s 3ms/step - loss: 0.1717 - accuracy: 0.9588\n",
      "================================\n",
      "loss :  0.171706423163414 \n",
      " acc :  0.9588369727134705\n",
      "RMSE :  0.1986843818715778\n",
      "R2   :  -0.00017378564446612899\n"
     ]
    }
   ],
   "source": [
    "from sklearn.metrics import mean_squared_error\n",
    "from sklearn.metrics import r2_score\n",
    "\n",
    "def RMSE(y_test,y_predict):\n",
    "    return np.sqrt(mean_squared_error(y_test,y_predict))\n",
    "# 평가 손실률 가져오기\n",
    "loss = model.evaluate(x_test,y_test)\n",
    "\n",
    "y_predict =model.predict(x_test)\n",
    "# print(\"=================\")\n",
    "# print(y_test)\n",
    "# print(y_predict)\n",
    "print(\"================================\")\n",
    "print(\"loss : \",loss[0],\"\\n acc : \",loss[1])\n",
    "print(\"RMSE : \",RMSE(y_test,y_predict))\n",
    "print(\"R2   : \",r2_score(y_test,y_predict))"
   ]
  }
 ],
 "metadata": {
  "kernelspec": {
   "display_name": "tf274gpu",
   "language": "python",
   "name": "python3"
  },
  "language_info": {
   "codemirror_mode": {
    "name": "ipython",
    "version": 3
   },
   "file_extension": ".py",
   "mimetype": "text/x-python",
   "name": "python",
   "nbconvert_exporter": "python",
   "pygments_lexer": "ipython3",
   "version": "3.9.15"
  },
  "orig_nbformat": 4,
  "vscode": {
   "interpreter": {
    "hash": "10848e9bd3f5e7d93542d388001135334854454e7336dcf54c4ef52885ee0fb0"
   }
  }
 },
 "nbformat": 4,
 "nbformat_minor": 2
}
