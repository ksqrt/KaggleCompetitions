{
 "cells": [
  {
   "cell_type": "code",
   "execution_count": 3,
   "metadata": {},
   "outputs": [
    {
     "ename": "NameError",
     "evalue": "name 'conf' is not defined",
     "output_type": "error",
     "traceback": [
      "\u001b[0;31m---------------------------------------------------------------------------\u001b[0m",
      "\u001b[0;31mNameError\u001b[0m                                 Traceback (most recent call last)",
      "\u001b[1;32m/root/project/KaggleCompetitions/Playground Series Season 3, Episode 1/playground-series-s3e1/model.ipynb 셀 1\u001b[0m in \u001b[0;36m<cell line: 19>\u001b[0;34m()\u001b[0m\n\u001b[1;32m     <a href='vscode-notebook-cell://attached-container%2B7b22636f6e7461696e65724e616d65223a222f6375646e6e222c22637764223a225c5c5c5c77736c2e6c6f63616c686f73745c5c5562756e74752d32302e30345c5c686f6d65227d/root/project/KaggleCompetitions/Playground%20Series%20Season%203%2C%20Episode%201/playground-series-s3e1/model.ipynb#W0sdnNjb2RlLXJlbW90ZQ%3D%3D?line=15'>16</a>\u001b[0m models \u001b[39m=\u001b[39m []\n\u001b[1;32m     <a href='vscode-notebook-cell://attached-container%2B7b22636f6e7461696e65724e616d65223a222f6375646e6e222c22637764223a225c5c5c5c77736c2e6c6f63616c686f73745c5c5562756e74752d32302e30345c5c686f6d65227d/root/project/KaggleCompetitions/Playground%20Series%20Season%203%2C%20Episode%201/playground-series-s3e1/model.ipynb#W0sdnNjb2RlLXJlbW90ZQ%3D%3D?line=16'>17</a>\u001b[0m scores \u001b[39m=\u001b[39m []\n\u001b[0;32m---> <a href='vscode-notebook-cell://attached-container%2B7b22636f6e7461696e65724e616d65223a222f6375646e6e222c22637764223a225c5c5c5c77736c2e6c6f63616c686f73745c5c5562756e74752d32302e30345c5c686f6d65227d/root/project/KaggleCompetitions/Playground%20Series%20Season%203%2C%20Episode%201/playground-series-s3e1/model.ipynb#W0sdnNjb2RlLXJlbW90ZQ%3D%3D?line=18'>19</a>\u001b[0m \u001b[39mfor\u001b[39;00m train_index, val_index \u001b[39min\u001b[39;00m KFold(n_splits\u001b[39m=\u001b[39m\u001b[39m10\u001b[39m, random_state\u001b[39m=\u001b[39mconf\u001b[39m.\u001b[39mrandom, shuffle\u001b[39m=\u001b[39m\u001b[39mTrue\u001b[39;00m)\u001b[39m.\u001b[39msplit(x_full):\n\u001b[1;32m     <a href='vscode-notebook-cell://attached-container%2B7b22636f6e7461696e65724e616d65223a222f6375646e6e222c22637764223a225c5c5c5c77736c2e6c6f63616c686f73745c5c5562756e74752d32302e30345c5c686f6d65227d/root/project/KaggleCompetitions/Playground%20Series%20Season%203%2C%20Episode%201/playground-series-s3e1/model.ipynb#W0sdnNjb2RlLXJlbW90ZQ%3D%3D?line=19'>20</a>\u001b[0m     x_train, x_val \u001b[39m=\u001b[39m x_full[train_index], x_full[val_index]\n\u001b[1;32m     <a href='vscode-notebook-cell://attached-container%2B7b22636f6e7461696e65724e616d65223a222f6375646e6e222c22637764223a225c5c5c5c77736c2e6c6f63616c686f73745c5c5562756e74752d32302e30345c5c686f6d65227d/root/project/KaggleCompetitions/Playground%20Series%20Season%203%2C%20Episode%201/playground-series-s3e1/model.ipynb#W0sdnNjb2RlLXJlbW90ZQ%3D%3D?line=20'>21</a>\u001b[0m     y_train, y_val \u001b[39m=\u001b[39m y_full[train_index], y_full[val_index]\n",
      "\u001b[0;31mNameError\u001b[0m: name 'conf' is not defined"
     ]
    }
   ],
   "source": [
    "import os\n",
    "import numpy as np\n",
    "import pandas as pd\n",
    "import sklearn\n",
    "from sklearn.datasets import fetch_california_housing\n",
    "from sklearn.model_selection import train_test_split, cross_val_score, KFold\n",
    "from sklearn.metrics import mean_squared_error\n",
    "import tensorflow as tf\n",
    "import tensorflow.keras.layers as layers\n",
    "import tensorflow.keras.regularizers as reg\n",
    "import matplotlib.pyplot as plt\n",
    "import matplotlib as mpl\n",
    "\n",
    "%matplotlib inline\n",
    "\n",
    "class conf:\n",
    "    index = 'id'\n",
    "    target = 'MedHouseVal'\n",
    "    random = 2023\n",
    "    batch_size = 64\n",
    "    init_lr = 1e-3\n",
    "    \n",
    "    remove_out = False\n",
    "    clip_out = False\n",
    "    \n",
    "    load_original = True\n",
    "    min_max = False\n",
    "    \n",
    "    best_only = True\n",
    "    \n",
    "    is_interactive = os.environ['KAGGLE_KERNEL_RUN_TYPE'] == 'Interactive'\n",
    "#     verbose = 1 if is_interactive else 2\n",
    "    verbose = False\n",
    "np.random.seed(conf.random)\n",
    "\n",
    "\n",
    "models = []\n",
    "scores = []\n",
    "\n",
    "for train_index, val_index in KFold(n_splits=10, random_state=conf.random, shuffle=True).split(x_full):\n",
    "    x_train, x_val = x_full[train_index], x_full[val_index]\n",
    "    y_train, y_val = y_full[train_index], y_full[val_index]\n",
    "    \n",
    "    model = get_model()\n",
    "    h = model.fit(\n",
    "        x_train, y_train,\n",
    "        validation_data = (x_val, y_val),\n",
    "        epochs = 100,\n",
    "        batch_size = conf.batch_size,\n",
    "        callbacks = [plat, es],\n",
    "        verbose = conf.verbose,\n",
    "    ).history    \n",
    "    print(f\"Best val rmse: {get_best(h, met='rmse')[0]:.4f}\")\n",
    "    \n",
    "    s = mean_squared_error(y_val, model.predict(x_val), squared=False)\n",
    "    scores.append(s)\n",
    "    models.append((s, model))\n",
    "print(f'mean scores:   {np.mean(scores):.4f}')"
   ]
  }
 ],
 "metadata": {
  "kernelspec": {
   "display_name": "Python 3",
   "language": "python",
   "name": "python3"
  },
  "language_info": {
   "codemirror_mode": {
    "name": "ipython",
    "version": 3
   },
   "file_extension": ".py",
   "mimetype": "text/x-python",
   "name": "python",
   "nbconvert_exporter": "python",
   "pygments_lexer": "ipython3",
   "version": "3.8.10"
  },
  "orig_nbformat": 4,
  "vscode": {
   "interpreter": {
    "hash": "916dbcbb3f70747c44a77c7bcd40155683ae19c65e1c03b4aa3499c5328201f1"
   }
  }
 },
 "nbformat": 4,
 "nbformat_minor": 2
}
