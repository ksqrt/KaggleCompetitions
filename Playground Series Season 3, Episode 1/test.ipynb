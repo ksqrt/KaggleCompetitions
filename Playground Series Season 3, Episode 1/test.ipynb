{
 "cells": [
  {
   "cell_type": "code",
   "execution_count": 341,
   "metadata": {},
   "outputs": [],
   "source": [
    "import pandas as pd\n",
    "from pathlib import Path\n",
    "import numpy as np"
   ]
  },
  {
   "cell_type": "code",
   "execution_count": 342,
   "metadata": {},
   "outputs": [],
   "source": [
    "# 1 라이브러리 임포트\n",
    "\n",
    "import pandas as pd\n",
    "import numpy as np\n",
    "import tensorflow as tf\n",
    "import sklearn as sk\n",
    "\n",
    "# 알고리즘을 그래픽화 하기위한 라이브러리\n",
    "import seaborn as sns\n",
    "import matplotlib.pylab as plt\n",
    "from matplotlib import rcParams\n",
    "import re\n",
    "from keras.models import Sequential\n",
    "from keras.layers import Dense, Activation, Dropout,Rescaling\n",
    "import keras\n",
    "\n",
    "# 모델생성 라이브러리\n",
    "from tensorflow.keras.models import Sequential\n",
    "from tensorflow.keras.layers import Dense\n",
    "\n",
    "# 데이터 스플릿,스케일링\n",
    "from sklearn.model_selection import train_test_split\n",
    "from sklearn.preprocessing import MinMaxScaler,StandardScaler"
   ]
  },
  {
   "cell_type": "code",
   "execution_count": 343,
   "metadata": {},
   "outputs": [],
   "source": [
    "DATAPATH = Path('./playground-series-s3e1/')\n",
    "# N_ESTIMATORS = 100_000\n",
    "\n",
    "train = pd.read_csv(DATAPATH/'train.csv')\n",
    "test = pd.read_csv(DATAPATH/'test.csv')\n",
    "sample_sub = pd.read_csv(DATAPATH/'sample_submission.csv')"
   ]
  },
  {
   "cell_type": "code",
   "execution_count": 344,
   "metadata": {},
   "outputs": [
    {
     "name": "stdout",
     "output_type": "stream",
     "text": [
      "(37137, 10)\n"
     ]
    },
    {
     "data": {
      "text/html": [
       "<div>\n",
       "<style scoped>\n",
       "    .dataframe tbody tr th:only-of-type {\n",
       "        vertical-align: middle;\n",
       "    }\n",
       "\n",
       "    .dataframe tbody tr th {\n",
       "        vertical-align: top;\n",
       "    }\n",
       "\n",
       "    .dataframe thead th {\n",
       "        text-align: right;\n",
       "    }\n",
       "</style>\n",
       "<table border=\"1\" class=\"dataframe\">\n",
       "  <thead>\n",
       "    <tr style=\"text-align: right;\">\n",
       "      <th></th>\n",
       "      <th>id</th>\n",
       "      <th>MedInc</th>\n",
       "      <th>HouseAge</th>\n",
       "      <th>AveRooms</th>\n",
       "      <th>AveBedrms</th>\n",
       "      <th>Population</th>\n",
       "      <th>AveOccup</th>\n",
       "      <th>Latitude</th>\n",
       "      <th>Longitude</th>\n",
       "      <th>MedHouseVal</th>\n",
       "    </tr>\n",
       "  </thead>\n",
       "  <tbody>\n",
       "    <tr>\n",
       "      <th>0</th>\n",
       "      <td>0</td>\n",
       "      <td>2.3859</td>\n",
       "      <td>15.0</td>\n",
       "      <td>3.827160</td>\n",
       "      <td>1.112100</td>\n",
       "      <td>1280.0</td>\n",
       "      <td>2.486989</td>\n",
       "      <td>34.60</td>\n",
       "      <td>-120.12</td>\n",
       "      <td>0.980</td>\n",
       "    </tr>\n",
       "    <tr>\n",
       "      <th>1</th>\n",
       "      <td>1</td>\n",
       "      <td>3.7188</td>\n",
       "      <td>17.0</td>\n",
       "      <td>6.013373</td>\n",
       "      <td>1.054217</td>\n",
       "      <td>1504.0</td>\n",
       "      <td>3.813084</td>\n",
       "      <td>38.69</td>\n",
       "      <td>-121.22</td>\n",
       "      <td>0.946</td>\n",
       "    </tr>\n",
       "    <tr>\n",
       "      <th>2</th>\n",
       "      <td>2</td>\n",
       "      <td>4.7750</td>\n",
       "      <td>27.0</td>\n",
       "      <td>6.535604</td>\n",
       "      <td>1.103175</td>\n",
       "      <td>1061.0</td>\n",
       "      <td>2.464602</td>\n",
       "      <td>34.71</td>\n",
       "      <td>-120.45</td>\n",
       "      <td>1.576</td>\n",
       "    </tr>\n",
       "    <tr>\n",
       "      <th>3</th>\n",
       "      <td>3</td>\n",
       "      <td>2.4138</td>\n",
       "      <td>16.0</td>\n",
       "      <td>3.350203</td>\n",
       "      <td>0.965432</td>\n",
       "      <td>1255.0</td>\n",
       "      <td>2.089286</td>\n",
       "      <td>32.66</td>\n",
       "      <td>-117.09</td>\n",
       "      <td>1.336</td>\n",
       "    </tr>\n",
       "    <tr>\n",
       "      <th>4</th>\n",
       "      <td>4</td>\n",
       "      <td>3.7500</td>\n",
       "      <td>52.0</td>\n",
       "      <td>4.284404</td>\n",
       "      <td>1.069246</td>\n",
       "      <td>1793.0</td>\n",
       "      <td>1.604790</td>\n",
       "      <td>37.80</td>\n",
       "      <td>-122.41</td>\n",
       "      <td>4.500</td>\n",
       "    </tr>\n",
       "  </tbody>\n",
       "</table>\n",
       "</div>"
      ],
      "text/plain": [
       "   id  MedInc  HouseAge  AveRooms  AveBedrms  Population  AveOccup  Latitude  \\\n",
       "0   0  2.3859      15.0  3.827160   1.112100      1280.0  2.486989     34.60   \n",
       "1   1  3.7188      17.0  6.013373   1.054217      1504.0  3.813084     38.69   \n",
       "2   2  4.7750      27.0  6.535604   1.103175      1061.0  2.464602     34.71   \n",
       "3   3  2.4138      16.0  3.350203   0.965432      1255.0  2.089286     32.66   \n",
       "4   4  3.7500      52.0  4.284404   1.069246      1793.0  1.604790     37.80   \n",
       "\n",
       "   Longitude  MedHouseVal  \n",
       "0    -120.12        0.980  \n",
       "1    -121.22        0.946  \n",
       "2    -120.45        1.576  \n",
       "3    -117.09        1.336  \n",
       "4    -122.41        4.500  "
      ]
     },
     "execution_count": 344,
     "metadata": {},
     "output_type": "execute_result"
    }
   ],
   "source": [
    "# 쉐잎 조회\n",
    "# y 값은 MedHouseVal 임 근데 숫자니까 회귀 모델임\n",
    "print(train.shape)\n",
    "train.head()"
   ]
  },
  {
   "cell_type": "code",
   "execution_count": 345,
   "metadata": {},
   "outputs": [
    {
     "data": {
      "text/plain": [
       "id             0\n",
       "MedInc         0\n",
       "HouseAge       0\n",
       "AveRooms       0\n",
       "AveBedrms      0\n",
       "Population     0\n",
       "AveOccup       0\n",
       "Latitude       0\n",
       "Longitude      0\n",
       "MedHouseVal    0\n",
       "dtype: int64"
      ]
     },
     "execution_count": 345,
     "metadata": {},
     "output_type": "execute_result"
    }
   ],
   "source": [
    "# 칼럼별 na 값 조회 이 데이터는 nan 이 없음 \n",
    "train.isna().sum()"
   ]
  },
  {
   "cell_type": "code",
   "execution_count": 346,
   "metadata": {},
   "outputs": [
    {
     "name": "stdout",
     "output_type": "stream",
     "text": [
      "(37137, 8) (37137,)\n"
     ]
    }
   ],
   "source": [
    "# 데이터 전처리1. 데이터 스플릿\n",
    "\n",
    "\n",
    "x = train.drop([\"MedHouseVal\",\"id\"],axis=1)\n",
    "y = train[\"MedHouseVal\"]\n",
    "# print(x.shape,test.shape)\n",
    "print(x.shape,y.shape)"
   ]
  },
  {
   "cell_type": "code",
   "execution_count": 347,
   "metadata": {},
   "outputs": [
    {
     "name": "stdout",
     "output_type": "stream",
     "text": [
      "(29709, 8) (7428, 8)\n",
      "(29709,) (7428,)\n"
     ]
    }
   ],
   "source": [
    "from sklearn.model_selection import train_test_split\n",
    "x_train, x_test, y_train,y_test = train_test_split(\n",
    "    x,\n",
    "    y,\n",
    "    train_size=0.8,\n",
    "    shuffle = True,\n",
    "    # stratify = y,\n",
    "    # random_state=1\n",
    ")\n",
    "print(x_train.shape,x_test.shape)\n",
    "print(y_train.shape,y_test.shape)"
   ]
  },
  {
   "cell_type": "code",
   "execution_count": 348,
   "metadata": {},
   "outputs": [
    {
     "name": "stdout",
     "output_type": "stream",
     "text": [
      "<class 'pandas.core.frame.DataFrame'>\n",
      "Int64Index: 29709 entries, 20609 to 13518\n",
      "Data columns (total 8 columns):\n",
      " #   Column      Non-Null Count  Dtype  \n",
      "---  ------      --------------  -----  \n",
      " 0   MedInc      29709 non-null  float64\n",
      " 1   HouseAge    29709 non-null  float64\n",
      " 2   AveRooms    29709 non-null  float64\n",
      " 3   AveBedrms   29709 non-null  float64\n",
      " 4   Population  29709 non-null  float64\n",
      " 5   AveOccup    29709 non-null  float64\n",
      " 6   Latitude    29709 non-null  float64\n",
      " 7   Longitude   29709 non-null  float64\n",
      "dtypes: float64(8)\n",
      "memory usage: 2.0 MB\n"
     ]
    }
   ],
   "source": [
    "x_train.info()"
   ]
  },
  {
   "cell_type": "code",
   "execution_count": 349,
   "metadata": {},
   "outputs": [],
   "source": [
    "# 데이터 스케일링 \n",
    "\n",
    "scaler = MinMaxScaler()\n",
    "\n",
    "scaler.fit(x_train)\n",
    "x_train = scaler.transform(x_train)\n",
    "x_test = scaler.transform(x_test)"
   ]
  },
  {
   "cell_type": "code",
   "execution_count": 350,
   "metadata": {},
   "outputs": [
    {
     "name": "stdout",
     "output_type": "stream",
     "text": [
      "(29709, 8) (29709,)\n"
     ]
    }
   ],
   "source": [
    "print(x_train.shape,y_train.shape)"
   ]
  },
  {
   "cell_type": "code",
   "execution_count": 351,
   "metadata": {},
   "outputs": [
    {
     "name": "stdout",
     "output_type": "stream",
     "text": [
      "Model: \"sequential_32\"\n",
      "_________________________________________________________________\n",
      " Layer (type)                Output Shape              Param #   \n",
      "=================================================================\n",
      " dense_192 (Dense)           (None, 256)               2304      \n",
      "                                                                 \n",
      " dense_193 (Dense)           (None, 128)               32896     \n",
      "                                                                 \n",
      " dense_194 (Dense)           (None, 64)                8256      \n",
      "                                                                 \n",
      " dense_195 (Dense)           (None, 1)                 65        \n",
      "                                                                 \n",
      " rescaling_16 (Rescaling)    (None, 1)                 0         \n",
      "                                                                 \n",
      "=================================================================\n",
      "Total params: 43,521\n",
      "Trainable params: 43,521\n",
      "Non-trainable params: 0\n",
      "_________________________________________________________________\n"
     ]
    }
   ],
   "source": [
    "# 5 모델구성\n",
    "# import tensorflow.keras.regularizers as reg\n",
    "\n",
    "l = 0.0001\n",
    "model = Sequential([\n",
    "    Dense(256, activation='relu',input_dim=8),\n",
    "    Dense(128, activation='relu'),\n",
    "    Dense(64, activation='relu'),\n",
    "    Dense(1, activation=\"sigmoid\"),\n",
    "    Rescaling(scale=5.0)\n",
    "])\n",
    "\n",
    "model.summary()"
   ]
  },
  {
   "cell_type": "code",
   "execution_count": 356,
   "metadata": {},
   "outputs": [
    {
     "name": "stdout",
     "output_type": "stream",
     "text": [
      "Epoch 1/500\n",
      "186/186 [==============================] - 1s 4ms/step - loss: 0.3911 - mean_absolute_error: 0.4450 - root_mean_squared_error: 0.6254 - val_loss: 0.3756 - val_mean_absolute_error: 0.4364 - val_root_mean_squared_error: 0.6129 - lr: 0.0010\n",
      "Epoch 2/500\n",
      "186/186 [==============================] - 1s 3ms/step - loss: 0.3946 - mean_absolute_error: 0.4467 - root_mean_squared_error: 0.6282 - val_loss: 0.3723 - val_mean_absolute_error: 0.4294 - val_root_mean_squared_error: 0.6102 - lr: 0.0010\n",
      "Epoch 3/500\n",
      "186/186 [==============================] - 1s 3ms/step - loss: 0.3880 - mean_absolute_error: 0.4426 - root_mean_squared_error: 0.6229 - val_loss: 0.3752 - val_mean_absolute_error: 0.4263 - val_root_mean_squared_error: 0.6125 - lr: 0.0010\n",
      "Epoch 4/500\n",
      "186/186 [==============================] - 1s 3ms/step - loss: 0.3879 - mean_absolute_error: 0.4428 - root_mean_squared_error: 0.6228 - val_loss: 0.3849 - val_mean_absolute_error: 0.4544 - val_root_mean_squared_error: 0.6204 - lr: 0.0010\n",
      "Epoch 5/500\n",
      "186/186 [==============================] - 1s 3ms/step - loss: 0.3959 - mean_absolute_error: 0.4479 - root_mean_squared_error: 0.6292 - val_loss: 0.3916 - val_mean_absolute_error: 0.4291 - val_root_mean_squared_error: 0.6258 - lr: 0.0010\n",
      "Epoch 6/500\n",
      "186/186 [==============================] - 1s 3ms/step - loss: 0.3700 - mean_absolute_error: 0.4315 - root_mean_squared_error: 0.6083 - val_loss: 0.3660 - val_mean_absolute_error: 0.4229 - val_root_mean_squared_error: 0.6050 - lr: 1.0000e-04\n",
      "Epoch 7/500\n",
      "186/186 [==============================] - 1s 3ms/step - loss: 0.3681 - mean_absolute_error: 0.4300 - root_mean_squared_error: 0.6067 - val_loss: 0.3644 - val_mean_absolute_error: 0.4211 - val_root_mean_squared_error: 0.6037 - lr: 1.0000e-04\n",
      "Epoch 8/500\n",
      "186/186 [==============================] - 1s 3ms/step - loss: 0.3679 - mean_absolute_error: 0.4298 - root_mean_squared_error: 0.6065 - val_loss: 0.3616 - val_mean_absolute_error: 0.4243 - val_root_mean_squared_error: 0.6013 - lr: 1.0000e-04\n",
      "Epoch 9/500\n",
      "186/186 [==============================] - 1s 3ms/step - loss: 0.3659 - mean_absolute_error: 0.4285 - root_mean_squared_error: 0.6049 - val_loss: 0.3634 - val_mean_absolute_error: 0.4285 - val_root_mean_squared_error: 0.6028 - lr: 1.0000e-04\n",
      "Epoch 10/500\n",
      "186/186 [==============================] - 1s 3ms/step - loss: 0.3665 - mean_absolute_error: 0.4293 - root_mean_squared_error: 0.6054 - val_loss: 0.3624 - val_mean_absolute_error: 0.4202 - val_root_mean_squared_error: 0.6020 - lr: 1.0000e-04\n",
      "Epoch 11/500\n",
      "186/186 [==============================] - 1s 3ms/step - loss: 0.3657 - mean_absolute_error: 0.4282 - root_mean_squared_error: 0.6047 - val_loss: 0.3612 - val_mean_absolute_error: 0.4245 - val_root_mean_squared_error: 0.6010 - lr: 1.0000e-04\n",
      "Epoch 12/500\n",
      "186/186 [==============================] - 1s 3ms/step - loss: 0.3660 - mean_absolute_error: 0.4295 - root_mean_squared_error: 0.6050 - val_loss: 0.3623 - val_mean_absolute_error: 0.4193 - val_root_mean_squared_error: 0.6019 - lr: 1.0000e-04\n",
      "Epoch 13/500\n",
      "186/186 [==============================] - 1s 3ms/step - loss: 0.3646 - mean_absolute_error: 0.4278 - root_mean_squared_error: 0.6038 - val_loss: 0.3611 - val_mean_absolute_error: 0.4223 - val_root_mean_squared_error: 0.6009 - lr: 1.0000e-04\n",
      "Epoch 14/500\n",
      "186/186 [==============================] - 1s 3ms/step - loss: 0.3644 - mean_absolute_error: 0.4277 - root_mean_squared_error: 0.6037 - val_loss: 0.3670 - val_mean_absolute_error: 0.4197 - val_root_mean_squared_error: 0.6058 - lr: 1.0000e-04\n",
      "Epoch 15/500\n",
      "186/186 [==============================] - 1s 3ms/step - loss: 0.3649 - mean_absolute_error: 0.4281 - root_mean_squared_error: 0.6041 - val_loss: 0.3608 - val_mean_absolute_error: 0.4253 - val_root_mean_squared_error: 0.6007 - lr: 1.0000e-04\n",
      "Epoch 16/500\n",
      "186/186 [==============================] - 1s 3ms/step - loss: 0.3629 - mean_absolute_error: 0.4272 - root_mean_squared_error: 0.6024 - val_loss: 0.3613 - val_mean_absolute_error: 0.4264 - val_root_mean_squared_error: 0.6011 - lr: 1.0000e-04\n",
      "Epoch 17/500\n",
      "186/186 [==============================] - 1s 3ms/step - loss: 0.3639 - mean_absolute_error: 0.4273 - root_mean_squared_error: 0.6032 - val_loss: 0.3646 - val_mean_absolute_error: 0.4181 - val_root_mean_squared_error: 0.6038 - lr: 1.0000e-04\n",
      "Epoch 18/500\n",
      "186/186 [==============================] - 1s 3ms/step - loss: 0.3631 - mean_absolute_error: 0.4270 - root_mean_squared_error: 0.6026 - val_loss: 0.3611 - val_mean_absolute_error: 0.4251 - val_root_mean_squared_error: 0.6009 - lr: 1.0000e-04\n",
      "Epoch 19/500\n",
      "186/186 [==============================] - 1s 3ms/step - loss: 0.3608 - mean_absolute_error: 0.4262 - root_mean_squared_error: 0.6007 - val_loss: 0.3602 - val_mean_absolute_error: 0.4242 - val_root_mean_squared_error: 0.6001 - lr: 1.0000e-05\n",
      "Epoch 20/500\n",
      "186/186 [==============================] - 1s 3ms/step - loss: 0.3605 - mean_absolute_error: 0.4257 - root_mean_squared_error: 0.6004 - val_loss: 0.3603 - val_mean_absolute_error: 0.4201 - val_root_mean_squared_error: 0.6002 - lr: 1.0000e-05\n",
      "Epoch 21/500\n",
      "186/186 [==============================] - 1s 3ms/step - loss: 0.3604 - mean_absolute_error: 0.4253 - root_mean_squared_error: 0.6003 - val_loss: 0.3600 - val_mean_absolute_error: 0.4205 - val_root_mean_squared_error: 0.6000 - lr: 1.0000e-05\n",
      "Epoch 22/500\n",
      "186/186 [==============================] - 1s 3ms/step - loss: 0.3601 - mean_absolute_error: 0.4252 - root_mean_squared_error: 0.6001 - val_loss: 0.3599 - val_mean_absolute_error: 0.4206 - val_root_mean_squared_error: 0.5999 - lr: 1.0000e-05\n",
      "Epoch 23/500\n",
      "186/186 [==============================] - 1s 3ms/step - loss: 0.3603 - mean_absolute_error: 0.4254 - root_mean_squared_error: 0.6002 - val_loss: 0.3594 - val_mean_absolute_error: 0.4213 - val_root_mean_squared_error: 0.5995 - lr: 1.0000e-05\n",
      "Epoch 24/500\n",
      "186/186 [==============================] - 1s 3ms/step - loss: 0.3601 - mean_absolute_error: 0.4250 - root_mean_squared_error: 0.6001 - val_loss: 0.3593 - val_mean_absolute_error: 0.4220 - val_root_mean_squared_error: 0.5994 - lr: 1.0000e-05\n",
      "Epoch 25/500\n",
      "186/186 [==============================] - 1s 3ms/step - loss: 0.3603 - mean_absolute_error: 0.4252 - root_mean_squared_error: 0.6002 - val_loss: 0.3593 - val_mean_absolute_error: 0.4221 - val_root_mean_squared_error: 0.5994 - lr: 1.0000e-05\n",
      "Epoch 26/500\n",
      "186/186 [==============================] - 1s 3ms/step - loss: 0.3601 - mean_absolute_error: 0.4251 - root_mean_squared_error: 0.6001 - val_loss: 0.3594 - val_mean_absolute_error: 0.4221 - val_root_mean_squared_error: 0.5995 - lr: 1.0000e-05\n",
      "Epoch 27/500\n",
      "186/186 [==============================] - 1s 3ms/step - loss: 0.3601 - mean_absolute_error: 0.4253 - root_mean_squared_error: 0.6001 - val_loss: 0.3598 - val_mean_absolute_error: 0.4202 - val_root_mean_squared_error: 0.5998 - lr: 1.0000e-05\n",
      "Epoch 28/500\n",
      "186/186 [==============================] - 1s 3ms/step - loss: 0.3601 - mean_absolute_error: 0.4249 - root_mean_squared_error: 0.6001 - val_loss: 0.3594 - val_mean_absolute_error: 0.4209 - val_root_mean_squared_error: 0.5995 - lr: 1.0000e-05\n",
      "Epoch 29/500\n",
      "186/186 [==============================] - 1s 3ms/step - loss: 0.3597 - mean_absolute_error: 0.4249 - root_mean_squared_error: 0.5998 - val_loss: 0.3594 - val_mean_absolute_error: 0.4210 - val_root_mean_squared_error: 0.5995 - lr: 1.0000e-06\n",
      "Epoch 30/500\n",
      "186/186 [==============================] - 1s 3ms/step - loss: 0.3597 - mean_absolute_error: 0.4246 - root_mean_squared_error: 0.5998 - val_loss: 0.3594 - val_mean_absolute_error: 0.4212 - val_root_mean_squared_error: 0.5995 - lr: 1.0000e-06\n",
      "Epoch 31/500\n",
      "186/186 [==============================] - 1s 3ms/step - loss: 0.3597 - mean_absolute_error: 0.4249 - root_mean_squared_error: 0.5997 - val_loss: 0.3594 - val_mean_absolute_error: 0.4211 - val_root_mean_squared_error: 0.5995 - lr: 1.0000e-06\n",
      "Epoch 32/500\n",
      "186/186 [==============================] - 1s 3ms/step - loss: 0.3596 - mean_absolute_error: 0.4247 - root_mean_squared_error: 0.5997 - val_loss: 0.3594 - val_mean_absolute_error: 0.4211 - val_root_mean_squared_error: 0.5995 - lr: 1.0000e-07\n",
      "Epoch 33/500\n",
      "186/186 [==============================] - 1s 3ms/step - loss: 0.3596 - mean_absolute_error: 0.4247 - root_mean_squared_error: 0.5997 - val_loss: 0.3594 - val_mean_absolute_error: 0.4211 - val_root_mean_squared_error: 0.5995 - lr: 1.0000e-07\n",
      "Epoch 34/500\n",
      "186/186 [==============================] - 1s 3ms/step - loss: 0.3596 - mean_absolute_error: 0.4247 - root_mean_squared_error: 0.5997 - val_loss: 0.3594 - val_mean_absolute_error: 0.4211 - val_root_mean_squared_error: 0.5995 - lr: 1.0000e-07\n",
      "Epoch 35/500\n",
      "186/186 [==============================] - 1s 3ms/step - loss: 0.3596 - mean_absolute_error: 0.4247 - root_mean_squared_error: 0.5997 - val_loss: 0.3594 - val_mean_absolute_error: 0.4211 - val_root_mean_squared_error: 0.5995 - lr: 1.0000e-08\n",
      "Epoch 36/500\n",
      "186/186 [==============================] - 1s 3ms/step - loss: 0.3596 - mean_absolute_error: 0.4247 - root_mean_squared_error: 0.5997 - val_loss: 0.3594 - val_mean_absolute_error: 0.4211 - val_root_mean_squared_error: 0.5995 - lr: 1.0000e-08\n",
      "Epoch 37/500\n",
      "186/186 [==============================] - 1s 3ms/step - loss: 0.3596 - mean_absolute_error: 0.4247 - root_mean_squared_error: 0.5997 - val_loss: 0.3594 - val_mean_absolute_error: 0.4211 - val_root_mean_squared_error: 0.5995 - lr: 1.0000e-08\n",
      "Epoch 38/500\n",
      "186/186 [==============================] - 1s 3ms/step - loss: 0.3596 - mean_absolute_error: 0.4247 - root_mean_squared_error: 0.5997 - val_loss: 0.3594 - val_mean_absolute_error: 0.4211 - val_root_mean_squared_error: 0.5995 - lr: 1.0000e-08\n",
      "Epoch 39/500\n",
      "186/186 [==============================] - 1s 3ms/step - loss: 0.3596 - mean_absolute_error: 0.4247 - root_mean_squared_error: 0.5997 - val_loss: 0.3594 - val_mean_absolute_error: 0.4211 - val_root_mean_squared_error: 0.5995 - lr: 1.0000e-08\n",
      "Epoch 40/500\n",
      "186/186 [==============================] - 1s 3ms/step - loss: 0.3596 - mean_absolute_error: 0.4247 - root_mean_squared_error: 0.5997 - val_loss: 0.3594 - val_mean_absolute_error: 0.4211 - val_root_mean_squared_error: 0.5995 - lr: 1.0000e-08\n",
      "Epoch 41/500\n",
      "186/186 [==============================] - 1s 3ms/step - loss: 0.3596 - mean_absolute_error: 0.4247 - root_mean_squared_error: 0.5997 - val_loss: 0.3594 - val_mean_absolute_error: 0.4211 - val_root_mean_squared_error: 0.5995 - lr: 1.0000e-08\n",
      "Epoch 42/500\n",
      "186/186 [==============================] - 1s 3ms/step - loss: 0.3596 - mean_absolute_error: 0.4247 - root_mean_squared_error: 0.5997 - val_loss: 0.3594 - val_mean_absolute_error: 0.4211 - val_root_mean_squared_error: 0.5995 - lr: 1.0000e-08\n",
      "Epoch 43/500\n",
      "186/186 [==============================] - 1s 3ms/step - loss: 0.3596 - mean_absolute_error: 0.4247 - root_mean_squared_error: 0.5997 - val_loss: 0.3594 - val_mean_absolute_error: 0.4211 - val_root_mean_squared_error: 0.5995 - lr: 1.0000e-08\n",
      "Epoch 44/500\n",
      "186/186 [==============================] - 1s 3ms/step - loss: 0.3596 - mean_absolute_error: 0.4247 - root_mean_squared_error: 0.5997 - val_loss: 0.3594 - val_mean_absolute_error: 0.4211 - val_root_mean_squared_error: 0.5995 - lr: 1.0000e-08\n",
      "Epoch 45/500\n",
      "186/186 [==============================] - 1s 3ms/step - loss: 0.3596 - mean_absolute_error: 0.4247 - root_mean_squared_error: 0.5997 - val_loss: 0.3594 - val_mean_absolute_error: 0.4211 - val_root_mean_squared_error: 0.5995 - lr: 1.0000e-08\n",
      "Epoch 46/500\n",
      "186/186 [==============================] - 1s 3ms/step - loss: 0.3596 - mean_absolute_error: 0.4247 - root_mean_squared_error: 0.5997 - val_loss: 0.3594 - val_mean_absolute_error: 0.4211 - val_root_mean_squared_error: 0.5995 - lr: 1.0000e-08\n",
      "Epoch 47/500\n",
      "186/186 [==============================] - 1s 3ms/step - loss: 0.3596 - mean_absolute_error: 0.4247 - root_mean_squared_error: 0.5997 - val_loss: 0.3594 - val_mean_absolute_error: 0.4211 - val_root_mean_squared_error: 0.5995 - lr: 1.0000e-08\n",
      "Epoch 48/500\n",
      "186/186 [==============================] - 1s 3ms/step - loss: 0.3596 - mean_absolute_error: 0.4247 - root_mean_squared_error: 0.5997 - val_loss: 0.3594 - val_mean_absolute_error: 0.4211 - val_root_mean_squared_error: 0.5995 - lr: 1.0000e-08\n",
      "Epoch 49/500\n",
      "186/186 [==============================] - 1s 3ms/step - loss: 0.3596 - mean_absolute_error: 0.4248 - root_mean_squared_error: 0.5997 - val_loss: 0.3594 - val_mean_absolute_error: 0.4211 - val_root_mean_squared_error: 0.5995 - lr: 1.0000e-08\n",
      "Epoch 50/500\n",
      "186/186 [==============================] - 1s 3ms/step - loss: 0.3596 - mean_absolute_error: 0.4247 - root_mean_squared_error: 0.5997 - val_loss: 0.3594 - val_mean_absolute_error: 0.4211 - val_root_mean_squared_error: 0.5995 - lr: 1.0000e-08\n",
      "Epoch 51/500\n",
      "186/186 [==============================] - 1s 3ms/step - loss: 0.3596 - mean_absolute_error: 0.4247 - root_mean_squared_error: 0.5997 - val_loss: 0.3594 - val_mean_absolute_error: 0.4211 - val_root_mean_squared_error: 0.5995 - lr: 1.0000e-08\n",
      "Epoch 52/500\n",
      "186/186 [==============================] - 1s 3ms/step - loss: 0.3596 - mean_absolute_error: 0.4247 - root_mean_squared_error: 0.5997 - val_loss: 0.3594 - val_mean_absolute_error: 0.4211 - val_root_mean_squared_error: 0.5995 - lr: 1.0000e-08\n",
      "Epoch 53/500\n",
      "186/186 [==============================] - 1s 3ms/step - loss: 0.3596 - mean_absolute_error: 0.4248 - root_mean_squared_error: 0.5997 - val_loss: 0.3594 - val_mean_absolute_error: 0.4211 - val_root_mean_squared_error: 0.5995 - lr: 1.0000e-08\n",
      "Epoch 54/500\n",
      "186/186 [==============================] - 1s 3ms/step - loss: 0.3596 - mean_absolute_error: 0.4248 - root_mean_squared_error: 0.5997 - val_loss: 0.3594 - val_mean_absolute_error: 0.4211 - val_root_mean_squared_error: 0.5995 - lr: 1.0000e-08\n",
      "Epoch 55/500\n",
      "186/186 [==============================] - 1s 3ms/step - loss: 0.3596 - mean_absolute_error: 0.4248 - root_mean_squared_error: 0.5997 - val_loss: 0.3594 - val_mean_absolute_error: 0.4211 - val_root_mean_squared_error: 0.5995 - lr: 1.0000e-08\n",
      "Epoch 55: early stopping\n"
     ]
    }
   ],
   "source": [
    "from keras.callbacks import EarlyStopping,ReduceLROnPlateau\n",
    "\n",
    "early_stopping = EarlyStopping(\n",
    "monitor='val_loss',\n",
    "mode='min',\n",
    "patience=30, \n",
    "min_delta=0.0001,\n",
    "verbose=1, \n",
    ")\n",
    "\n",
    "plat =ReduceLROnPlateau(\n",
    "        monitor=\"val_loss\", \n",
    "        mode='min', \n",
    "        patience=3, \n",
    "        factor=0.1, \n",
    "        min_lr=1e-8, \n",
    "        min_delta=0.000001)\n",
    "\n",
    "model.compile(loss=\"mse\",optimizer=\"adam\",metrics = ['mean_absolute_error',tf.keras.metrics.RootMeanSquaredError()])\n",
    "\n",
    "hist = model.fit(x_train, y_train, epochs=500, \n",
    "                 validation_split=0.2,\n",
    "                 batch_size=128, \n",
    "                 verbose=1,\n",
    "                 callbacks = [early_stopping,plat])\n"
   ]
  },
  {
   "cell_type": "code",
   "execution_count": 353,
   "metadata": {},
   "outputs": [
    {
     "name": "stdout",
     "output_type": "stream",
     "text": [
      "991/991 [==============================] - 1s 1ms/step - loss: 0.3687\n"
     ]
    }
   ],
   "source": [
    "scores = model.evaluate(x_train, y_train, batch_size=30)\n",
    "# print(\"%s: %.2f%%\" % (model.metrics_names[1], scores[1]*100))\n"
   ]
  },
  {
   "cell_type": "code",
   "execution_count": 358,
   "metadata": {},
   "outputs": [
    {
     "data": {
      "image/png": "[encoded data removed]",
      "text/plain": [
       "<Figure size 640x480 with 1 Axes>"
      ]
     },
     "metadata": {},
     "output_type": "display_data"
    }
   ],
   "source": [
    "plt.plot(hist.history['mean_absolute_error'])\n",
    "plt.plot(hist.history['val_loss'])\n",
    "plt.title('Model Accuracy')\n",
    "plt.ylabel('Accuracy')\n",
    "plt.xlabel('Epoch')\n",
    "plt.legend(['mean_absolute_error', 'val_loss'], loc='upper left')\n",
    "plt.show()"
   ]
  },
  {
   "cell_type": "code",
   "execution_count": 355,
   "metadata": {},
   "outputs": [
    {
     "name": "stdout",
     "output_type": "stream",
     "text": [
      "774/774 [==============================] - 1s 1ms/step\n",
      "[[7.0889129e-08]\n",
      " [5.0411216e-29]\n",
      " [4.4107490e+00]\n",
      " [5.0000000e+00]\n",
      " [1.2700313e-24]\n",
      " [5.0000000e+00]\n",
      " [2.0633131e-09]\n",
      " [4.7453785e+00]\n",
      " [5.0000000e+00]\n",
      " [8.7000669e-25]\n",
      " [4.9999981e+00]\n",
      " [4.9999905e+00]\n",
      " [3.5655617e-31]\n",
      " [4.9956901e-23]\n",
      " [5.0000000e+00]\n",
      " [5.0000000e+00]\n",
      " [1.3311076e-25]\n",
      " [4.0919218e+00]\n",
      " [4.9985943e+00]\n",
      " [2.8813537e-07]]\n"
     ]
    }
   ],
   "source": [
    "preds =[]\n",
    "test = test.drop([\"id\"],axis = 1)\n",
    "preds.append(model.predict(test))\n",
    "pred = np.average(np.array(preds),axis=0)\n",
    "\n",
    "print(pred[:20])\n",
    "\n",
    "# 15-3 경로와 파일명 지정\n",
    "submission = pd.read_csv(DATAPATH/'sample_submission.csv',index_col=\"id\")\n",
    "# submission = pd.read_csv(DATAPATH/\"sample_submission.csv\",index_col=\"id\")\n",
    "submission['MedHouseVal'] = pred\n",
    "submission.to_csv(DATAPATH/\"submission_4.csv\")\n"
   ]
  }
 ],
 "metadata": {
  "kernelspec": {
   "display_name": "Python 3",
   "language": "python",
   "name": "python3"
  },
  "language_info": {
   "codemirror_mode": {
    "name": "ipython",
    "version": 3
   },
   "file_extension": ".py",
   "mimetype": "text/x-python",
   "name": "python",
   "nbconvert_exporter": "python",
   "pygments_lexer": "ipython3",
   "version": "3.8.10"
  },
  "orig_nbformat": 4,
  "vscode": {
   "interpreter": {
    "hash": "949777d72b0d2535278d3dc13498b2535136f6dfe0678499012e853ee9abcab1"
   }
  }
 },
 "nbformat": 4,
 "nbformat_minor": 2
}
