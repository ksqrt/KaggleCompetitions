{
 "cells": [
  {
   "cell_type": "code",
   "execution_count": 2,
   "metadata": {},
   "outputs": [],
   "source": [
    "import pandas as pd\n",
    "from pathlib import Path\n",
    "import numpy as np"
   ]
  },
  {
   "cell_type": "code",
   "execution_count": 5,
   "metadata": {},
   "outputs": [],
   "source": [
    "DATAPATH = Path('./playground-series-s3e1/')\n",
    "N_ESTIMATORS = 100_000\n",
    "\n",
    "train = pd.read_csv(DATAPATH/'train.csv')\n",
    "test = pd.read_csv(DATAPATH/'test.csv')\n",
    "sample_sub = pd.read_csv(DATAPATH/'sample_submission.csv')"
   ]
  },
  {
   "cell_type": "code",
   "execution_count": 7,
   "metadata": {},
   "outputs": [
    {
     "data": {
      "text/html": [
       "<div>\n",
       "<style scoped>\n",
       "    .dataframe tbody tr th:only-of-type {\n",
       "        vertical-align: middle;\n",
       "    }\n",
       "\n",
       "    .dataframe tbody tr th {\n",
       "        vertical-align: top;\n",
       "    }\n",
       "\n",
       "    .dataframe thead th {\n",
       "        text-align: right;\n",
       "    }\n",
       "</style>\n",
       "<table border=\"1\" class=\"dataframe\">\n",
       "  <thead>\n",
       "    <tr style=\"text-align: right;\">\n",
       "      <th></th>\n",
       "      <th>id</th>\n",
       "      <th>MedInc</th>\n",
       "      <th>HouseAge</th>\n",
       "      <th>AveRooms</th>\n",
       "      <th>AveBedrms</th>\n",
       "      <th>Population</th>\n",
       "      <th>AveOccup</th>\n",
       "      <th>Latitude</th>\n",
       "      <th>Longitude</th>\n",
       "      <th>MedHouseVal</th>\n",
       "    </tr>\n",
       "  </thead>\n",
       "  <tbody>\n",
       "    <tr>\n",
       "      <th>0</th>\n",
       "      <td>0</td>\n",
       "      <td>2.3859</td>\n",
       "      <td>15.0</td>\n",
       "      <td>3.827160</td>\n",
       "      <td>1.112100</td>\n",
       "      <td>1280.0</td>\n",
       "      <td>2.486989</td>\n",
       "      <td>34.60</td>\n",
       "      <td>-120.12</td>\n",
       "      <td>0.980</td>\n",
       "    </tr>\n",
       "    <tr>\n",
       "      <th>1</th>\n",
       "      <td>1</td>\n",
       "      <td>3.7188</td>\n",
       "      <td>17.0</td>\n",
       "      <td>6.013373</td>\n",
       "      <td>1.054217</td>\n",
       "      <td>1504.0</td>\n",
       "      <td>3.813084</td>\n",
       "      <td>38.69</td>\n",
       "      <td>-121.22</td>\n",
       "      <td>0.946</td>\n",
       "    </tr>\n",
       "    <tr>\n",
       "      <th>2</th>\n",
       "      <td>2</td>\n",
       "      <td>4.7750</td>\n",
       "      <td>27.0</td>\n",
       "      <td>6.535604</td>\n",
       "      <td>1.103175</td>\n",
       "      <td>1061.0</td>\n",
       "      <td>2.464602</td>\n",
       "      <td>34.71</td>\n",
       "      <td>-120.45</td>\n",
       "      <td>1.576</td>\n",
       "    </tr>\n",
       "    <tr>\n",
       "      <th>3</th>\n",
       "      <td>3</td>\n",
       "      <td>2.4138</td>\n",
       "      <td>16.0</td>\n",
       "      <td>3.350203</td>\n",
       "      <td>0.965432</td>\n",
       "      <td>1255.0</td>\n",
       "      <td>2.089286</td>\n",
       "      <td>32.66</td>\n",
       "      <td>-117.09</td>\n",
       "      <td>1.336</td>\n",
       "    </tr>\n",
       "    <tr>\n",
       "      <th>4</th>\n",
       "      <td>4</td>\n",
       "      <td>3.7500</td>\n",
       "      <td>52.0</td>\n",
       "      <td>4.284404</td>\n",
       "      <td>1.069246</td>\n",
       "      <td>1793.0</td>\n",
       "      <td>1.604790</td>\n",
       "      <td>37.80</td>\n",
       "      <td>-122.41</td>\n",
       "      <td>4.500</td>\n",
       "    </tr>\n",
       "  </tbody>\n",
       "</table>\n",
       "</div>"
      ],
      "text/plain": [
       "   id  MedInc  HouseAge  AveRooms  AveBedrms  Population  AveOccup  Latitude  \\\n",
       "0   0  2.3859      15.0  3.827160   1.112100      1280.0  2.486989     34.60   \n",
       "1   1  3.7188      17.0  6.013373   1.054217      1504.0  3.813084     38.69   \n",
       "2   2  4.7750      27.0  6.535604   1.103175      1061.0  2.464602     34.71   \n",
       "3   3  2.4138      16.0  3.350203   0.965432      1255.0  2.089286     32.66   \n",
       "4   4  3.7500      52.0  4.284404   1.069246      1793.0  1.604790     37.80   \n",
       "\n",
       "   Longitude  MedHouseVal  \n",
       "0    -120.12        0.980  \n",
       "1    -121.22        0.946  \n",
       "2    -120.45        1.576  \n",
       "3    -117.09        1.336  \n",
       "4    -122.41        4.500  "
      ]
     },
     "execution_count": 7,
     "metadata": {},
     "output_type": "execute_result"
    }
   ],
   "source": [
    "train.head()"
   ]
  }
 ],
 "metadata": {
  "kernelspec": {
   "display_name": "Python 3",
   "language": "python",
   "name": "python3"
  },
  "language_info": {
   "codemirror_mode": {
    "name": "ipython",
    "version": 3
   },
   "file_extension": ".py",
   "mimetype": "text/x-python",
   "name": "python",
   "nbconvert_exporter": "python",
   "pygments_lexer": "ipython3",
   "version": "3.8.10"
  },
  "orig_nbformat": 4,
  "vscode": {
   "interpreter": {
    "hash": "916dbcbb3f70747c44a77c7bcd40155683ae19c65e1c03b4aa3499c5328201f1"
   }
  }
 },
 "nbformat": 4,
 "nbformat_minor": 2
}
