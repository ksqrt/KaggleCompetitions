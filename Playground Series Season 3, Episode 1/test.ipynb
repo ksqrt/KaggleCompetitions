{
 "cells": [
  {
   "cell_type": "code",
   "execution_count": 189,
   "metadata": {},
   "outputs": [],
   "source": [
    "import pandas as pd\n",
    "from pathlib import Path\n",
    "import numpy as np"
   ]
  },
  {
   "cell_type": "code",
   "execution_count": 190,
   "metadata": {},
   "outputs": [],
   "source": [
    "# 1 라이브러리 임포트\n",
    "\n",
    "import pandas as pd\n",
    "import numpy as np\n",
    "import tensorflow as tf\n",
    "import sklearn as sk\n",
    "\n",
    "# 알고리즘을 그래픽화 하기위한 라이브러리\n",
    "import seaborn as sns\n",
    "import matplotlib.pylab as plt\n",
    "from matplotlib import rcParams\n",
    "import re\n",
    "from keras.models import Sequential\n",
    "from keras.layers import Dense, Activation, Dropout\n",
    "import keras\n",
    "\n",
    "# 모델생성 라이브러리\n",
    "from tensorflow.keras.models import Sequential\n",
    "from tensorflow.keras.layers import Dense\n",
    "\n",
    "# 데이터 스플릿,스케일링\n",
    "from sklearn.model_selection import train_test_split\n",
    "from sklearn.preprocessing import MinMaxScaler,StandardScaler"
   ]
  },
  {
   "cell_type": "code",
   "execution_count": 191,
   "metadata": {},
   "outputs": [],
   "source": [
    "DATAPATH = Path('./playground-series-s3e1/')\n",
    "# N_ESTIMATORS = 100_000\n",
    "\n",
    "train = pd.read_csv(DATAPATH/'train.csv')\n",
    "test = pd.read_csv(DATAPATH/'test.csv')\n",
    "sample_sub = pd.read_csv(DATAPATH/'sample_submission.csv')"
   ]
  },
  {
   "cell_type": "code",
   "execution_count": 192,
   "metadata": {},
   "outputs": [
    {
     "name": "stdout",
     "output_type": "stream",
     "text": [
      "(37137, 10)\n"
     ]
    },
    {
     "data": {
      "text/html": [
       "<div>\n",
       "<style scoped>\n",
       "    .dataframe tbody tr th:only-of-type {\n",
       "        vertical-align: middle;\n",
       "    }\n",
       "\n",
       "    .dataframe tbody tr th {\n",
       "        vertical-align: top;\n",
       "    }\n",
       "\n",
       "    .dataframe thead th {\n",
       "        text-align: right;\n",
       "    }\n",
       "</style>\n",
       "<table border=\"1\" class=\"dataframe\">\n",
       "  <thead>\n",
       "    <tr style=\"text-align: right;\">\n",
       "      <th></th>\n",
       "      <th>id</th>\n",
       "      <th>MedInc</th>\n",
       "      <th>HouseAge</th>\n",
       "      <th>AveRooms</th>\n",
       "      <th>AveBedrms</th>\n",
       "      <th>Population</th>\n",
       "      <th>AveOccup</th>\n",
       "      <th>Latitude</th>\n",
       "      <th>Longitude</th>\n",
       "      <th>MedHouseVal</th>\n",
       "    </tr>\n",
       "  </thead>\n",
       "  <tbody>\n",
       "    <tr>\n",
       "      <th>0</th>\n",
       "      <td>0</td>\n",
       "      <td>2.3859</td>\n",
       "      <td>15.0</td>\n",
       "      <td>3.827160</td>\n",
       "      <td>1.112100</td>\n",
       "      <td>1280.0</td>\n",
       "      <td>2.486989</td>\n",
       "      <td>34.60</td>\n",
       "      <td>-120.12</td>\n",
       "      <td>0.980</td>\n",
       "    </tr>\n",
       "    <tr>\n",
       "      <th>1</th>\n",
       "      <td>1</td>\n",
       "      <td>3.7188</td>\n",
       "      <td>17.0</td>\n",
       "      <td>6.013373</td>\n",
       "      <td>1.054217</td>\n",
       "      <td>1504.0</td>\n",
       "      <td>3.813084</td>\n",
       "      <td>38.69</td>\n",
       "      <td>-121.22</td>\n",
       "      <td>0.946</td>\n",
       "    </tr>\n",
       "    <tr>\n",
       "      <th>2</th>\n",
       "      <td>2</td>\n",
       "      <td>4.7750</td>\n",
       "      <td>27.0</td>\n",
       "      <td>6.535604</td>\n",
       "      <td>1.103175</td>\n",
       "      <td>1061.0</td>\n",
       "      <td>2.464602</td>\n",
       "      <td>34.71</td>\n",
       "      <td>-120.45</td>\n",
       "      <td>1.576</td>\n",
       "    </tr>\n",
       "    <tr>\n",
       "      <th>3</th>\n",
       "      <td>3</td>\n",
       "      <td>2.4138</td>\n",
       "      <td>16.0</td>\n",
       "      <td>3.350203</td>\n",
       "      <td>0.965432</td>\n",
       "      <td>1255.0</td>\n",
       "      <td>2.089286</td>\n",
       "      <td>32.66</td>\n",
       "      <td>-117.09</td>\n",
       "      <td>1.336</td>\n",
       "    </tr>\n",
       "    <tr>\n",
       "      <th>4</th>\n",
       "      <td>4</td>\n",
       "      <td>3.7500</td>\n",
       "      <td>52.0</td>\n",
       "      <td>4.284404</td>\n",
       "      <td>1.069246</td>\n",
       "      <td>1793.0</td>\n",
       "      <td>1.604790</td>\n",
       "      <td>37.80</td>\n",
       "      <td>-122.41</td>\n",
       "      <td>4.500</td>\n",
       "    </tr>\n",
       "  </tbody>\n",
       "</table>\n",
       "</div>"
      ],
      "text/plain": [
       "   id  MedInc  HouseAge  AveRooms  AveBedrms  Population  AveOccup  Latitude  \\\n",
       "0   0  2.3859      15.0  3.827160   1.112100      1280.0  2.486989     34.60   \n",
       "1   1  3.7188      17.0  6.013373   1.054217      1504.0  3.813084     38.69   \n",
       "2   2  4.7750      27.0  6.535604   1.103175      1061.0  2.464602     34.71   \n",
       "3   3  2.4138      16.0  3.350203   0.965432      1255.0  2.089286     32.66   \n",
       "4   4  3.7500      52.0  4.284404   1.069246      1793.0  1.604790     37.80   \n",
       "\n",
       "   Longitude  MedHouseVal  \n",
       "0    -120.12        0.980  \n",
       "1    -121.22        0.946  \n",
       "2    -120.45        1.576  \n",
       "3    -117.09        1.336  \n",
       "4    -122.41        4.500  "
      ]
     },
     "execution_count": 192,
     "metadata": {},
     "output_type": "execute_result"
    }
   ],
   "source": [
    "# 쉐잎 조회\n",
    "# y 값은 MedHouseVal 임 근데 숫자니까 회귀 모델임\n",
    "print(train.shape)\n",
    "train.head()"
   ]
  },
  {
   "cell_type": "code",
   "execution_count": 193,
   "metadata": {},
   "outputs": [
    {
     "data": {
      "text/plain": [
       "id             0\n",
       "MedInc         0\n",
       "HouseAge       0\n",
       "AveRooms       0\n",
       "AveBedrms      0\n",
       "Population     0\n",
       "AveOccup       0\n",
       "Latitude       0\n",
       "Longitude      0\n",
       "MedHouseVal    0\n",
       "dtype: int64"
      ]
     },
     "execution_count": 193,
     "metadata": {},
     "output_type": "execute_result"
    }
   ],
   "source": [
    "# 칼럼별 na 값 조회 이 데이터는 nan 이 없음 \n",
    "train.isna().sum()"
   ]
  },
  {
   "cell_type": "code",
   "execution_count": 194,
   "metadata": {},
   "outputs": [
    {
     "name": "stdout",
     "output_type": "stream",
     "text": [
      "(37137, 8) (37137,)\n"
     ]
    }
   ],
   "source": [
    "# 데이터 전처리1. 데이터 스플릿\n",
    "\n",
    "\n",
    "x = train.drop([\"MedHouseVal\",\"id\"],axis=1)\n",
    "y = train[\"MedHouseVal\"]\n",
    "# print(x.shape,test.shape)\n",
    "print(x.shape,y.shape)"
   ]
  },
  {
   "cell_type": "code",
   "execution_count": 195,
   "metadata": {},
   "outputs": [
    {
     "name": "stdout",
     "output_type": "stream",
     "text": [
      "(29709, 8) (7428, 8)\n",
      "(29709,) (7428,)\n"
     ]
    }
   ],
   "source": [
    "from sklearn.model_selection import train_test_split\n",
    "x_train, x_test, y_train,y_test = train_test_split(\n",
    "    x,\n",
    "    y,\n",
    "    train_size=0.8,\n",
    "    shuffle = True,\n",
    "    # stratify = y,\n",
    "    # random_state=1\n",
    ")\n",
    "print(x_train.shape,x_test.shape)\n",
    "print(y_train.shape,y_test.shape)"
   ]
  },
  {
   "cell_type": "code",
   "execution_count": 196,
   "metadata": {},
   "outputs": [
    {
     "name": "stdout",
     "output_type": "stream",
     "text": [
      "<class 'pandas.core.frame.DataFrame'>\n",
      "Int64Index: 29709 entries, 90 to 21294\n",
      "Data columns (total 8 columns):\n",
      " #   Column      Non-Null Count  Dtype  \n",
      "---  ------      --------------  -----  \n",
      " 0   MedInc      29709 non-null  float64\n",
      " 1   HouseAge    29709 non-null  float64\n",
      " 2   AveRooms    29709 non-null  float64\n",
      " 3   AveBedrms   29709 non-null  float64\n",
      " 4   Population  29709 non-null  float64\n",
      " 5   AveOccup    29709 non-null  float64\n",
      " 6   Latitude    29709 non-null  float64\n",
      " 7   Longitude   29709 non-null  float64\n",
      "dtypes: float64(8)\n",
      "memory usage: 2.0 MB\n"
     ]
    }
   ],
   "source": [
    "x_train.info()"
   ]
  },
  {
   "cell_type": "code",
   "execution_count": 197,
   "metadata": {},
   "outputs": [],
   "source": [
    "# 데이터 스케일링 \n",
    "\n",
    "scaler = MinMaxScaler()\n",
    "\n",
    "scaler.fit(x_train)\n",
    "x_train = scaler.transform(x_train)\n",
    "x_test = scaler.transform(x_test)"
   ]
  },
  {
   "cell_type": "code",
   "execution_count": 198,
   "metadata": {},
   "outputs": [
    {
     "name": "stdout",
     "output_type": "stream",
     "text": [
      "(29709, 8) (29709,)\n"
     ]
    }
   ],
   "source": [
    "print(x_train.shape,y_train.shape)"
   ]
  },
  {
   "cell_type": "code",
   "execution_count": 199,
   "metadata": {},
   "outputs": [
    {
     "name": "stdout",
     "output_type": "stream",
     "text": [
      "Model: \"sequential_13\"\n",
      "_________________________________________________________________\n",
      " Layer (type)                Output Shape              Param #   \n",
      "=================================================================\n",
      " dense_117 (Dense)           (None, 256)               2304      \n",
      "                                                                 \n",
      " dropout_88 (Dropout)        (None, 256)               0         \n",
      "                                                                 \n",
      " dense_118 (Dense)           (None, 128)               32896     \n",
      "                                                                 \n",
      " dropout_89 (Dropout)        (None, 128)               0         \n",
      "                                                                 \n",
      " dense_119 (Dense)           (None, 64)                8256      \n",
      "                                                                 \n",
      " dropout_90 (Dropout)        (None, 64)                0         \n",
      "                                                                 \n",
      " dense_120 (Dense)           (None, 32)                2080      \n",
      "                                                                 \n",
      " dropout_91 (Dropout)        (None, 32)                0         \n",
      "                                                                 \n",
      " dense_121 (Dense)           (None, 16)                528       \n",
      "                                                                 \n",
      " dropout_92 (Dropout)        (None, 16)                0         \n",
      "                                                                 \n",
      " dense_122 (Dense)           (None, 8)                 136       \n",
      "                                                                 \n",
      " dropout_93 (Dropout)        (None, 8)                 0         \n",
      "                                                                 \n",
      " dense_123 (Dense)           (None, 4)                 36        \n",
      "                                                                 \n",
      " dropout_94 (Dropout)        (None, 4)                 0         \n",
      "                                                                 \n",
      " dense_124 (Dense)           (None, 2)                 10        \n",
      "                                                                 \n",
      " dropout_95 (Dropout)        (None, 2)                 0         \n",
      "                                                                 \n",
      " dense_125 (Dense)           (None, 1)                 3         \n",
      "                                                                 \n",
      "=================================================================\n",
      "Total params: 46,249\n",
      "Trainable params: 46,249\n",
      "Non-trainable params: 0\n",
      "_________________________________________________________________\n"
     ]
    }
   ],
   "source": [
    "# 5 모델구성\n",
    "\n",
    "dr = 0.1\n",
    "model = Sequential([\n",
    "    Dense(256,input_dim=8,activation=\"relu\"),\n",
    "    Dropout(rate=dr),\n",
    "    Dense(128,activation=\"relu\"),\n",
    "    Dropout(rate=dr),\n",
    "    Dense(64,activation=\"relu\"),\n",
    "    Dropout(rate=dr),\n",
    "    Dense(32,activation=\"relu\"),\n",
    "    Dropout(rate=dr),\n",
    "    Dense(16,activation=\"relu\"),\n",
    "    Dropout(rate=dr),\n",
    "    Dense(8,activation=\"relu\"),\n",
    "    Dropout(rate=dr),\n",
    "    Dense(4,activation=\"relu\"),\n",
    "    Dropout(rate=dr),\n",
    "    Dense(2,activation=\"relu\"),\n",
    "    Dropout(rate=dr),\n",
    "# 이진분할 이기때문에 출력층 1 , sigmoid\n",
    "    Dense(1)\n",
    "])\n",
    "model.summary()\n"
   ]
  },
  {
   "cell_type": "code",
   "execution_count": 200,
   "metadata": {},
   "outputs": [
    {
     "name": "stdout",
     "output_type": "stream",
     "text": [
      "Epoch 1/500\n",
      "186/186 [==============================] - 2s 5ms/step - loss: 1.9933 - val_loss: 1.0031 - lr: 0.0010\n",
      "Epoch 2/500\n",
      "186/186 [==============================] - 1s 4ms/step - loss: 1.2291 - val_loss: 0.8780 - lr: 0.0010\n",
      "Epoch 3/500\n",
      "186/186 [==============================] - 1s 4ms/step - loss: 1.0594 - val_loss: 0.8387 - lr: 0.0010\n",
      "Epoch 4/500\n",
      "186/186 [==============================] - 1s 4ms/step - loss: 0.9505 - val_loss: 0.6992 - lr: 0.0010\n",
      "Epoch 5/500\n",
      "186/186 [==============================] - 1s 4ms/step - loss: 0.8967 - val_loss: 0.7500 - lr: 0.0010\n",
      "Epoch 6/500\n",
      "186/186 [==============================] - 1s 4ms/step - loss: 0.8575 - val_loss: 0.7155 - lr: 0.0010\n",
      "Epoch 7/500\n",
      "186/186 [==============================] - 1s 4ms/step - loss: 0.7822 - val_loss: 0.6006 - lr: 0.0010\n",
      "Epoch 8/500\n",
      "186/186 [==============================] - 1s 4ms/step - loss: 0.7440 - val_loss: 0.6128 - lr: 0.0010\n",
      "Epoch 9/500\n",
      "186/186 [==============================] - 1s 4ms/step - loss: 0.7275 - val_loss: 0.5693 - lr: 0.0010\n",
      "Epoch 10/500\n",
      "186/186 [==============================] - 1s 4ms/step - loss: 0.6904 - val_loss: 0.5616 - lr: 0.0010\n",
      "Epoch 11/500\n",
      "186/186 [==============================] - 1s 4ms/step - loss: 0.6897 - val_loss: 0.5223 - lr: 0.0010\n",
      "Epoch 12/500\n",
      "186/186 [==============================] - 1s 5ms/step - loss: 0.6775 - val_loss: 0.5602 - lr: 0.0010\n",
      "Epoch 13/500\n",
      "186/186 [==============================] - 1s 4ms/step - loss: 0.6642 - val_loss: 0.5151 - lr: 0.0010\n",
      "Epoch 14/500\n",
      "186/186 [==============================] - 1s 4ms/step - loss: 0.6478 - val_loss: 0.4897 - lr: 0.0010\n",
      "Epoch 15/500\n",
      "186/186 [==============================] - 1s 4ms/step - loss: 0.6358 - val_loss: 0.5056 - lr: 0.0010\n",
      "Epoch 16/500\n",
      "186/186 [==============================] - 1s 4ms/step - loss: 0.6324 - val_loss: 0.5088 - lr: 0.0010\n",
      "Epoch 17/500\n",
      "186/186 [==============================] - 1s 4ms/step - loss: 0.6109 - val_loss: 0.5003 - lr: 0.0010\n",
      "Epoch 18/500\n",
      "186/186 [==============================] - 1s 4ms/step - loss: 0.5919 - val_loss: 0.5113 - lr: 1.0000e-04\n",
      "Epoch 19/500\n",
      "186/186 [==============================] - 1s 4ms/step - loss: 0.5888 - val_loss: 0.5165 - lr: 1.0000e-04\n",
      "Epoch 20/500\n",
      "186/186 [==============================] - 1s 4ms/step - loss: 0.5939 - val_loss: 0.4870 - lr: 1.0000e-04\n",
      "Epoch 21/500\n",
      "186/186 [==============================] - 1s 4ms/step - loss: 0.5902 - val_loss: 0.4937 - lr: 1.0000e-04\n",
      "Epoch 22/500\n",
      "186/186 [==============================] - 1s 4ms/step - loss: 0.5965 - val_loss: 0.5154 - lr: 1.0000e-04\n",
      "Epoch 23/500\n",
      "186/186 [==============================] - 1s 4ms/step - loss: 0.5828 - val_loss: 0.5094 - lr: 1.0000e-04\n",
      "Epoch 24/500\n",
      "186/186 [==============================] - 1s 4ms/step - loss: 0.5830 - val_loss: 0.4907 - lr: 1.0000e-05\n",
      "Epoch 25/500\n",
      "186/186 [==============================] - 1s 4ms/step - loss: 0.5797 - val_loss: 0.4930 - lr: 1.0000e-05\n",
      "Epoch 26/500\n",
      "186/186 [==============================] - 1s 4ms/step - loss: 0.5897 - val_loss: 0.4909 - lr: 1.0000e-05\n",
      "Epoch 27/500\n",
      "186/186 [==============================] - 1s 4ms/step - loss: 0.5847 - val_loss: 0.4902 - lr: 1.0000e-06\n",
      "Epoch 28/500\n",
      "186/186 [==============================] - 1s 4ms/step - loss: 0.5929 - val_loss: 0.4905 - lr: 1.0000e-06\n",
      "Epoch 29/500\n",
      "186/186 [==============================] - 1s 4ms/step - loss: 0.5838 - val_loss: 0.4905 - lr: 1.0000e-06\n",
      "Epoch 30/500\n",
      "186/186 [==============================] - 1s 4ms/step - loss: 0.5980 - val_loss: 0.4905 - lr: 1.0000e-07\n",
      "Epoch 31/500\n",
      "186/186 [==============================] - 1s 4ms/step - loss: 0.5793 - val_loss: 0.4905 - lr: 1.0000e-07\n",
      "Epoch 32/500\n",
      "186/186 [==============================] - 1s 4ms/step - loss: 0.5875 - val_loss: 0.4904 - lr: 1.0000e-07\n",
      "Epoch 33/500\n",
      "186/186 [==============================] - 1s 4ms/step - loss: 0.5778 - val_loss: 0.4904 - lr: 1.0000e-08\n",
      "Epoch 34/500\n",
      "186/186 [==============================] - 1s 4ms/step - loss: 0.5824 - val_loss: 0.4904 - lr: 1.0000e-08\n",
      "Epoch 35/500\n",
      "186/186 [==============================] - 1s 4ms/step - loss: 0.5743 - val_loss: 0.4904 - lr: 1.0000e-08\n",
      "Epoch 36/500\n",
      "186/186 [==============================] - 1s 4ms/step - loss: 0.5820 - val_loss: 0.4904 - lr: 1.0000e-08\n",
      "Epoch 37/500\n",
      "186/186 [==============================] - 1s 4ms/step - loss: 0.5863 - val_loss: 0.4904 - lr: 1.0000e-08\n",
      "Epoch 38/500\n",
      "186/186 [==============================] - 1s 4ms/step - loss: 0.5906 - val_loss: 0.4904 - lr: 1.0000e-08\n",
      "Epoch 39/500\n",
      "186/186 [==============================] - 1s 4ms/step - loss: 0.5754 - val_loss: 0.4904 - lr: 1.0000e-08\n",
      "Epoch 40/500\n",
      "186/186 [==============================] - 1s 4ms/step - loss: 0.5810 - val_loss: 0.4904 - lr: 1.0000e-08\n",
      "Epoch 41/500\n",
      "186/186 [==============================] - 1s 4ms/step - loss: 0.5888 - val_loss: 0.4904 - lr: 1.0000e-08\n",
      "Epoch 42/500\n",
      "186/186 [==============================] - 1s 4ms/step - loss: 0.5932 - val_loss: 0.4904 - lr: 1.0000e-08\n",
      "Epoch 43/500\n",
      "186/186 [==============================] - 1s 4ms/step - loss: 0.5730 - val_loss: 0.4905 - lr: 1.0000e-08\n",
      "Epoch 44/500\n",
      "186/186 [==============================] - 1s 4ms/step - loss: 0.5788 - val_loss: 0.4905 - lr: 1.0000e-08\n",
      "Epoch 45/500\n",
      "186/186 [==============================] - 1s 4ms/step - loss: 0.5747 - val_loss: 0.4905 - lr: 1.0000e-08\n",
      "Epoch 46/500\n",
      "186/186 [==============================] - 1s 4ms/step - loss: 0.5926 - val_loss: 0.4905 - lr: 1.0000e-08\n",
      "Epoch 47/500\n",
      "186/186 [==============================] - 1s 5ms/step - loss: 0.5892 - val_loss: 0.4905 - lr: 1.0000e-08\n",
      "Epoch 48/500\n",
      "186/186 [==============================] - 1s 5ms/step - loss: 0.5837 - val_loss: 0.4905 - lr: 1.0000e-08\n",
      "Epoch 49/500\n",
      "186/186 [==============================] - 1s 4ms/step - loss: 0.5877 - val_loss: 0.4905 - lr: 1.0000e-08\n",
      "Epoch 50/500\n",
      "186/186 [==============================] - 1s 4ms/step - loss: 0.5888 - val_loss: 0.4905 - lr: 1.0000e-08\n",
      "Epoch 50: early stopping\n"
     ]
    }
   ],
   "source": [
    "from keras.callbacks import EarlyStopping,ReduceLROnPlateau\n",
    "\n",
    "early_stopping = EarlyStopping(\n",
    "monitor='val_loss',\n",
    "mode='min',\n",
    "patience=30, \n",
    "min_delta=0.0001,\n",
    "verbose=1, \n",
    ")\n",
    "\n",
    "plat =ReduceLROnPlateau(\n",
    "        monitor=\"val_loss\", \n",
    "        mode='min', \n",
    "        patience=3, \n",
    "        factor=0.1, \n",
    "        min_lr=1e-8, \n",
    "        min_delta=0.000001)\n",
    "\n",
    "model.compile(loss=\"mse\",optimizer=\"adam\")\n",
    "\n",
    "hist = model.fit(x_train, y_train, epochs=500, \n",
    "                 validation_split=0.2,\n",
    "                 batch_size=128, \n",
    "                 verbose=1,\n",
    "                 callbacks = [early_stopping,plat])\n"
   ]
  },
  {
   "cell_type": "code",
   "execution_count": 201,
   "metadata": {},
   "outputs": [
    {
     "name": "stdout",
     "output_type": "stream",
     "text": [
      "991/991 [==============================] - 1s 1ms/step - loss: 0.4707\n"
     ]
    }
   ],
   "source": [
    "scores = model.evaluate(x_train, y_train, batch_size=30)\n",
    "# print(\"%s: %.2f%%\" % (model.metrics_names[1], scores[1]*100))\n"
   ]
  },
  {
   "cell_type": "code",
   "execution_count": 202,
   "metadata": {},
   "outputs": [
    {
     "data": {
      "image/png": "[encoded data removed]",
      "text/plain": [
       "<Figure size 640x480 with 1 Axes>"
      ]
     },
     "metadata": {},
     "output_type": "display_data"
    }
   ],
   "source": [
    "plt.plot(hist.history['loss'])\n",
    "plt.plot(hist.history['val_loss'])\n",
    "plt.title('Model Accuracy')\n",
    "plt.ylabel('Accuracy')\n",
    "plt.xlabel('Epoch')\n",
    "plt.legend(['train', 'test'], loc='upper left')\n",
    "plt.show()"
   ]
  },
  {
   "cell_type": "code",
   "execution_count": 203,
   "metadata": {},
   "outputs": [
    {
     "name": "stdout",
     "output_type": "stream",
     "text": [
      "774/774 [==============================] - 1s 1ms/step\n",
      "[[130.03172 ]\n",
      " [ 86.29876 ]\n",
      " [114.98128 ]\n",
      " [168.47832 ]\n",
      " [ 30.90483 ]\n",
      " [165.62135 ]\n",
      " [139.95372 ]\n",
      " [142.67163 ]\n",
      " [161.67038 ]\n",
      " [ 34.847107]\n",
      " [132.01538 ]\n",
      " [108.28157 ]\n",
      " [ 63.831917]\n",
      " [ 61.184917]\n",
      " [155.36089 ]\n",
      " [171.90616 ]\n",
      " [ 79.87932 ]\n",
      " [115.4143  ]\n",
      " [155.48756 ]\n",
      " [130.65588 ]]\n"
     ]
    }
   ],
   "source": [
    "test = test.drop([\"id\"],axis=1)\n",
    "y_submit = model.predict(test)\n",
    "print(y_submit[:20])\n",
    "\n",
    "# # 1 과 1로 이진변환해주는 코드\n",
    "# y_submit =y_submit.flatten()\n",
    "# # y_predict 가 0.5 보다 크면 1 아니면 0 반환\n",
    "# y_submit = np.where(y_submit > 0.5, 1 , 0)\n",
    "# print(y_submit[:20])"
   ]
  },
  {
   "cell_type": "code",
   "execution_count": 205,
   "metadata": {},
   "outputs": [
    {
     "name": "stdout",
     "output_type": "stream",
     "text": [
      "774/774 [==============================] - 1s 1ms/step\n"
     ]
    }
   ],
   "source": [
    "preds =[]\n",
    "\n",
    "preds.append(model.predict(test))\n",
    "pred = np.average(np.array(preds),axis=0)\n",
    "\n",
    "pred\n",
    "\n",
    "# 15-3 경로와 파일명 지정\n",
    "submission = pd.read_csv(DATAPATH/'sample_submission.csv',index_col=\"id\")\n",
    "# submission = pd.read_csv(DATAPATH/\"sample_submission.csv\",index_col=\"id\")\n",
    "submission['MedHouseVal'] = pred\n",
    "submission.to_csv(DATAPATH/\"submission_3.csv\")\n"
   ]
  }
 ],
 "metadata": {
  "kernelspec": {
   "display_name": "Python 3",
   "language": "python",
   "name": "python3"
  },
  "language_info": {
   "codemirror_mode": {
    "name": "ipython",
    "version": 3
   },
   "file_extension": ".py",
   "mimetype": "text/x-python",
   "name": "python",
   "nbconvert_exporter": "python",
   "pygments_lexer": "ipython3",
   "version": "3.8.10"
  },
  "orig_nbformat": 4,
  "vscode": {
   "interpreter": {
    "hash": "949777d72b0d2535278d3dc13498b2535136f6dfe0678499012e853ee9abcab1"
   }
  }
 },
 "nbformat": 4,
 "nbformat_minor": 2
}
