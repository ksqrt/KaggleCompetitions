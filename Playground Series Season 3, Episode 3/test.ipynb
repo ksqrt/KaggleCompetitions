{
 "cells": [
  {
   "cell_type": "code",
   "execution_count": 68,
   "metadata": {},
   "outputs": [],
   "source": [
    "# 1 라이브러리 임포트\n",
    "\n",
    "import pandas as pd\n",
    "import numpy as np\n",
    "import tensorflow as tf\n",
    "import sklearn as sk\n",
    "\n",
    "# 알고리즘을 그래픽화 하기위한 라이브러리\n",
    "import seaborn as sns\n",
    "import matplotlib.pylab as plt\n",
    "from matplotlib import rcParams\n",
    "import re\n",
    "from keras.models import Sequential\n",
    "from keras.layers import Dense, Activation, Dropout,Rescaling\n",
    "import keras\n",
    "\n",
    "# 모델생성 라이브러리\n",
    "from tensorflow.keras.models import Sequential\n",
    "from tensorflow.keras.layers import Dense\n",
    "\n",
    "# 데이터 스플릿,스케일링\n",
    "from sklearn.model_selection import train_test_split\n",
    "from sklearn.preprocessing import MinMaxScaler,StandardScaler"
   ]
  },
  {
   "cell_type": "code",
   "execution_count": 69,
   "metadata": {},
   "outputs": [],
   "source": [
    "# 1 데이터 불러오기 \n",
    "path = \"../Playground Series Season 3, Episode 3/playground-series-s3e3/\"\n",
    "\n",
    "train_csv = pd.read_csv(path+\"train.csv\")\n",
    "test_csv = pd.read_csv(path+\"test.csv\")\n",
    "submission_csv = pd.read_csv(path+\"sample_submission.csv\")"
   ]
  },
  {
   "cell_type": "code",
   "execution_count": 70,
   "metadata": {},
   "outputs": [
    {
     "data": {
      "text/html": [
       "<div>\n",
       "<style scoped>\n",
       "    .dataframe tbody tr th:only-of-type {\n",
       "        vertical-align: middle;\n",
       "    }\n",
       "\n",
       "    .dataframe tbody tr th {\n",
       "        vertical-align: top;\n",
       "    }\n",
       "\n",
       "    .dataframe thead th {\n",
       "        text-align: right;\n",
       "    }\n",
       "</style>\n",
       "<table border=\"1\" class=\"dataframe\">\n",
       "  <thead>\n",
       "    <tr style=\"text-align: right;\">\n",
       "      <th></th>\n",
       "      <th>id</th>\n",
       "      <th>Age</th>\n",
       "      <th>BusinessTravel</th>\n",
       "      <th>DailyRate</th>\n",
       "      <th>Department</th>\n",
       "      <th>DistanceFromHome</th>\n",
       "      <th>Education</th>\n",
       "      <th>EducationField</th>\n",
       "      <th>EmployeeCount</th>\n",
       "      <th>EnvironmentSatisfaction</th>\n",
       "      <th>...</th>\n",
       "      <th>StandardHours</th>\n",
       "      <th>StockOptionLevel</th>\n",
       "      <th>TotalWorkingYears</th>\n",
       "      <th>TrainingTimesLastYear</th>\n",
       "      <th>WorkLifeBalance</th>\n",
       "      <th>YearsAtCompany</th>\n",
       "      <th>YearsInCurrentRole</th>\n",
       "      <th>YearsSinceLastPromotion</th>\n",
       "      <th>YearsWithCurrManager</th>\n",
       "      <th>Attrition</th>\n",
       "    </tr>\n",
       "  </thead>\n",
       "  <tbody>\n",
       "    <tr>\n",
       "      <th>0</th>\n",
       "      <td>0</td>\n",
       "      <td>36</td>\n",
       "      <td>Travel_Frequently</td>\n",
       "      <td>599</td>\n",
       "      <td>Research &amp; Development</td>\n",
       "      <td>24</td>\n",
       "      <td>3</td>\n",
       "      <td>Medical</td>\n",
       "      <td>1</td>\n",
       "      <td>4</td>\n",
       "      <td>...</td>\n",
       "      <td>80</td>\n",
       "      <td>1</td>\n",
       "      <td>10</td>\n",
       "      <td>2</td>\n",
       "      <td>3</td>\n",
       "      <td>10</td>\n",
       "      <td>0</td>\n",
       "      <td>7</td>\n",
       "      <td>8</td>\n",
       "      <td>0</td>\n",
       "    </tr>\n",
       "    <tr>\n",
       "      <th>1</th>\n",
       "      <td>1</td>\n",
       "      <td>35</td>\n",
       "      <td>Travel_Rarely</td>\n",
       "      <td>921</td>\n",
       "      <td>Sales</td>\n",
       "      <td>8</td>\n",
       "      <td>3</td>\n",
       "      <td>Other</td>\n",
       "      <td>1</td>\n",
       "      <td>1</td>\n",
       "      <td>...</td>\n",
       "      <td>80</td>\n",
       "      <td>1</td>\n",
       "      <td>4</td>\n",
       "      <td>3</td>\n",
       "      <td>3</td>\n",
       "      <td>4</td>\n",
       "      <td>2</td>\n",
       "      <td>0</td>\n",
       "      <td>3</td>\n",
       "      <td>0</td>\n",
       "    </tr>\n",
       "    <tr>\n",
       "      <th>2</th>\n",
       "      <td>2</td>\n",
       "      <td>32</td>\n",
       "      <td>Travel_Rarely</td>\n",
       "      <td>718</td>\n",
       "      <td>Sales</td>\n",
       "      <td>26</td>\n",
       "      <td>3</td>\n",
       "      <td>Marketing</td>\n",
       "      <td>1</td>\n",
       "      <td>3</td>\n",
       "      <td>...</td>\n",
       "      <td>80</td>\n",
       "      <td>2</td>\n",
       "      <td>4</td>\n",
       "      <td>3</td>\n",
       "      <td>3</td>\n",
       "      <td>3</td>\n",
       "      <td>2</td>\n",
       "      <td>1</td>\n",
       "      <td>2</td>\n",
       "      <td>0</td>\n",
       "    </tr>\n",
       "    <tr>\n",
       "      <th>3</th>\n",
       "      <td>3</td>\n",
       "      <td>38</td>\n",
       "      <td>Travel_Rarely</td>\n",
       "      <td>1488</td>\n",
       "      <td>Research &amp; Development</td>\n",
       "      <td>2</td>\n",
       "      <td>3</td>\n",
       "      <td>Medical</td>\n",
       "      <td>1</td>\n",
       "      <td>3</td>\n",
       "      <td>...</td>\n",
       "      <td>80</td>\n",
       "      <td>0</td>\n",
       "      <td>15</td>\n",
       "      <td>1</td>\n",
       "      <td>1</td>\n",
       "      <td>6</td>\n",
       "      <td>0</td>\n",
       "      <td>0</td>\n",
       "      <td>2</td>\n",
       "      <td>0</td>\n",
       "    </tr>\n",
       "    <tr>\n",
       "      <th>4</th>\n",
       "      <td>4</td>\n",
       "      <td>50</td>\n",
       "      <td>Travel_Rarely</td>\n",
       "      <td>1017</td>\n",
       "      <td>Research &amp; Development</td>\n",
       "      <td>5</td>\n",
       "      <td>4</td>\n",
       "      <td>Medical</td>\n",
       "      <td>1</td>\n",
       "      <td>2</td>\n",
       "      <td>...</td>\n",
       "      <td>80</td>\n",
       "      <td>0</td>\n",
       "      <td>31</td>\n",
       "      <td>0</td>\n",
       "      <td>3</td>\n",
       "      <td>31</td>\n",
       "      <td>14</td>\n",
       "      <td>4</td>\n",
       "      <td>10</td>\n",
       "      <td>1</td>\n",
       "    </tr>\n",
       "  </tbody>\n",
       "</table>\n",
       "<p>5 rows × 35 columns</p>\n",
       "</div>"
      ],
      "text/plain": [
       "   id  Age     BusinessTravel  DailyRate              Department  \\\n",
       "0   0   36  Travel_Frequently        599  Research & Development   \n",
       "1   1   35      Travel_Rarely        921                   Sales   \n",
       "2   2   32      Travel_Rarely        718                   Sales   \n",
       "3   3   38      Travel_Rarely       1488  Research & Development   \n",
       "4   4   50      Travel_Rarely       1017  Research & Development   \n",
       "\n",
       "   DistanceFromHome  Education EducationField  EmployeeCount  \\\n",
       "0                24          3        Medical              1   \n",
       "1                 8          3          Other              1   \n",
       "2                26          3      Marketing              1   \n",
       "3                 2          3        Medical              1   \n",
       "4                 5          4        Medical              1   \n",
       "\n",
       "   EnvironmentSatisfaction  ... StandardHours  StockOptionLevel  \\\n",
       "0                        4  ...            80                 1   \n",
       "1                        1  ...            80                 1   \n",
       "2                        3  ...            80                 2   \n",
       "3                        3  ...            80                 0   \n",
       "4                        2  ...            80                 0   \n",
       "\n",
       "   TotalWorkingYears  TrainingTimesLastYear WorkLifeBalance  YearsAtCompany  \\\n",
       "0                 10                      2               3              10   \n",
       "1                  4                      3               3               4   \n",
       "2                  4                      3               3               3   \n",
       "3                 15                      1               1               6   \n",
       "4                 31                      0               3              31   \n",
       "\n",
       "  YearsInCurrentRole  YearsSinceLastPromotion  YearsWithCurrManager  Attrition  \n",
       "0                  0                        7                     8          0  \n",
       "1                  2                        0                     3          0  \n",
       "2                  2                        1                     2          0  \n",
       "3                  0                        0                     2          0  \n",
       "4                 14                        4                    10          1  \n",
       "\n",
       "[5 rows x 35 columns]"
      ]
     },
     "execution_count": 70,
     "metadata": {},
     "output_type": "execute_result"
    }
   ],
   "source": [
    "# 2. 데이터 조회해보기\n",
    "# y 값은 Attriton 이고 바이너리 \n",
    "train_csv.head()"
   ]
  },
  {
   "cell_type": "code",
   "execution_count": 71,
   "metadata": {},
   "outputs": [
    {
     "name": "stdout",
     "output_type": "stream",
     "text": [
      "(array(['Non-Travel', 'Travel_Frequently', 'Travel_Rarely'], dtype=object), array([ 126,  261, 1290])) \n",
      " (array(['Human Resources', 'Research & Development', 'Sales'], dtype=object), array([  39, 1167,  471])) \n",
      " (array(['Human Resources', 'Life Sciences', 'Marketing', 'Medical',\n",
      "       'Other', 'Technical Degree'], dtype=object), array([ 13, 775, 152, 549,  82, 106]))\n"
     ]
    }
   ],
   "source": [
    "# 3. 데이터 의 문자열 값 조회\n",
    "print(np.unique(train_csv.BusinessTravel,return_counts=1),\"\\n\",\n",
    "np.unique(train_csv.Department,return_counts=1),\"\\n\",\n",
    "np.unique(train_csv.EducationField,return_counts=1))\n"
   ]
  },
  {
   "cell_type": "code",
   "execution_count": 72,
   "metadata": {},
   "outputs": [
    {
     "data": {
      "text/plain": [
       "id                          0\n",
       "Age                         0\n",
       "BusinessTravel              0\n",
       "DailyRate                   0\n",
       "Department                  0\n",
       "DistanceFromHome            0\n",
       "Education                   0\n",
       "EducationField              0\n",
       "EmployeeCount               0\n",
       "EnvironmentSatisfaction     0\n",
       "Gender                      0\n",
       "HourlyRate                  0\n",
       "JobInvolvement              0\n",
       "JobLevel                    0\n",
       "JobRole                     0\n",
       "JobSatisfaction             0\n",
       "MaritalStatus               0\n",
       "MonthlyIncome               0\n",
       "MonthlyRate                 0\n",
       "NumCompaniesWorked          0\n",
       "Over18                      0\n",
       "OverTime                    0\n",
       "PercentSalaryHike           0\n",
       "PerformanceRating           0\n",
       "RelationshipSatisfaction    0\n",
       "StandardHours               0\n",
       "StockOptionLevel            0\n",
       "TotalWorkingYears           0\n",
       "TrainingTimesLastYear       0\n",
       "WorkLifeBalance             0\n",
       "YearsAtCompany              0\n",
       "YearsInCurrentRole          0\n",
       "YearsSinceLastPromotion     0\n",
       "YearsWithCurrManager        0\n",
       "Attrition                   0\n",
       "dtype: int64"
      ]
     },
     "execution_count": 72,
     "metadata": {},
     "output_type": "execute_result"
    }
   ],
   "source": [
    "# 4. 데이터의 결측치 확인\n",
    "train_csv.isna().sum()"
   ]
  },
  {
   "cell_type": "code",
   "execution_count": 73,
   "metadata": {},
   "outputs": [],
   "source": [
    "# 데이터 조사 결과 데이터의 결측치가 없고 문자열케이스만 분리하면 됨"
   ]
  },
  {
   "cell_type": "code",
   "execution_count": 74,
   "metadata": {},
   "outputs": [],
   "source": [
    "# 5. 데이터 원 핫 인코딩\n",
    "# 1-1 겟더미로 문자열 제거 \n",
    "train_csv = pd.get_dummies(train_csv)\n",
    "test_csv = pd.get_dummies(test_csv)"
   ]
  },
  {
   "cell_type": "code",
   "execution_count": 75,
   "metadata": {},
   "outputs": [
    {
     "name": "stdout",
     "output_type": "stream",
     "text": [
      "(1677, 56) (1119, 55)\n"
     ]
    }
   ],
   "source": [
    "# train 의 칼럼이 56개로 늘어남 ㄷㄷ\n",
    "print(train_csv.shape,test_csv.shape)"
   ]
  },
  {
   "cell_type": "code",
   "execution_count": 76,
   "metadata": {},
   "outputs": [
    {
     "name": "stdout",
     "output_type": "stream",
     "text": [
      "(1677, 55) (1677,)\n"
     ]
    }
   ],
   "source": [
    "# 6. x 데이터와 y 데이터 분리\n",
    "x = train_csv.drop([\"Attrition\"],axis=1)\n",
    "y = train_csv.Attrition\n",
    "\n",
    "print(x.shape,y.shape)\n"
   ]
  },
  {
   "cell_type": "code",
   "execution_count": 77,
   "metadata": {},
   "outputs": [
    {
     "name": "stdout",
     "output_type": "stream",
     "text": [
      "(1341, 55) (336, 55)\n",
      "(1341,) (336,)\n"
     ]
    }
   ],
   "source": [
    "# 7. train test 스플릿\n",
    "\n",
    "x_train, x_test, y_train,y_test = train_test_split(\n",
    "    x,\n",
    "    y,\n",
    "    train_size=0.8,\n",
    "    shuffle = True,\n",
    "    stratify = y,\n",
    "    # random_state=21\n",
    ")\n",
    "print(x_train.shape,x_test.shape)\n",
    "print(y_train.shape,y_test.shape)"
   ]
  },
  {
   "cell_type": "code",
   "execution_count": 78,
   "metadata": {},
   "outputs": [
    {
     "name": "stdout",
     "output_type": "stream",
     "text": [
      "(1341, 55) (336, 55)\n",
      "(1341,) (336,)\n"
     ]
    }
   ],
   "source": [
    "# 8. 데이터 스케일링 \n",
    "scaler = MinMaxScaler()\n",
    "\n",
    "scaler.fit(x_train)\n",
    "x_train = scaler.transform(x_train)\n",
    "x_test = scaler.transform(x_test)\n",
    "print(x_train.shape,x_test.shape)\n",
    "print(y_train.shape,y_test.shape)"
   ]
  },
  {
   "cell_type": "code",
   "execution_count": 79,
   "metadata": {},
   "outputs": [
    {
     "name": "stdout",
     "output_type": "stream",
     "text": [
      "Model: \"sequential_7\"\n",
      "_________________________________________________________________\n",
      " Layer (type)                Output Shape              Param #   \n",
      "=================================================================\n",
      " dense_63 (Dense)            (None, 256)               14336     \n",
      "                                                                 \n",
      " dropout_56 (Dropout)        (None, 256)               0         \n",
      "                                                                 \n",
      " dense_64 (Dense)            (None, 128)               32896     \n",
      "                                                                 \n",
      " dropout_57 (Dropout)        (None, 128)               0         \n",
      "                                                                 \n",
      " dense_65 (Dense)            (None, 64)                8256      \n",
      "                                                                 \n",
      " dropout_58 (Dropout)        (None, 64)                0         \n",
      "                                                                 \n",
      " dense_66 (Dense)            (None, 32)                2080      \n",
      "                                                                 \n",
      " dropout_59 (Dropout)        (None, 32)                0         \n",
      "                                                                 \n",
      " dense_67 (Dense)            (None, 16)                528       \n",
      "                                                                 \n",
      " dropout_60 (Dropout)        (None, 16)                0         \n",
      "                                                                 \n",
      " dense_68 (Dense)            (None, 8)                 136       \n",
      "                                                                 \n",
      " dropout_61 (Dropout)        (None, 8)                 0         \n",
      "                                                                 \n",
      " dense_69 (Dense)            (None, 4)                 36        \n",
      "                                                                 \n",
      " dropout_62 (Dropout)        (None, 4)                 0         \n",
      "                                                                 \n",
      " dense_70 (Dense)            (None, 2)                 10        \n",
      "                                                                 \n",
      " dropout_63 (Dropout)        (None, 2)                 0         \n",
      "                                                                 \n",
      " dense_71 (Dense)            (None, 1)                 3         \n",
      "                                                                 \n",
      "=================================================================\n",
      "Total params: 58,281\n",
      "Trainable params: 58,281\n",
      "Non-trainable params: 0\n",
      "_________________________________________________________________\n"
     ]
    }
   ],
   "source": [
    "# 9. 모델구성\n",
    "\n",
    "dr = 0\n",
    "model = Sequential([\n",
    "    Dense(256,input_dim=55,activation=\"relu\"),\n",
    "    Dropout(rate=dr),\n",
    "    Dense(128,activation=\"relu\"),\n",
    "    Dropout(rate=dr),\n",
    "    Dense(64,activation=\"relu\"),\n",
    "    Dropout(rate=dr),\n",
    "    Dense(32,activation=\"relu\"),\n",
    "    Dropout(rate=dr),\n",
    "    Dense(16,activation=\"relu\"),\n",
    "    Dropout(rate=dr),\n",
    "    Dense(8,activation=\"relu\"),\n",
    "    Dropout(rate=dr),\n",
    "    Dense(4,activation=\"relu\"),\n",
    "    Dropout(rate=dr),\n",
    "    Dense(2,activation=\"relu\"),\n",
    "    Dropout(rate=dr),\n",
    "# 이진분할 이기때문에 출력층 1 , sigmoid\n",
    "    Dense(1,activation=\"sigmoid\")\n",
    "])\n",
    "\n",
    "model.summary()"
   ]
  },
  {
   "cell_type": "code",
   "execution_count": 80,
   "metadata": {},
   "outputs": [
    {
     "name": "stdout",
     "output_type": "stream",
     "text": [
      "Epoch 1/500\n",
      "67/67 [==============================] - 1s 5ms/step - loss: 0.3660 - accuracy: 0.8834 - val_loss: 0.3506 - val_accuracy: 0.8699 - lr: 0.0010\n",
      "Epoch 2/500\n",
      "67/67 [==============================] - 0s 3ms/step - loss: 0.2988 - accuracy: 0.8834 - val_loss: 0.3510 - val_accuracy: 0.8699 - lr: 0.0010\n",
      "Epoch 3/500\n",
      "67/67 [==============================] - 0s 3ms/step - loss: 0.2735 - accuracy: 0.8834 - val_loss: 0.3690 - val_accuracy: 0.8699 - lr: 0.0010\n",
      "Epoch 4/500\n",
      "67/67 [==============================] - 0s 2ms/step - loss: 0.2646 - accuracy: 0.8834 - val_loss: 0.3934 - val_accuracy: 0.8699 - lr: 0.0010\n",
      "Epoch 5/500\n",
      "67/67 [==============================] - 0s 2ms/step - loss: 0.2392 - accuracy: 0.8862 - val_loss: 0.3739 - val_accuracy: 0.8699 - lr: 1.0000e-04\n",
      "Epoch 6/500\n",
      "67/67 [==============================] - 0s 2ms/step - loss: 0.2312 - accuracy: 0.9002 - val_loss: 0.3757 - val_accuracy: 0.8662 - lr: 1.0000e-04\n",
      "Epoch 7/500\n",
      "67/67 [==============================] - 0s 3ms/step - loss: 0.2255 - accuracy: 0.9021 - val_loss: 0.3877 - val_accuracy: 0.8699 - lr: 1.0000e-04\n",
      "Epoch 8/500\n",
      "67/67 [==============================] - 0s 3ms/step - loss: 0.2220 - accuracy: 0.9030 - val_loss: 0.3851 - val_accuracy: 0.8662 - lr: 1.0000e-05\n",
      "Epoch 9/500\n",
      "67/67 [==============================] - 0s 3ms/step - loss: 0.2209 - accuracy: 0.9039 - val_loss: 0.3835 - val_accuracy: 0.8662 - lr: 1.0000e-05\n",
      "Epoch 10/500\n",
      "67/67 [==============================] - 0s 3ms/step - loss: 0.2203 - accuracy: 0.9049 - val_loss: 0.3835 - val_accuracy: 0.8662 - lr: 1.0000e-05\n",
      "Epoch 11/500\n",
      "67/67 [==============================] - 0s 2ms/step - loss: 0.2198 - accuracy: 0.9039 - val_loss: 0.3835 - val_accuracy: 0.8662 - lr: 1.0000e-06\n",
      "Epoch 12/500\n",
      "67/67 [==============================] - 0s 2ms/step - loss: 0.2197 - accuracy: 0.9039 - val_loss: 0.3835 - val_accuracy: 0.8662 - lr: 1.0000e-06\n",
      "Epoch 13/500\n",
      "67/67 [==============================] - 0s 2ms/step - loss: 0.2197 - accuracy: 0.9039 - val_loss: 0.3835 - val_accuracy: 0.8662 - lr: 1.0000e-06\n",
      "Epoch 14/500\n",
      "67/67 [==============================] - 0s 3ms/step - loss: 0.2196 - accuracy: 0.9039 - val_loss: 0.3835 - val_accuracy: 0.8662 - lr: 1.0000e-07\n",
      "Epoch 15/500\n",
      "67/67 [==============================] - 0s 3ms/step - loss: 0.2196 - accuracy: 0.9039 - val_loss: 0.3835 - val_accuracy: 0.8662 - lr: 1.0000e-07\n",
      "Epoch 16/500\n",
      "67/67 [==============================] - 0s 2ms/step - loss: 0.2196 - accuracy: 0.9039 - val_loss: 0.3835 - val_accuracy: 0.8662 - lr: 1.0000e-07\n",
      "Epoch 17/500\n",
      "67/67 [==============================] - 0s 3ms/step - loss: 0.2196 - accuracy: 0.9039 - val_loss: 0.3835 - val_accuracy: 0.8662 - lr: 1.0000e-08\n",
      "Epoch 18/500\n",
      "67/67 [==============================] - 0s 3ms/step - loss: 0.2196 - accuracy: 0.9039 - val_loss: 0.3835 - val_accuracy: 0.8662 - lr: 1.0000e-08\n",
      "Epoch 19/500\n",
      "67/67 [==============================] - 0s 3ms/step - loss: 0.2196 - accuracy: 0.9039 - val_loss: 0.3835 - val_accuracy: 0.8662 - lr: 1.0000e-08\n",
      "Epoch 20/500\n",
      "67/67 [==============================] - 0s 3ms/step - loss: 0.2196 - accuracy: 0.9039 - val_loss: 0.3835 - val_accuracy: 0.8662 - lr: 1.0000e-08\n",
      "Epoch 21/500\n",
      "67/67 [==============================] - 0s 3ms/step - loss: 0.2196 - accuracy: 0.9039 - val_loss: 0.3835 - val_accuracy: 0.8662 - lr: 1.0000e-08\n",
      "Epoch 22/500\n",
      "67/67 [==============================] - 0s 3ms/step - loss: 0.2196 - accuracy: 0.9039 - val_loss: 0.3835 - val_accuracy: 0.8662 - lr: 1.0000e-08\n",
      "Epoch 23/500\n",
      "67/67 [==============================] - 0s 3ms/step - loss: 0.2196 - accuracy: 0.9039 - val_loss: 0.3835 - val_accuracy: 0.8662 - lr: 1.0000e-08\n",
      "Epoch 24/500\n",
      "67/67 [==============================] - 0s 3ms/step - loss: 0.2196 - accuracy: 0.9039 - val_loss: 0.3835 - val_accuracy: 0.8662 - lr: 1.0000e-08\n",
      "Epoch 25/500\n",
      "67/67 [==============================] - 0s 3ms/step - loss: 0.2196 - accuracy: 0.9039 - val_loss: 0.3835 - val_accuracy: 0.8662 - lr: 1.0000e-08\n",
      "Epoch 26/500\n",
      "67/67 [==============================] - 0s 3ms/step - loss: 0.2196 - accuracy: 0.9039 - val_loss: 0.3835 - val_accuracy: 0.8662 - lr: 1.0000e-08\n",
      "Epoch 27/500\n",
      "67/67 [==============================] - 0s 3ms/step - loss: 0.2196 - accuracy: 0.9039 - val_loss: 0.3835 - val_accuracy: 0.8662 - lr: 1.0000e-08\n",
      "Epoch 28/500\n",
      "67/67 [==============================] - 0s 3ms/step - loss: 0.2196 - accuracy: 0.9039 - val_loss: 0.3835 - val_accuracy: 0.8662 - lr: 1.0000e-08\n",
      "Epoch 29/500\n",
      "67/67 [==============================] - 0s 3ms/step - loss: 0.2196 - accuracy: 0.9039 - val_loss: 0.3835 - val_accuracy: 0.8662 - lr: 1.0000e-08\n",
      "Epoch 30/500\n",
      "67/67 [==============================] - 0s 2ms/step - loss: 0.2196 - accuracy: 0.9039 - val_loss: 0.3835 - val_accuracy: 0.8662 - lr: 1.0000e-08\n",
      "Epoch 31/500\n",
      "67/67 [==============================] - 0s 3ms/step - loss: 0.2196 - accuracy: 0.9039 - val_loss: 0.3835 - val_accuracy: 0.8662 - lr: 1.0000e-08\n",
      "Epoch 31: early stopping\n"
     ]
    }
   ],
   "source": [
    "from keras.callbacks import EarlyStopping,ReduceLROnPlateau\n",
    "\n",
    "early_stopping = EarlyStopping(\n",
    "monitor='val_loss',\n",
    "min_delta=0.01, patience=10, \n",
    "verbose=1, \n",
    "mode='min')\n",
    "\n",
    "plat =ReduceLROnPlateau(\n",
    "        monitor=\"val_loss\", \n",
    "        mode='min', \n",
    "        patience=3, \n",
    "        factor=0.1, \n",
    "        min_lr=1e-8, \n",
    "        min_delta=0.000001)\n",
    "\n",
    "# 이진분할 이기 떄문에 로스 binary_crossentropy\n",
    "model.compile(loss=\"binary_crossentropy\",optimizer=\"adam\",metrics=[\"accuracy\"])\n",
    "\n",
    "# \n",
    "hist = model.fit(x_train, y_train, epochs=500, \n",
    "                 validation_split=0.2,\n",
    "                 batch_size=16,\n",
    "                 verbose=1,\n",
    "                 callbacks = [early_stopping,plat])\n"
   ]
  },
  {
   "cell_type": "code",
   "execution_count": 81,
   "metadata": {},
   "outputs": [
    {
     "name": "stdout",
     "output_type": "stream",
     "text": [
      "45/45 [==============================] - 0s 2ms/step - loss: 0.2525 - accuracy: 0.8963\n",
      "accuracy: 89.63%\n"
     ]
    }
   ],
   "source": [
    "scores = model.evaluate(x_train, y_train, batch_size=30)\n",
    "print(\"%s: %.2f%%\" % (model.metrics_names[1], scores[1]*100))"
   ]
  },
  {
   "cell_type": "code",
   "execution_count": 82,
   "metadata": {},
   "outputs": [
    {
     "name": "stderr",
     "output_type": "stream",
     "text": [
      "No artists with labels found to put in legend.  Note that artists whose label start with an underscore are ignored when legend() is called with no argument.\n"
     ]
    },
    {
     "data": {
      "image/png": "[encoded data removed]",
      "text/plain": [
       "<Figure size 640x480 with 1 Axes>"
      ]
     },
     "metadata": {},
     "output_type": "display_data"
    }
   ],
   "source": [
    "plt.plot(hist.history['accuracy'])\n",
    "plt.plot(hist.history['val_accuracy'])\n",
    "plt.title('Model Accuracy')\n",
    "plt.ylabel('Accuracy')\n",
    "plt.xlabel('Epoch')\n",
    "plt.legend(loc='upper left')\n",
    "plt.show()"
   ]
  }
 ],
 "metadata": {
  "kernelspec": {
   "display_name": "Python 3",
   "language": "python",
   "name": "python3"
  },
  "language_info": {
   "codemirror_mode": {
    "name": "ipython",
    "version": 3
   },
   "file_extension": ".py",
   "mimetype": "text/x-python",
   "name": "python",
   "nbconvert_exporter": "python",
   "pygments_lexer": "ipython3",
   "version": "3.8.10"
  },
  "orig_nbformat": 4,
  "vscode": {
   "interpreter": {
    "hash": "916dbcbb3f70747c44a77c7bcd40155683ae19c65e1c03b4aa3499c5328201f1"
   }
  }
 },
 "nbformat": 4,
 "nbformat_minor": 2
}
