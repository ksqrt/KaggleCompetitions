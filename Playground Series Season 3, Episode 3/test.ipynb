{
 "cells": [
  {
   "cell_type": "code",
   "execution_count": 214,
   "metadata": {},
   "outputs": [],
   "source": [
    "# 1 라이브러리 임포트\n",
    "\n",
    "import pandas as pd\n",
    "import numpy as np\n",
    "import tensorflow as tf\n",
    "import sklearn as sk\n",
    "\n",
    "# 알고리즘을 그래픽화 하기위한 라이브러리\n",
    "import seaborn as sns\n",
    "import matplotlib.pylab as plt\n",
    "from matplotlib import rcParams\n",
    "import re\n",
    "from keras.models import Sequential\n",
    "from keras.layers import Dense, Activation, Dropout,Rescaling\n",
    "import keras\n",
    "\n",
    "# 모델생성 라이브러리\n",
    "from tensorflow.keras.models import Sequential\n",
    "from tensorflow.keras.layers import Dense\n",
    "\n",
    "# 데이터 스플릿,스케일링\n",
    "from sklearn.model_selection import train_test_split\n",
    "from sklearn.preprocessing import MinMaxScaler,StandardScaler"
   ]
  },
  {
   "cell_type": "code",
   "execution_count": 215,
   "metadata": {},
   "outputs": [],
   "source": [
    "# 1 데이터 불러오기 \n",
    "path = \"../Playground Series Season 3, Episode 3/playground-series-s3e3/\"\n",
    "\n",
    "train_csv = pd.read_csv(path+\"train.csv\")\n",
    "test_csv = pd.read_csv(path+\"test.csv\")"
   ]
  },
  {
   "cell_type": "code",
   "execution_count": 216,
   "metadata": {},
   "outputs": [
    {
     "data": {
      "text/html": [
       "<div>\n",
       "<style scoped>\n",
       "    .dataframe tbody tr th:only-of-type {\n",
       "        vertical-align: middle;\n",
       "    }\n",
       "\n",
       "    .dataframe tbody tr th {\n",
       "        vertical-align: top;\n",
       "    }\n",
       "\n",
       "    .dataframe thead th {\n",
       "        text-align: right;\n",
       "    }\n",
       "</style>\n",
       "<table border=\"1\" class=\"dataframe\">\n",
       "  <thead>\n",
       "    <tr style=\"text-align: right;\">\n",
       "      <th></th>\n",
       "      <th>id</th>\n",
       "      <th>Age</th>\n",
       "      <th>BusinessTravel</th>\n",
       "      <th>DailyRate</th>\n",
       "      <th>Department</th>\n",
       "      <th>DistanceFromHome</th>\n",
       "      <th>Education</th>\n",
       "      <th>EducationField</th>\n",
       "      <th>EmployeeCount</th>\n",
       "      <th>EnvironmentSatisfaction</th>\n",
       "      <th>...</th>\n",
       "      <th>StandardHours</th>\n",
       "      <th>StockOptionLevel</th>\n",
       "      <th>TotalWorkingYears</th>\n",
       "      <th>TrainingTimesLastYear</th>\n",
       "      <th>WorkLifeBalance</th>\n",
       "      <th>YearsAtCompany</th>\n",
       "      <th>YearsInCurrentRole</th>\n",
       "      <th>YearsSinceLastPromotion</th>\n",
       "      <th>YearsWithCurrManager</th>\n",
       "      <th>Attrition</th>\n",
       "    </tr>\n",
       "  </thead>\n",
       "  <tbody>\n",
       "    <tr>\n",
       "      <th>0</th>\n",
       "      <td>0</td>\n",
       "      <td>36</td>\n",
       "      <td>Travel_Frequently</td>\n",
       "      <td>599</td>\n",
       "      <td>Research &amp; Development</td>\n",
       "      <td>24</td>\n",
       "      <td>3</td>\n",
       "      <td>Medical</td>\n",
       "      <td>1</td>\n",
       "      <td>4</td>\n",
       "      <td>...</td>\n",
       "      <td>80</td>\n",
       "      <td>1</td>\n",
       "      <td>10</td>\n",
       "      <td>2</td>\n",
       "      <td>3</td>\n",
       "      <td>10</td>\n",
       "      <td>0</td>\n",
       "      <td>7</td>\n",
       "      <td>8</td>\n",
       "      <td>0</td>\n",
       "    </tr>\n",
       "    <tr>\n",
       "      <th>1</th>\n",
       "      <td>1</td>\n",
       "      <td>35</td>\n",
       "      <td>Travel_Rarely</td>\n",
       "      <td>921</td>\n",
       "      <td>Sales</td>\n",
       "      <td>8</td>\n",
       "      <td>3</td>\n",
       "      <td>Other</td>\n",
       "      <td>1</td>\n",
       "      <td>1</td>\n",
       "      <td>...</td>\n",
       "      <td>80</td>\n",
       "      <td>1</td>\n",
       "      <td>4</td>\n",
       "      <td>3</td>\n",
       "      <td>3</td>\n",
       "      <td>4</td>\n",
       "      <td>2</td>\n",
       "      <td>0</td>\n",
       "      <td>3</td>\n",
       "      <td>0</td>\n",
       "    </tr>\n",
       "    <tr>\n",
       "      <th>2</th>\n",
       "      <td>2</td>\n",
       "      <td>32</td>\n",
       "      <td>Travel_Rarely</td>\n",
       "      <td>718</td>\n",
       "      <td>Sales</td>\n",
       "      <td>26</td>\n",
       "      <td>3</td>\n",
       "      <td>Marketing</td>\n",
       "      <td>1</td>\n",
       "      <td>3</td>\n",
       "      <td>...</td>\n",
       "      <td>80</td>\n",
       "      <td>2</td>\n",
       "      <td>4</td>\n",
       "      <td>3</td>\n",
       "      <td>3</td>\n",
       "      <td>3</td>\n",
       "      <td>2</td>\n",
       "      <td>1</td>\n",
       "      <td>2</td>\n",
       "      <td>0</td>\n",
       "    </tr>\n",
       "    <tr>\n",
       "      <th>3</th>\n",
       "      <td>3</td>\n",
       "      <td>38</td>\n",
       "      <td>Travel_Rarely</td>\n",
       "      <td>1488</td>\n",
       "      <td>Research &amp; Development</td>\n",
       "      <td>2</td>\n",
       "      <td>3</td>\n",
       "      <td>Medical</td>\n",
       "      <td>1</td>\n",
       "      <td>3</td>\n",
       "      <td>...</td>\n",
       "      <td>80</td>\n",
       "      <td>0</td>\n",
       "      <td>15</td>\n",
       "      <td>1</td>\n",
       "      <td>1</td>\n",
       "      <td>6</td>\n",
       "      <td>0</td>\n",
       "      <td>0</td>\n",
       "      <td>2</td>\n",
       "      <td>0</td>\n",
       "    </tr>\n",
       "    <tr>\n",
       "      <th>4</th>\n",
       "      <td>4</td>\n",
       "      <td>50</td>\n",
       "      <td>Travel_Rarely</td>\n",
       "      <td>1017</td>\n",
       "      <td>Research &amp; Development</td>\n",
       "      <td>5</td>\n",
       "      <td>4</td>\n",
       "      <td>Medical</td>\n",
       "      <td>1</td>\n",
       "      <td>2</td>\n",
       "      <td>...</td>\n",
       "      <td>80</td>\n",
       "      <td>0</td>\n",
       "      <td>31</td>\n",
       "      <td>0</td>\n",
       "      <td>3</td>\n",
       "      <td>31</td>\n",
       "      <td>14</td>\n",
       "      <td>4</td>\n",
       "      <td>10</td>\n",
       "      <td>1</td>\n",
       "    </tr>\n",
       "  </tbody>\n",
       "</table>\n",
       "<p>5 rows × 35 columns</p>\n",
       "</div>"
      ],
      "text/plain": [
       "   id  Age     BusinessTravel  DailyRate              Department  \\\n",
       "0   0   36  Travel_Frequently        599  Research & Development   \n",
       "1   1   35      Travel_Rarely        921                   Sales   \n",
       "2   2   32      Travel_Rarely        718                   Sales   \n",
       "3   3   38      Travel_Rarely       1488  Research & Development   \n",
       "4   4   50      Travel_Rarely       1017  Research & Development   \n",
       "\n",
       "   DistanceFromHome  Education EducationField  EmployeeCount  \\\n",
       "0                24          3        Medical              1   \n",
       "1                 8          3          Other              1   \n",
       "2                26          3      Marketing              1   \n",
       "3                 2          3        Medical              1   \n",
       "4                 5          4        Medical              1   \n",
       "\n",
       "   EnvironmentSatisfaction  ... StandardHours  StockOptionLevel  \\\n",
       "0                        4  ...            80                 1   \n",
       "1                        1  ...            80                 1   \n",
       "2                        3  ...            80                 2   \n",
       "3                        3  ...            80                 0   \n",
       "4                        2  ...            80                 0   \n",
       "\n",
       "   TotalWorkingYears  TrainingTimesLastYear WorkLifeBalance  YearsAtCompany  \\\n",
       "0                 10                      2               3              10   \n",
       "1                  4                      3               3               4   \n",
       "2                  4                      3               3               3   \n",
       "3                 15                      1               1               6   \n",
       "4                 31                      0               3              31   \n",
       "\n",
       "  YearsInCurrentRole  YearsSinceLastPromotion  YearsWithCurrManager  Attrition  \n",
       "0                  0                        7                     8          0  \n",
       "1                  2                        0                     3          0  \n",
       "2                  2                        1                     2          0  \n",
       "3                  0                        0                     2          0  \n",
       "4                 14                        4                    10          1  \n",
       "\n",
       "[5 rows x 35 columns]"
      ]
     },
     "execution_count": 216,
     "metadata": {},
     "output_type": "execute_result"
    }
   ],
   "source": [
    "# 2. 데이터 조회해보기\n",
    "# y 값은 Attriton 이고 바이너리 \n",
    "train_csv.head()"
   ]
  },
  {
   "cell_type": "code",
   "execution_count": 217,
   "metadata": {},
   "outputs": [
    {
     "name": "stdout",
     "output_type": "stream",
     "text": [
      "(array(['Non-Travel', 'Travel_Frequently', 'Travel_Rarely'], dtype=object), array([ 126,  261, 1290], dtype=int64)) \n",
      " (array(['Human Resources', 'Research & Development', 'Sales'], dtype=object), array([  39, 1167,  471], dtype=int64)) \n",
      " (array(['Human Resources', 'Life Sciences', 'Marketing', 'Medical',\n",
      "       'Other', 'Technical Degree'], dtype=object), array([ 13, 775, 152, 549,  82, 106], dtype=int64))\n"
     ]
    }
   ],
   "source": [
    "# 3. 데이터 의 문자열 값 조회\n",
    "print(np.unique(train_csv.BusinessTravel,return_counts=1),\"\\n\",\n",
    "np.unique(train_csv.Department,return_counts=1),\"\\n\",\n",
    "np.unique(train_csv.EducationField,return_counts=1))\n"
   ]
  },
  {
   "cell_type": "code",
   "execution_count": 218,
   "metadata": {},
   "outputs": [
    {
     "data": {
      "text/plain": [
       "id                          0\n",
       "Age                         0\n",
       "BusinessTravel              0\n",
       "DailyRate                   0\n",
       "Department                  0\n",
       "DistanceFromHome            0\n",
       "Education                   0\n",
       "EducationField              0\n",
       "EmployeeCount               0\n",
       "EnvironmentSatisfaction     0\n",
       "Gender                      0\n",
       "HourlyRate                  0\n",
       "JobInvolvement              0\n",
       "JobLevel                    0\n",
       "JobRole                     0\n",
       "JobSatisfaction             0\n",
       "MaritalStatus               0\n",
       "MonthlyIncome               0\n",
       "MonthlyRate                 0\n",
       "NumCompaniesWorked          0\n",
       "Over18                      0\n",
       "OverTime                    0\n",
       "PercentSalaryHike           0\n",
       "PerformanceRating           0\n",
       "RelationshipSatisfaction    0\n",
       "StandardHours               0\n",
       "StockOptionLevel            0\n",
       "TotalWorkingYears           0\n",
       "TrainingTimesLastYear       0\n",
       "WorkLifeBalance             0\n",
       "YearsAtCompany              0\n",
       "YearsInCurrentRole          0\n",
       "YearsSinceLastPromotion     0\n",
       "YearsWithCurrManager        0\n",
       "Attrition                   0\n",
       "dtype: int64"
      ]
     },
     "execution_count": 218,
     "metadata": {},
     "output_type": "execute_result"
    }
   ],
   "source": [
    "# 4. 데이터의 결측치 확인\n",
    "train_csv.isna().sum()"
   ]
  },
  {
   "cell_type": "code",
   "execution_count": 219,
   "metadata": {},
   "outputs": [
    {
     "data": {
      "text/plain": [
       "id                          1677\n",
       "Age                           43\n",
       "BusinessTravel                 3\n",
       "DailyRate                    625\n",
       "Department                     3\n",
       "DistanceFromHome              29\n",
       "Education                      6\n",
       "EducationField                 6\n",
       "EmployeeCount                  1\n",
       "EnvironmentSatisfaction        4\n",
       "Gender                         2\n",
       "HourlyRate                    71\n",
       "JobInvolvement                 4\n",
       "JobLevel                       6\n",
       "JobRole                        9\n",
       "JobSatisfaction                4\n",
       "MaritalStatus                  3\n",
       "MonthlyIncome                895\n",
       "MonthlyRate                  903\n",
       "NumCompaniesWorked            10\n",
       "Over18                         1\n",
       "OverTime                       2\n",
       "PercentSalaryHike             15\n",
       "PerformanceRating              2\n",
       "RelationshipSatisfaction       4\n",
       "StandardHours                  1\n",
       "StockOptionLevel               4\n",
       "TotalWorkingYears             41\n",
       "TrainingTimesLastYear          7\n",
       "WorkLifeBalance                4\n",
       "YearsAtCompany                34\n",
       "YearsInCurrentRole            19\n",
       "YearsSinceLastPromotion       16\n",
       "YearsWithCurrManager          18\n",
       "Attrition                      2\n",
       "dtype: int64"
      ]
     },
     "execution_count": 219,
     "metadata": {},
     "output_type": "execute_result"
    }
   ],
   "source": [
    "# 학습데이터의 고유값 조회\n",
    "train_csv.nunique()"
   ]
  },
  {
   "cell_type": "code",
   "execution_count": 220,
   "metadata": {},
   "outputs": [
    {
     "data": {
      "text/plain": [
       "EmployeeCount    1\n",
       "Over18           1\n",
       "StandardHours    1\n",
       "dtype: int64"
      ]
     },
     "execution_count": 220,
     "metadata": {},
     "output_type": "execute_result"
    }
   ],
   "source": [
    "# 값이 1개인 칼럼만을 조회\n",
    "train_csv.nunique()[train_csv.nunique() == 1]"
   ]
  },
  {
   "cell_type": "code",
   "execution_count": 221,
   "metadata": {},
   "outputs": [],
   "source": [
    "# 값이 1개인 칼럼 삭제\n",
    "train_csv.drop([\"EmployeeCount\", \"Over18\", \"StandardHours\"], axis=1, inplace=True)\n",
    "test_csv.drop([\"EmployeeCount\", \"Over18\", \"StandardHours\"], axis=1, inplace=True)"
   ]
  },
  {
   "cell_type": "code",
   "execution_count": 222,
   "metadata": {},
   "outputs": [
    {
     "data": {
      "image/png": "[encoded data removed]",
      "text/plain": [
       "<Figure size 900x900 with 1 Axes>"
      ]
     },
     "metadata": {},
     "output_type": "display_data"
    }
   ],
   "source": [
    "# EDA 전체 비율 \n",
    "plt.figure(figsize=(9,9),)\n",
    "plt.title(\"Attrition\")\n",
    "plt.pie(train_csv[\"Attrition\"].value_counts(), labels = [\"No\", \"Yes\"], autopct='%.0f%%', textprops={'fontsize': 14},)\n",
    "plt.show()\n",
    "# 클래스 불균형이 일어남 12% vs 88% 임. ."
   ]
  },
  {
   "cell_type": "code",
   "execution_count": 223,
   "metadata": {},
   "outputs": [],
   "source": [
    "# fig, ax = plt.subplots(5, 3, figsize = (20, 5*5))\n",
    "# for i, col in enumerate(train_csv):\n",
    "#     sns.kdeplot(data=train_csv, x=col, fill = True, ax = ax[i // 3][i % 3], hue=train_csv[\"Attrition\"])"
   ]
  },
  {
   "cell_type": "code",
   "execution_count": 224,
   "metadata": {},
   "outputs": [],
   "source": [
    "# 데이터 조사 결과 데이터의 결측치가 없고 문자열케이스만 분리하면 됨"
   ]
  },
  {
   "cell_type": "code",
   "execution_count": 225,
   "metadata": {},
   "outputs": [],
   "source": [
    "# 5. 데이터 원 핫 인코딩\n",
    "# 1-1 겟더미로 문자열 제거 \n",
    "train_csv = pd.get_dummies(train_csv)\n",
    "test_csv = pd.get_dummies(test_csv)"
   ]
  },
  {
   "cell_type": "code",
   "execution_count": 226,
   "metadata": {},
   "outputs": [
    {
     "name": "stdout",
     "output_type": "stream",
     "text": [
      "(1677, 53) (1119, 52)\n"
     ]
    }
   ],
   "source": [
    "# train 의 칼럼이 56개로 늘어남 ㄷㄷ\n",
    "print(train_csv.shape,test_csv.shape)"
   ]
  },
  {
   "cell_type": "code",
   "execution_count": 227,
   "metadata": {},
   "outputs": [
    {
     "name": "stdout",
     "output_type": "stream",
     "text": [
      "(1677, 52) (1677,)\n"
     ]
    }
   ],
   "source": [
    "# 6. x 데이터와 y 데이터 분리\n",
    "x = train_csv.drop([\"Attrition\"],axis=1)\n",
    "y = train_csv.Attrition\n",
    "\n",
    "print(x.shape,y.shape)\n"
   ]
  },
  {
   "cell_type": "code",
   "execution_count": 228,
   "metadata": {},
   "outputs": [
    {
     "name": "stdout",
     "output_type": "stream",
     "text": [
      "(1341, 52) (336, 52)\n",
      "(1341,) (336,)\n"
     ]
    }
   ],
   "source": [
    "# 7. train test 스플릿\n",
    "\n",
    "x_train, x_test, y_train,y_test = train_test_split(\n",
    "    x,\n",
    "    y,\n",
    "    train_size=0.8,\n",
    "    shuffle = True,\n",
    "    stratify = y,\n",
    "    # random_state=21\n",
    ")\n",
    "print(x_train.shape,x_test.shape)\n",
    "print(y_train.shape,y_test.shape)"
   ]
  },
  {
   "cell_type": "code",
   "execution_count": 229,
   "metadata": {},
   "outputs": [
    {
     "name": "stdout",
     "output_type": "stream",
     "text": [
      "(1341, 52) (336, 52)\n",
      "(1341,) (336,)\n"
     ]
    }
   ],
   "source": [
    "# 8. 데이터 스케일링 \n",
    "# scaler = MinMaxScaler()\n",
    "\n",
    "# scaler.fit(x_train)\n",
    "# x_train = scaler.transform(x_train)\n",
    "# x_test = scaler.transform(x_test)\n",
    "# print(x_train.shape,x_test.shape)\n",
    "# print(y_train.shape,y_test.shape)"
   ]
  },
  {
   "cell_type": "code",
   "execution_count": 230,
   "metadata": {},
   "outputs": [
    {
     "name": "stdout",
     "output_type": "stream",
     "text": [
      "Model: \"sequential_9\"\n",
      "_________________________________________________________________\n",
      " Layer (type)                Output Shape              Param #   \n",
      "=================================================================\n",
      " dense_81 (Dense)            (None, 256)               13568     \n",
      "                                                                 \n",
      " dropout_72 (Dropout)        (None, 256)               0         \n",
      "                                                                 \n",
      " dense_82 (Dense)            (None, 128)               32896     \n",
      "                                                                 \n",
      " dropout_73 (Dropout)        (None, 128)               0         \n",
      "                                                                 \n",
      " dense_83 (Dense)            (None, 64)                8256      \n",
      "                                                                 \n",
      " dropout_74 (Dropout)        (None, 64)                0         \n",
      "                                                                 \n",
      " dense_84 (Dense)            (None, 32)                2080      \n",
      "                                                                 \n",
      " dropout_75 (Dropout)        (None, 32)                0         \n",
      "                                                                 \n",
      " dense_85 (Dense)            (None, 16)                528       \n",
      "                                                                 \n",
      " dropout_76 (Dropout)        (None, 16)                0         \n",
      "                                                                 \n",
      " dense_86 (Dense)            (None, 8)                 136       \n",
      "                                                                 \n",
      " dropout_77 (Dropout)        (None, 8)                 0         \n",
      "                                                                 \n",
      " dense_87 (Dense)            (None, 4)                 36        \n",
      "                                                                 \n",
      " dropout_78 (Dropout)        (None, 4)                 0         \n",
      "                                                                 \n",
      " dense_88 (Dense)            (None, 2)                 10        \n",
      "                                                                 \n",
      " dropout_79 (Dropout)        (None, 2)                 0         \n",
      "                                                                 \n",
      " dense_89 (Dense)            (None, 1)                 3         \n",
      "                                                                 \n",
      "=================================================================\n",
      "Total params: 57,513\n",
      "Trainable params: 57,513\n",
      "Non-trainable params: 0\n",
      "_________________________________________________________________\n"
     ]
    }
   ],
   "source": [
    "# 9. 모델구성\n",
    "\n",
    "dr = 0\n",
    "model = Sequential([\n",
    "    Dense(256,input_dim=52,activation=\"relu\"),\n",
    "    Dropout(rate=dr),\n",
    "    Dense(128,activation=\"relu\"),\n",
    "    Dropout(rate=dr),\n",
    "    Dense(64,activation=\"relu\"),\n",
    "    Dropout(rate=dr),\n",
    "    Dense(32,activation=\"relu\"),\n",
    "    Dropout(rate=dr),\n",
    "    Dense(16,activation=\"relu\"),\n",
    "    Dropout(rate=dr),\n",
    "    Dense(8,activation=\"relu\"),\n",
    "    Dropout(rate=dr),\n",
    "    Dense(4,activation=\"relu\"),\n",
    "    Dropout(rate=dr),\n",
    "    Dense(2,activation=\"relu\"),\n",
    "    Dropout(rate=dr),\n",
    "# 이진분할 이기때문에 출력층 1 , sigmoid\n",
    "    Dense(1,activation=\"sigmoid\")\n",
    "])\n",
    "\n",
    "model.summary()"
   ]
  },
  {
   "cell_type": "code",
   "execution_count": 231,
   "metadata": {},
   "outputs": [
    {
     "name": "stdout",
     "output_type": "stream",
     "text": [
      "Epoch 1/500\n",
      "67/67 [==============================] - 1s 3ms/step - loss: 0.6813 - accuracy: 0.8703 - val_loss: 0.6669 - val_accuracy: 0.9108 - lr: 0.0010\n",
      "Epoch 2/500\n",
      "67/67 [==============================] - 0s 2ms/step - loss: 0.6582 - accuracy: 0.8731 - val_loss: 0.6421 - val_accuracy: 0.9108 - lr: 0.0010\n",
      "Epoch 3/500\n",
      "67/67 [==============================] - 0s 2ms/step - loss: 0.6366 - accuracy: 0.8731 - val_loss: 0.6190 - val_accuracy: 0.9108 - lr: 0.0010\n",
      "Epoch 4/500\n",
      "67/67 [==============================] - 0s 2ms/step - loss: 0.6166 - accuracy: 0.8731 - val_loss: 0.5974 - val_accuracy: 0.9108 - lr: 0.0010\n",
      "Epoch 5/500\n",
      "67/67 [==============================] - 0s 2ms/step - loss: 0.5980 - accuracy: 0.8731 - val_loss: 0.5772 - val_accuracy: 0.9108 - lr: 0.0010\n",
      "Epoch 6/500\n",
      "67/67 [==============================] - 0s 2ms/step - loss: 0.5807 - accuracy: 0.8731 - val_loss: 0.5582 - val_accuracy: 0.9108 - lr: 0.0010\n",
      "Epoch 7/500\n",
      "67/67 [==============================] - 0s 2ms/step - loss: 0.5646 - accuracy: 0.8731 - val_loss: 0.5409 - val_accuracy: 0.9108 - lr: 0.0010\n",
      "Epoch 8/500\n",
      "67/67 [==============================] - 0s 2ms/step - loss: 0.5497 - accuracy: 0.8731 - val_loss: 0.5243 - val_accuracy: 0.9108 - lr: 0.0010\n",
      "Epoch 9/500\n",
      "67/67 [==============================] - 0s 2ms/step - loss: 0.5358 - accuracy: 0.8731 - val_loss: 0.5091 - val_accuracy: 0.9108 - lr: 0.0010\n",
      "Epoch 10/500\n",
      "67/67 [==============================] - 0s 2ms/step - loss: 0.5230 - accuracy: 0.8731 - val_loss: 0.4950 - val_accuracy: 0.9108 - lr: 0.0010\n",
      "Epoch 11/500\n",
      "67/67 [==============================] - 0s 2ms/step - loss: 0.5112 - accuracy: 0.8731 - val_loss: 0.4814 - val_accuracy: 0.9108 - lr: 0.0010\n",
      "Epoch 12/500\n",
      "67/67 [==============================] - 0s 2ms/step - loss: 0.5002 - accuracy: 0.8731 - val_loss: 0.4692 - val_accuracy: 0.9108 - lr: 0.0010\n",
      "Epoch 13/500\n",
      "67/67 [==============================] - 0s 2ms/step - loss: 0.4901 - accuracy: 0.8731 - val_loss: 0.4576 - val_accuracy: 0.9108 - lr: 0.0010\n",
      "Epoch 14/500\n",
      "67/67 [==============================] - 0s 2ms/step - loss: 0.4807 - accuracy: 0.8731 - val_loss: 0.4468 - val_accuracy: 0.9108 - lr: 0.0010\n",
      "Epoch 15/500\n",
      "67/67 [==============================] - 0s 2ms/step - loss: 0.4720 - accuracy: 0.8731 - val_loss: 0.4370 - val_accuracy: 0.9108 - lr: 0.0010\n",
      "Epoch 16/500\n",
      "67/67 [==============================] - 0s 2ms/step - loss: 0.4642 - accuracy: 0.8731 - val_loss: 0.4274 - val_accuracy: 0.9108 - lr: 0.0010\n",
      "Epoch 17/500\n",
      "67/67 [==============================] - 0s 2ms/step - loss: 0.4568 - accuracy: 0.8731 - val_loss: 0.4191 - val_accuracy: 0.9108 - lr: 0.0010\n",
      "Epoch 18/500\n",
      "67/67 [==============================] - 0s 2ms/step - loss: 0.4501 - accuracy: 0.8731 - val_loss: 0.4108 - val_accuracy: 0.9108 - lr: 0.0010\n",
      "Epoch 19/500\n",
      "67/67 [==============================] - 0s 2ms/step - loss: 0.4439 - accuracy: 0.8731 - val_loss: 0.4034 - val_accuracy: 0.9108 - lr: 0.0010\n",
      "Epoch 20/500\n",
      "67/67 [==============================] - 0s 2ms/step - loss: 0.4382 - accuracy: 0.8731 - val_loss: 0.3965 - val_accuracy: 0.9108 - lr: 0.0010\n",
      "Epoch 21/500\n",
      "67/67 [==============================] - 0s 2ms/step - loss: 0.4329 - accuracy: 0.8731 - val_loss: 0.3902 - val_accuracy: 0.9108 - lr: 0.0010\n",
      "Epoch 22/500\n",
      "67/67 [==============================] - 0s 2ms/step - loss: 0.4281 - accuracy: 0.8731 - val_loss: 0.3840 - val_accuracy: 0.9108 - lr: 0.0010\n",
      "Epoch 23/500\n",
      "67/67 [==============================] - 0s 2ms/step - loss: 0.4237 - accuracy: 0.8731 - val_loss: 0.3786 - val_accuracy: 0.9108 - lr: 0.0010\n",
      "Epoch 24/500\n",
      "67/67 [==============================] - 0s 2ms/step - loss: 0.4196 - accuracy: 0.8731 - val_loss: 0.3734 - val_accuracy: 0.9108 - lr: 0.0010\n",
      "Epoch 25/500\n",
      "67/67 [==============================] - 0s 2ms/step - loss: 0.4159 - accuracy: 0.8731 - val_loss: 0.3685 - val_accuracy: 0.9108 - lr: 0.0010\n",
      "Epoch 26/500\n",
      "67/67 [==============================] - 0s 2ms/step - loss: 0.4125 - accuracy: 0.8731 - val_loss: 0.3640 - val_accuracy: 0.9108 - lr: 0.0010\n",
      "Epoch 27/500\n",
      "67/67 [==============================] - 0s 2ms/step - loss: 0.4094 - accuracy: 0.8731 - val_loss: 0.3600 - val_accuracy: 0.9108 - lr: 0.0010\n",
      "Epoch 28/500\n",
      "67/67 [==============================] - 0s 2ms/step - loss: 0.4066 - accuracy: 0.8731 - val_loss: 0.3559 - val_accuracy: 0.9108 - lr: 0.0010\n",
      "Epoch 29/500\n",
      "67/67 [==============================] - 0s 2ms/step - loss: 0.4040 - accuracy: 0.8731 - val_loss: 0.3525 - val_accuracy: 0.9108 - lr: 0.0010\n",
      "Epoch 30/500\n",
      "67/67 [==============================] - 0s 2ms/step - loss: 0.4016 - accuracy: 0.8731 - val_loss: 0.3491 - val_accuracy: 0.9108 - lr: 0.0010\n",
      "Epoch 31/500\n",
      "67/67 [==============================] - 0s 2ms/step - loss: 0.3995 - accuracy: 0.8731 - val_loss: 0.3459 - val_accuracy: 0.9108 - lr: 0.0010\n",
      "Epoch 32/500\n",
      "67/67 [==============================] - 0s 2ms/step - loss: 0.3975 - accuracy: 0.8731 - val_loss: 0.3432 - val_accuracy: 0.9108 - lr: 0.0010\n",
      "Epoch 33/500\n",
      "67/67 [==============================] - 0s 2ms/step - loss: 0.3958 - accuracy: 0.8731 - val_loss: 0.3405 - val_accuracy: 0.9108 - lr: 0.0010\n",
      "Epoch 34/500\n",
      "67/67 [==============================] - 0s 2ms/step - loss: 0.3942 - accuracy: 0.8731 - val_loss: 0.3381 - val_accuracy: 0.9108 - lr: 0.0010\n",
      "Epoch 35/500\n",
      "67/67 [==============================] - 0s 2ms/step - loss: 0.3927 - accuracy: 0.8731 - val_loss: 0.3358 - val_accuracy: 0.9108 - lr: 0.0010\n",
      "Epoch 36/500\n",
      "67/67 [==============================] - 0s 2ms/step - loss: 0.3914 - accuracy: 0.8731 - val_loss: 0.3336 - val_accuracy: 0.9108 - lr: 0.0010\n",
      "Epoch 37/500\n",
      "67/67 [==============================] - 0s 2ms/step - loss: 0.3902 - accuracy: 0.8731 - val_loss: 0.3317 - val_accuracy: 0.9108 - lr: 0.0010\n",
      "Epoch 38/500\n",
      "67/67 [==============================] - 0s 2ms/step - loss: 0.3891 - accuracy: 0.8731 - val_loss: 0.3298 - val_accuracy: 0.9108 - lr: 0.0010\n",
      "Epoch 39/500\n",
      "67/67 [==============================] - 0s 2ms/step - loss: 0.3882 - accuracy: 0.8731 - val_loss: 0.3283 - val_accuracy: 0.9108 - lr: 0.0010\n",
      "Epoch 40/500\n",
      "67/67 [==============================] - 0s 2ms/step - loss: 0.3873 - accuracy: 0.8731 - val_loss: 0.3266 - val_accuracy: 0.9108 - lr: 0.0010\n",
      "Epoch 41/500\n",
      "67/67 [==============================] - 0s 2ms/step - loss: 0.3865 - accuracy: 0.8731 - val_loss: 0.3251 - val_accuracy: 0.9108 - lr: 0.0010\n",
      "Epoch 42/500\n",
      "67/67 [==============================] - 0s 2ms/step - loss: 0.3858 - accuracy: 0.8731 - val_loss: 0.3240 - val_accuracy: 0.9108 - lr: 0.0010\n",
      "Epoch 43/500\n",
      "67/67 [==============================] - 0s 2ms/step - loss: 0.3852 - accuracy: 0.8731 - val_loss: 0.3226 - val_accuracy: 0.9108 - lr: 0.0010\n",
      "Epoch 44/500\n",
      "67/67 [==============================] - 0s 2ms/step - loss: 0.3846 - accuracy: 0.8731 - val_loss: 0.3214 - val_accuracy: 0.9108 - lr: 0.0010\n",
      "Epoch 45/500\n",
      "67/67 [==============================] - 0s 2ms/step - loss: 0.3841 - accuracy: 0.8731 - val_loss: 0.3203 - val_accuracy: 0.9108 - lr: 0.0010\n",
      "Epoch 46/500\n",
      "67/67 [==============================] - 0s 2ms/step - loss: 0.3837 - accuracy: 0.8731 - val_loss: 0.3193 - val_accuracy: 0.9108 - lr: 0.0010\n",
      "Epoch 47/500\n",
      "67/67 [==============================] - 0s 2ms/step - loss: 0.3833 - accuracy: 0.8731 - val_loss: 0.3185 - val_accuracy: 0.9108 - lr: 0.0010\n",
      "Epoch 48/500\n",
      "67/67 [==============================] - 0s 1ms/step - loss: 0.3829 - accuracy: 0.8731 - val_loss: 0.3177 - val_accuracy: 0.9108 - lr: 0.0010\n",
      "Epoch 49/500\n",
      "67/67 [==============================] - 0s 2ms/step - loss: 0.3826 - accuracy: 0.8731 - val_loss: 0.3169 - val_accuracy: 0.9108 - lr: 0.0010\n",
      "Epoch 50/500\n",
      "67/67 [==============================] - 0s 2ms/step - loss: 0.3823 - accuracy: 0.8731 - val_loss: 0.3161 - val_accuracy: 0.9108 - lr: 0.0010\n",
      "Epoch 51/500\n",
      "67/67 [==============================] - 0s 2ms/step - loss: 0.3821 - accuracy: 0.8731 - val_loss: 0.3155 - val_accuracy: 0.9108 - lr: 0.0010\n",
      "Epoch 52/500\n",
      "67/67 [==============================] - 0s 2ms/step - loss: 0.3819 - accuracy: 0.8731 - val_loss: 0.3148 - val_accuracy: 0.9108 - lr: 0.0010\n",
      "Epoch 53/500\n",
      "67/67 [==============================] - 0s 2ms/step - loss: 0.3817 - accuracy: 0.8731 - val_loss: 0.3144 - val_accuracy: 0.9108 - lr: 0.0010\n",
      "Epoch 54/500\n",
      "67/67 [==============================] - 0s 1ms/step - loss: 0.3815 - accuracy: 0.8731 - val_loss: 0.3137 - val_accuracy: 0.9108 - lr: 0.0010\n",
      "Epoch 55/500\n",
      "67/67 [==============================] - 0s 2ms/step - loss: 0.3813 - accuracy: 0.8731 - val_loss: 0.3133 - val_accuracy: 0.9108 - lr: 0.0010\n",
      "Epoch 56/500\n",
      "67/67 [==============================] - 0s 2ms/step - loss: 0.3812 - accuracy: 0.8731 - val_loss: 0.3129 - val_accuracy: 0.9108 - lr: 0.0010\n",
      "Epoch 57/500\n",
      "67/67 [==============================] - 0s 2ms/step - loss: 0.3811 - accuracy: 0.8731 - val_loss: 0.3125 - val_accuracy: 0.9108 - lr: 0.0010\n",
      "Epoch 58/500\n",
      "67/67 [==============================] - 0s 1ms/step - loss: 0.3810 - accuracy: 0.8731 - val_loss: 0.3120 - val_accuracy: 0.9108 - lr: 0.0010\n",
      "Epoch 59/500\n",
      "67/67 [==============================] - 0s 1ms/step - loss: 0.3809 - accuracy: 0.8731 - val_loss: 0.3117 - val_accuracy: 0.9108 - lr: 0.0010\n",
      "Epoch 60/500\n",
      "67/67 [==============================] - 0s 1ms/step - loss: 0.3808 - accuracy: 0.8731 - val_loss: 0.3114 - val_accuracy: 0.9108 - lr: 0.0010\n",
      "Epoch 00060: early stopping\n"
     ]
    }
   ],
   "source": [
    "from keras.callbacks import EarlyStopping,ReduceLROnPlateau\n",
    "\n",
    "early_stopping = EarlyStopping(\n",
    "monitor='val_loss',\n",
    "min_delta=0.01, patience=10, \n",
    "verbose=1, \n",
    "mode='min')\n",
    "\n",
    "plat =ReduceLROnPlateau(\n",
    "        monitor=\"val_loss\", \n",
    "        mode='min', \n",
    "        patience=3, \n",
    "        factor=0.1, \n",
    "        min_lr=1e-8, \n",
    "        min_delta=0.000001)\n",
    "\n",
    "# 이진분할 이기 떄문에 로스 binary_crossentropy\n",
    "model.compile(loss=\"binary_crossentropy\",optimizer=\"adam\",metrics=[\"accuracy\"])\n",
    "\n",
    "# \n",
    "hist = model.fit(x_train, y_train, epochs=500, \n",
    "                 validation_split=0.2,\n",
    "                 batch_size=16,\n",
    "                 verbose=1,\n",
    "                 callbacks = [early_stopping,plat])\n"
   ]
  },
  {
   "cell_type": "code",
   "execution_count": 232,
   "metadata": {},
   "outputs": [
    {
     "name": "stdout",
     "output_type": "stream",
     "text": [
      "45/45 [==============================] - 0s 977us/step - loss: 0.3669 - accuracy: 0.8807\n",
      "accuracy: 88.07%\n"
     ]
    }
   ],
   "source": [
    "scores = model.evaluate(x_train, y_train, batch_size=30)\n",
    "print(\"%s: %.2f%%\" % (model.metrics_names[1], scores[1]*100))"
   ]
  },
  {
   "cell_type": "code",
   "execution_count": 233,
   "metadata": {},
   "outputs": [
    {
     "data": {
      "image/png": "[encoded data removed]",
      "text/plain": [
       "<Figure size 640x480 with 1 Axes>"
      ]
     },
     "metadata": {},
     "output_type": "display_data"
    }
   ],
   "source": [
    "plt.plot(hist.history['accuracy'])\n",
    "plt.plot(hist.history['val_accuracy'])\n",
    "plt.title('Model Accuracy')\n",
    "plt.ylabel('Accuracy')\n",
    "plt.xlabel('Epoch')\n",
    "plt.legend([\"accuracy\",\"val_accuracy\"],loc='upper left')\n",
    "plt.show()"
   ]
  },
  {
   "cell_type": "code",
   "execution_count": 234,
   "metadata": {},
   "outputs": [],
   "source": [
    "# y_submit = model.predict(test_csv)\n",
    "# # print(y_submit[:20])\n",
    "\n",
    "# # 1 과 1로 이진변환해주는 코드\n",
    "# y_submit =y_submit.flatten()\n",
    "# # y_predict 가 0.5 보다 크면 1 아니면 0 반환\n",
    "# y_submit = np.where(y_submit > 0.5, 1 , 0)\n",
    "# print(y_submit[:20])\n",
    "\n",
    "# print(len(y_submit))\n"
   ]
  },
  {
   "cell_type": "code",
   "execution_count": 235,
   "metadata": {},
   "outputs": [
    {
     "data": {
      "text/plain": [
       "id\n",
       "1677    0.136665\n",
       "1678    0.136665\n",
       "1679    0.136665\n",
       "1680    0.136665\n",
       "1681    0.136665\n",
       "1682    0.136665\n",
       "1683    0.136665\n",
       "1684    0.136665\n",
       "1685    0.136665\n",
       "1686    0.136665\n",
       "1687    0.136665\n",
       "1688    0.136665\n",
       "1689    0.136665\n",
       "1690    0.136665\n",
       "1691    0.136665\n",
       "1692    0.136665\n",
       "1693    0.136665\n",
       "1694    0.136665\n",
       "1695    0.136665\n",
       "1696    0.136665\n",
       "Name: Attrition, dtype: float32"
      ]
     },
     "execution_count": 235,
     "metadata": {},
     "output_type": "execute_result"
    }
   ],
   "source": [
    "preds =[]\n",
    "\n",
    "preds.append(model.predict(test_csv))\n",
    "pred = np.average(np.array(preds),axis=0)\n",
    "\n",
    "pred\n",
    "\n",
    "# 15-3 경로와 파일명 지정\n",
    "submission = pd.read_csv(path +\"sample_submission.csv\",index_col=\"id\")\n",
    "submission['Attrition'] = pred\n",
    "# 임계값을 0 으로 변경\n",
    "# submission['Attrition'] = np.where(submission['Attrition'] > 0.5, 1 , 0)\n",
    "\n",
    "\n",
    "submission.to_csv(path+\"submission_4.csv\")\n",
    "\n",
    "submission['Attrition'][:20]"
   ]
  }
 ],
 "metadata": {
  "kernelspec": {
   "display_name": "base",
   "language": "python",
   "name": "python3"
  },
  "language_info": {
   "codemirror_mode": {
    "name": "ipython",
    "version": 3
   },
   "file_extension": ".py",
   "mimetype": "text/x-python",
   "name": "python",
   "nbconvert_exporter": "python",
   "pygments_lexer": "ipython3",
   "version": "3.9.13"
  },
  "orig_nbformat": 4,
  "vscode": {
   "interpreter": {
    "hash": "c27b548309c0af5fd17bab5f4bab13b25abfa263227990920153a4c368708557"
   }
  }
 },
 "nbformat": 4,
 "nbformat_minor": 2
}
