{
 "cells": [
  {
   "cell_type": "code",
   "execution_count": 1,
   "id": "48b2858e",
   "metadata": {
    "_cell_guid": "b1076dfc-b9ad-4769-8c92-a6c4dae69d19",
    "_uuid": "8f2839f25d086af736a60e9eeb907d3b93b6e0e5",
    "execution": {
     "iopub.execute_input": "2023-02-02T01:29:32.256582Z",
     "iopub.status.busy": "2023-02-02T01:29:32.255512Z",
     "iopub.status.idle": "2023-02-02T01:29:40.831502Z",
     "shell.execute_reply": "2023-02-02T01:29:40.830055Z"
    },
    "papermill": {
     "duration": 8.589889,
     "end_time": "2023-02-02T01:29:40.834520",
     "exception": false,
     "start_time": "2023-02-02T01:29:32.244631",
     "status": "completed"
    },
    "tags": []
   },
   "outputs": [
    {
     "name": "stdout",
     "output_type": "stream",
     "text": [
      "/kaggle/input/red-wine-quality-cortez-et-al-2009/winequality-red.csv\n",
      "/kaggle/input/playground-series-s3e5/sample_submission.csv\n",
      "/kaggle/input/playground-series-s3e5/train.csv\n",
      "/kaggle/input/playground-series-s3e5/test.csv\n"
     ]
    }
   ],
   "source": [
    "# This Python 3 environment comes with many helpful analytics libraries installed\n",
    "# It is defined by the kaggle/python Docker image: https://github.com/kaggle/docker-python\n",
    "# For example, here's several helpful packages to load\n",
    "import pandas as pd\n",
    "import numpy as np\n",
    "import tensorflow as tf\n",
    "import sklearn as sk\n",
    "\n",
    "# 알고리즘을 그래픽화 하기위한 라이브러리\n",
    "import seaborn as sns\n",
    "import matplotlib.pylab as plt\n",
    "from matplotlib import rcParams\n",
    "import re\n",
    "from keras.models import Sequential\n",
    "from keras.layers import Dense, Activation, Dropout,Rescaling\n",
    "import keras\n",
    "\n",
    "# 모델생성 라이브러리\n",
    "from tensorflow.keras.models import Sequential\n",
    "from tensorflow.keras.layers import Dense\n",
    "\n",
    "# 데이터 스플릿,스케일링\n",
    "from sklearn.model_selection import train_test_split\n",
    "from sklearn.preprocessing import MinMaxScaler,StandardScaler\n",
    "\n",
    "# Input data files are available in the read-only \"../input/\" directory\n",
    "# For example, running this (by clicking run or pressing Shift+Enter) will list all files under the input directory\n",
    "\n",
    "import os\n",
    "for dirname, _, filenames in os.walk('/kaggle/input'):\n",
    "    for filename in filenames:\n",
    "        print(os.path.join(dirname, filename))\n",
    "\n",
    "# You can write up to 20GB to the current directory (/kaggle/working/) that gets preserved as output when you create a version using \"Save & Run All\" \n",
    "# You can also write temporary files to /kaggle/temp/, but they won't be saved outside of the current session"
   ]
  },
  {
   "cell_type": "code",
   "execution_count": 2,
   "id": "e9d72910",
   "metadata": {
    "execution": {
     "iopub.execute_input": "2023-02-02T01:29:40.851767Z",
     "iopub.status.busy": "2023-02-02T01:29:40.850249Z",
     "iopub.status.idle": "2023-02-02T01:29:40.895373Z",
     "shell.execute_reply": "2023-02-02T01:29:40.894125Z"
    },
    "papermill": {
     "duration": 0.056609,
     "end_time": "2023-02-02T01:29:40.898448",
     "exception": false,
     "start_time": "2023-02-02T01:29:40.841839",
     "status": "completed"
    },
    "tags": []
   },
   "outputs": [],
   "source": [
    "# 1 데이터 불러오기 \n",
    "path = \"/kaggle/input/playground-series-s3e5/\"\n",
    "path2 = \"/kaggle/input/red-wine-quality-cortez-et-al-2009/\"\n",
    "train_csv = pd.read_csv(path+\"train.csv\")\n",
    "train2_csv = pd.read_csv(path2+\"winequality-red.csv\")\n",
    "\n",
    "test_csv = pd.read_csv(path+\"test.csv\")"
   ]
  },
  {
   "cell_type": "code",
   "execution_count": 3,
   "id": "27bacfa9",
   "metadata": {
    "execution": {
     "iopub.execute_input": "2023-02-02T01:29:40.914154Z",
     "iopub.status.busy": "2023-02-02T01:29:40.913735Z",
     "iopub.status.idle": "2023-02-02T01:29:40.945002Z",
     "shell.execute_reply": "2023-02-02T01:29:40.943819Z"
    },
    "papermill": {
     "duration": 0.042116,
     "end_time": "2023-02-02T01:29:40.947360",
     "exception": false,
     "start_time": "2023-02-02T01:29:40.905244",
     "status": "completed"
    },
    "tags": []
   },
   "outputs": [
    {
     "name": "stdout",
     "output_type": "stream",
     "text": [
      "(2056, 13)\n"
     ]
    },
    {
     "data": {
      "text/html": [
       "<div>\n",
       "<style scoped>\n",
       "    .dataframe tbody tr th:only-of-type {\n",
       "        vertical-align: middle;\n",
       "    }\n",
       "\n",
       "    .dataframe tbody tr th {\n",
       "        vertical-align: top;\n",
       "    }\n",
       "\n",
       "    .dataframe thead th {\n",
       "        text-align: right;\n",
       "    }\n",
       "</style>\n",
       "<table border=\"1\" class=\"dataframe\">\n",
       "  <thead>\n",
       "    <tr style=\"text-align: right;\">\n",
       "      <th></th>\n",
       "      <th>Id</th>\n",
       "      <th>fixed acidity</th>\n",
       "      <th>volatile acidity</th>\n",
       "      <th>citric acid</th>\n",
       "      <th>residual sugar</th>\n",
       "      <th>chlorides</th>\n",
       "      <th>free sulfur dioxide</th>\n",
       "      <th>total sulfur dioxide</th>\n",
       "      <th>density</th>\n",
       "      <th>pH</th>\n",
       "      <th>sulphates</th>\n",
       "      <th>alcohol</th>\n",
       "      <th>quality</th>\n",
       "    </tr>\n",
       "  </thead>\n",
       "  <tbody>\n",
       "    <tr>\n",
       "      <th>0</th>\n",
       "      <td>0</td>\n",
       "      <td>8.0</td>\n",
       "      <td>0.50</td>\n",
       "      <td>0.39</td>\n",
       "      <td>2.2</td>\n",
       "      <td>0.073</td>\n",
       "      <td>30.0</td>\n",
       "      <td>39.0</td>\n",
       "      <td>0.99572</td>\n",
       "      <td>3.33</td>\n",
       "      <td>0.77</td>\n",
       "      <td>12.1</td>\n",
       "      <td>6</td>\n",
       "    </tr>\n",
       "    <tr>\n",
       "      <th>1</th>\n",
       "      <td>1</td>\n",
       "      <td>9.3</td>\n",
       "      <td>0.30</td>\n",
       "      <td>0.73</td>\n",
       "      <td>2.3</td>\n",
       "      <td>0.092</td>\n",
       "      <td>30.0</td>\n",
       "      <td>67.0</td>\n",
       "      <td>0.99854</td>\n",
       "      <td>3.32</td>\n",
       "      <td>0.67</td>\n",
       "      <td>12.8</td>\n",
       "      <td>6</td>\n",
       "    </tr>\n",
       "    <tr>\n",
       "      <th>2</th>\n",
       "      <td>2</td>\n",
       "      <td>7.1</td>\n",
       "      <td>0.51</td>\n",
       "      <td>0.03</td>\n",
       "      <td>2.1</td>\n",
       "      <td>0.059</td>\n",
       "      <td>3.0</td>\n",
       "      <td>12.0</td>\n",
       "      <td>0.99660</td>\n",
       "      <td>3.52</td>\n",
       "      <td>0.73</td>\n",
       "      <td>11.3</td>\n",
       "      <td>7</td>\n",
       "    </tr>\n",
       "    <tr>\n",
       "      <th>3</th>\n",
       "      <td>3</td>\n",
       "      <td>8.1</td>\n",
       "      <td>0.87</td>\n",
       "      <td>0.22</td>\n",
       "      <td>2.6</td>\n",
       "      <td>0.084</td>\n",
       "      <td>11.0</td>\n",
       "      <td>65.0</td>\n",
       "      <td>0.99730</td>\n",
       "      <td>3.20</td>\n",
       "      <td>0.53</td>\n",
       "      <td>9.8</td>\n",
       "      <td>5</td>\n",
       "    </tr>\n",
       "    <tr>\n",
       "      <th>4</th>\n",
       "      <td>4</td>\n",
       "      <td>8.5</td>\n",
       "      <td>0.36</td>\n",
       "      <td>0.30</td>\n",
       "      <td>2.3</td>\n",
       "      <td>0.079</td>\n",
       "      <td>10.0</td>\n",
       "      <td>45.0</td>\n",
       "      <td>0.99444</td>\n",
       "      <td>3.20</td>\n",
       "      <td>1.36</td>\n",
       "      <td>9.5</td>\n",
       "      <td>6</td>\n",
       "    </tr>\n",
       "  </tbody>\n",
       "</table>\n",
       "</div>"
      ],
      "text/plain": [
       "   Id  fixed acidity  volatile acidity  citric acid  residual sugar  \\\n",
       "0   0            8.0              0.50         0.39             2.2   \n",
       "1   1            9.3              0.30         0.73             2.3   \n",
       "2   2            7.1              0.51         0.03             2.1   \n",
       "3   3            8.1              0.87         0.22             2.6   \n",
       "4   4            8.5              0.36         0.30             2.3   \n",
       "\n",
       "   chlorides  free sulfur dioxide  total sulfur dioxide  density    pH  \\\n",
       "0      0.073                 30.0                  39.0  0.99572  3.33   \n",
       "1      0.092                 30.0                  67.0  0.99854  3.32   \n",
       "2      0.059                  3.0                  12.0  0.99660  3.52   \n",
       "3      0.084                 11.0                  65.0  0.99730  3.20   \n",
       "4      0.079                 10.0                  45.0  0.99444  3.20   \n",
       "\n",
       "   sulphates  alcohol  quality  \n",
       "0       0.77     12.1        6  \n",
       "1       0.67     12.8        6  \n",
       "2       0.73     11.3        7  \n",
       "3       0.53      9.8        5  \n",
       "4       1.36      9.5        6  "
      ]
     },
     "execution_count": 3,
     "metadata": {},
     "output_type": "execute_result"
    }
   ],
   "source": [
    "print(train_csv.shape)\n",
    "train_csv.head()"
   ]
  },
  {
   "cell_type": "code",
   "execution_count": 4,
   "id": "24494325",
   "metadata": {
    "execution": {
     "iopub.execute_input": "2023-02-02T01:29:40.963607Z",
     "iopub.status.busy": "2023-02-02T01:29:40.963154Z",
     "iopub.status.idle": "2023-02-02T01:29:40.984859Z",
     "shell.execute_reply": "2023-02-02T01:29:40.983645Z"
    },
    "papermill": {
     "duration": 0.033674,
     "end_time": "2023-02-02T01:29:40.988202",
     "exception": false,
     "start_time": "2023-02-02T01:29:40.954528",
     "status": "completed"
    },
    "tags": []
   },
   "outputs": [
    {
     "name": "stdout",
     "output_type": "stream",
     "text": [
      "(1599, 12)\n"
     ]
    },
    {
     "data": {
      "text/html": [
       "<div>\n",
       "<style scoped>\n",
       "    .dataframe tbody tr th:only-of-type {\n",
       "        vertical-align: middle;\n",
       "    }\n",
       "\n",
       "    .dataframe tbody tr th {\n",
       "        vertical-align: top;\n",
       "    }\n",
       "\n",
       "    .dataframe thead th {\n",
       "        text-align: right;\n",
       "    }\n",
       "</style>\n",
       "<table border=\"1\" class=\"dataframe\">\n",
       "  <thead>\n",
       "    <tr style=\"text-align: right;\">\n",
       "      <th></th>\n",
       "      <th>fixed acidity</th>\n",
       "      <th>volatile acidity</th>\n",
       "      <th>citric acid</th>\n",
       "      <th>residual sugar</th>\n",
       "      <th>chlorides</th>\n",
       "      <th>free sulfur dioxide</th>\n",
       "      <th>total sulfur dioxide</th>\n",
       "      <th>density</th>\n",
       "      <th>pH</th>\n",
       "      <th>sulphates</th>\n",
       "      <th>alcohol</th>\n",
       "      <th>quality</th>\n",
       "    </tr>\n",
       "  </thead>\n",
       "  <tbody>\n",
       "    <tr>\n",
       "      <th>0</th>\n",
       "      <td>7.4</td>\n",
       "      <td>0.70</td>\n",
       "      <td>0.00</td>\n",
       "      <td>1.9</td>\n",
       "      <td>0.076</td>\n",
       "      <td>11.0</td>\n",
       "      <td>34.0</td>\n",
       "      <td>0.9978</td>\n",
       "      <td>3.51</td>\n",
       "      <td>0.56</td>\n",
       "      <td>9.4</td>\n",
       "      <td>5</td>\n",
       "    </tr>\n",
       "    <tr>\n",
       "      <th>1</th>\n",
       "      <td>7.8</td>\n",
       "      <td>0.88</td>\n",
       "      <td>0.00</td>\n",
       "      <td>2.6</td>\n",
       "      <td>0.098</td>\n",
       "      <td>25.0</td>\n",
       "      <td>67.0</td>\n",
       "      <td>0.9968</td>\n",
       "      <td>3.20</td>\n",
       "      <td>0.68</td>\n",
       "      <td>9.8</td>\n",
       "      <td>5</td>\n",
       "    </tr>\n",
       "    <tr>\n",
       "      <th>2</th>\n",
       "      <td>7.8</td>\n",
       "      <td>0.76</td>\n",
       "      <td>0.04</td>\n",
       "      <td>2.3</td>\n",
       "      <td>0.092</td>\n",
       "      <td>15.0</td>\n",
       "      <td>54.0</td>\n",
       "      <td>0.9970</td>\n",
       "      <td>3.26</td>\n",
       "      <td>0.65</td>\n",
       "      <td>9.8</td>\n",
       "      <td>5</td>\n",
       "    </tr>\n",
       "    <tr>\n",
       "      <th>3</th>\n",
       "      <td>11.2</td>\n",
       "      <td>0.28</td>\n",
       "      <td>0.56</td>\n",
       "      <td>1.9</td>\n",
       "      <td>0.075</td>\n",
       "      <td>17.0</td>\n",
       "      <td>60.0</td>\n",
       "      <td>0.9980</td>\n",
       "      <td>3.16</td>\n",
       "      <td>0.58</td>\n",
       "      <td>9.8</td>\n",
       "      <td>6</td>\n",
       "    </tr>\n",
       "    <tr>\n",
       "      <th>4</th>\n",
       "      <td>7.4</td>\n",
       "      <td>0.70</td>\n",
       "      <td>0.00</td>\n",
       "      <td>1.9</td>\n",
       "      <td>0.076</td>\n",
       "      <td>11.0</td>\n",
       "      <td>34.0</td>\n",
       "      <td>0.9978</td>\n",
       "      <td>3.51</td>\n",
       "      <td>0.56</td>\n",
       "      <td>9.4</td>\n",
       "      <td>5</td>\n",
       "    </tr>\n",
       "  </tbody>\n",
       "</table>\n",
       "</div>"
      ],
      "text/plain": [
       "   fixed acidity  volatile acidity  citric acid  residual sugar  chlorides  \\\n",
       "0            7.4              0.70         0.00             1.9      0.076   \n",
       "1            7.8              0.88         0.00             2.6      0.098   \n",
       "2            7.8              0.76         0.04             2.3      0.092   \n",
       "3           11.2              0.28         0.56             1.9      0.075   \n",
       "4            7.4              0.70         0.00             1.9      0.076   \n",
       "\n",
       "   free sulfur dioxide  total sulfur dioxide  density    pH  sulphates  \\\n",
       "0                 11.0                  34.0   0.9978  3.51       0.56   \n",
       "1                 25.0                  67.0   0.9968  3.20       0.68   \n",
       "2                 15.0                  54.0   0.9970  3.26       0.65   \n",
       "3                 17.0                  60.0   0.9980  3.16       0.58   \n",
       "4                 11.0                  34.0   0.9978  3.51       0.56   \n",
       "\n",
       "   alcohol  quality  \n",
       "0      9.4        5  \n",
       "1      9.8        5  \n",
       "2      9.8        5  \n",
       "3      9.8        6  \n",
       "4      9.4        5  "
      ]
     },
     "execution_count": 4,
     "metadata": {},
     "output_type": "execute_result"
    }
   ],
   "source": [
    "print(train2_csv.shape)\n",
    "train2_csv.head()"
   ]
  },
  {
   "cell_type": "code",
   "execution_count": 5,
   "id": "d84a774e",
   "metadata": {
    "execution": {
     "iopub.execute_input": "2023-02-02T01:29:41.005319Z",
     "iopub.status.busy": "2023-02-02T01:29:41.004881Z",
     "iopub.status.idle": "2023-02-02T01:29:41.016128Z",
     "shell.execute_reply": "2023-02-02T01:29:41.014935Z"
    },
    "papermill": {
     "duration": 0.023246,
     "end_time": "2023-02-02T01:29:41.019268",
     "exception": false,
     "start_time": "2023-02-02T01:29:40.996022",
     "status": "completed"
    },
    "tags": []
   },
   "outputs": [
    {
     "data": {
      "text/plain": [
       "Id                      0\n",
       "fixed acidity           0\n",
       "volatile acidity        0\n",
       "citric acid             0\n",
       "residual sugar          0\n",
       "chlorides               0\n",
       "free sulfur dioxide     0\n",
       "total sulfur dioxide    0\n",
       "density                 0\n",
       "pH                      0\n",
       "sulphates               0\n",
       "alcohol                 0\n",
       "quality                 0\n",
       "dtype: int64"
      ]
     },
     "execution_count": 5,
     "metadata": {},
     "output_type": "execute_result"
    }
   ],
   "source": [
    "# 널값 확인\n",
    "train_csv.isna().sum()"
   ]
  },
  {
   "cell_type": "code",
   "execution_count": 6,
   "id": "f9985280",
   "metadata": {
    "execution": {
     "iopub.execute_input": "2023-02-02T01:29:41.038647Z",
     "iopub.status.busy": "2023-02-02T01:29:41.038004Z",
     "iopub.status.idle": "2023-02-02T01:29:41.054256Z",
     "shell.execute_reply": "2023-02-02T01:29:41.052513Z"
    },
    "papermill": {
     "duration": 0.031798,
     "end_time": "2023-02-02T01:29:41.058645",
     "exception": false,
     "start_time": "2023-02-02T01:29:41.026847",
     "status": "completed"
    },
    "tags": []
   },
   "outputs": [
    {
     "data": {
      "text/plain": [
       "fixed acidity           0\n",
       "volatile acidity        0\n",
       "citric acid             0\n",
       "residual sugar          0\n",
       "chlorides               0\n",
       "free sulfur dioxide     0\n",
       "total sulfur dioxide    0\n",
       "density                 0\n",
       "pH                      0\n",
       "sulphates               0\n",
       "alcohol                 0\n",
       "quality                 0\n",
       "dtype: int64"
      ]
     },
     "execution_count": 6,
     "metadata": {},
     "output_type": "execute_result"
    }
   ],
   "source": [
    "train2_csv.isna().sum()"
   ]
  },
  {
   "cell_type": "code",
   "execution_count": 7,
   "id": "9caa3bbe",
   "metadata": {
    "execution": {
     "iopub.execute_input": "2023-02-02T01:29:41.082593Z",
     "iopub.status.busy": "2023-02-02T01:29:41.082129Z",
     "iopub.status.idle": "2023-02-02T01:29:41.094121Z",
     "shell.execute_reply": "2023-02-02T01:29:41.092767Z"
    },
    "papermill": {
     "duration": 0.02845,
     "end_time": "2023-02-02T01:29:41.097846",
     "exception": false,
     "start_time": "2023-02-02T01:29:41.069396",
     "status": "completed"
    },
    "tags": []
   },
   "outputs": [
    {
     "data": {
      "text/plain": [
       "Id                        int64\n",
       "fixed acidity           float64\n",
       "volatile acidity        float64\n",
       "citric acid             float64\n",
       "residual sugar          float64\n",
       "chlorides               float64\n",
       "free sulfur dioxide     float64\n",
       "total sulfur dioxide    float64\n",
       "density                 float64\n",
       "pH                      float64\n",
       "sulphates               float64\n",
       "alcohol                 float64\n",
       "quality                   int64\n",
       "dtype: object"
      ]
     },
     "execution_count": 7,
     "metadata": {},
     "output_type": "execute_result"
    }
   ],
   "source": [
    "# 문자열 확인\n",
    "train_csv.dtypes"
   ]
  },
  {
   "cell_type": "code",
   "execution_count": 8,
   "id": "392eba51",
   "metadata": {
    "execution": {
     "iopub.execute_input": "2023-02-02T01:29:41.120186Z",
     "iopub.status.busy": "2023-02-02T01:29:41.119779Z",
     "iopub.status.idle": "2023-02-02T01:29:41.128653Z",
     "shell.execute_reply": "2023-02-02T01:29:41.127324Z"
    },
    "papermill": {
     "duration": 0.024212,
     "end_time": "2023-02-02T01:29:41.132542",
     "exception": false,
     "start_time": "2023-02-02T01:29:41.108330",
     "status": "completed"
    },
    "tags": []
   },
   "outputs": [
    {
     "data": {
      "text/plain": [
       "fixed acidity           float64\n",
       "volatile acidity        float64\n",
       "citric acid             float64\n",
       "residual sugar          float64\n",
       "chlorides               float64\n",
       "free sulfur dioxide     float64\n",
       "total sulfur dioxide    float64\n",
       "density                 float64\n",
       "pH                      float64\n",
       "sulphates               float64\n",
       "alcohol                 float64\n",
       "quality                   int64\n",
       "dtype: object"
      ]
     },
     "execution_count": 8,
     "metadata": {},
     "output_type": "execute_result"
    }
   ],
   "source": [
    "train2_csv.dtypes"
   ]
  },
  {
   "cell_type": "code",
   "execution_count": 9,
   "id": "82cb9d12",
   "metadata": {
    "execution": {
     "iopub.execute_input": "2023-02-02T01:29:41.157169Z",
     "iopub.status.busy": "2023-02-02T01:29:41.156684Z",
     "iopub.status.idle": "2023-02-02T01:29:41.172992Z",
     "shell.execute_reply": "2023-02-02T01:29:41.171420Z"
    },
    "papermill": {
     "duration": 0.029923,
     "end_time": "2023-02-02T01:29:41.175783",
     "exception": false,
     "start_time": "2023-02-02T01:29:41.145860",
     "status": "completed"
    },
    "tags": []
   },
   "outputs": [],
   "source": [
    "# ID 값을 제거한뒤\n",
    "test_csv = test_csv.drop(\"Id\",axis=1)\n",
    "train_csv = train_csv.drop(\"Id\",axis=1)"
   ]
  },
  {
   "cell_type": "code",
   "execution_count": 10,
   "id": "c42c026e",
   "metadata": {
    "execution": {
     "iopub.execute_input": "2023-02-02T01:29:41.193509Z",
     "iopub.status.busy": "2023-02-02T01:29:41.193069Z",
     "iopub.status.idle": "2023-02-02T01:29:41.200186Z",
     "shell.execute_reply": "2023-02-02T01:29:41.199257Z"
    },
    "papermill": {
     "duration": 0.018412,
     "end_time": "2023-02-02T01:29:41.202411",
     "exception": false,
     "start_time": "2023-02-02T01:29:41.183999",
     "status": "completed"
    },
    "tags": []
   },
   "outputs": [],
   "source": [
    "# concat 병합 진행\n",
    "train = pd.concat([train_csv,train2_csv])\n"
   ]
  },
  {
   "cell_type": "code",
   "execution_count": 11,
   "id": "e1e5acf2",
   "metadata": {
    "execution": {
     "iopub.execute_input": "2023-02-02T01:29:41.220857Z",
     "iopub.status.busy": "2023-02-02T01:29:41.219731Z",
     "iopub.status.idle": "2023-02-02T01:29:41.231841Z",
     "shell.execute_reply": "2023-02-02T01:29:41.230391Z"
    },
    "papermill": {
     "duration": 0.023686,
     "end_time": "2023-02-02T01:29:41.234303",
     "exception": false,
     "start_time": "2023-02-02T01:29:41.210617",
     "status": "completed"
    },
    "tags": []
   },
   "outputs": [
    {
     "name": "stdout",
     "output_type": "stream",
     "text": [
      "(3655, 12)\n"
     ]
    },
    {
     "data": {
      "text/plain": [
       "array([6, 7, 5, 4, 8, 3])"
      ]
     },
     "execution_count": 11,
     "metadata": {},
     "output_type": "execute_result"
    }
   ],
   "source": [
    "print(train.shape)\n",
    "train[\"quality\"].unique()"
   ]
  },
  {
   "cell_type": "code",
   "execution_count": 12,
   "id": "70a4b5e1",
   "metadata": {
    "execution": {
     "iopub.execute_input": "2023-02-02T01:29:41.252620Z",
     "iopub.status.busy": "2023-02-02T01:29:41.252160Z",
     "iopub.status.idle": "2023-02-02T01:29:41.264851Z",
     "shell.execute_reply": "2023-02-02T01:29:41.263455Z"
    },
    "papermill": {
     "duration": 0.02511,
     "end_time": "2023-02-02T01:29:41.267455",
     "exception": false,
     "start_time": "2023-02-02T01:29:41.242345",
     "status": "completed"
    },
    "tags": []
   },
   "outputs": [],
   "source": [
    "train = pd.get_dummies(train)"
   ]
  },
  {
   "cell_type": "code",
   "execution_count": 13,
   "id": "0537850d",
   "metadata": {
    "execution": {
     "iopub.execute_input": "2023-02-02T01:29:41.285718Z",
     "iopub.status.busy": "2023-02-02T01:29:41.285257Z",
     "iopub.status.idle": "2023-02-02T01:29:41.292919Z",
     "shell.execute_reply": "2023-02-02T01:29:41.291769Z"
    },
    "papermill": {
     "duration": 0.019662,
     "end_time": "2023-02-02T01:29:41.295307",
     "exception": false,
     "start_time": "2023-02-02T01:29:41.275645",
     "status": "completed"
    },
    "tags": []
   },
   "outputs": [
    {
     "data": {
      "text/plain": [
       "Index(['fixed acidity', 'volatile acidity', 'citric acid', 'residual sugar',\n",
       "       'chlorides', 'free sulfur dioxide', 'total sulfur dioxide', 'density',\n",
       "       'pH', 'sulphates', 'alcohol', 'quality'],\n",
       "      dtype='object')"
      ]
     },
     "execution_count": 13,
     "metadata": {},
     "output_type": "execute_result"
    }
   ],
   "source": [
    "train.columns"
   ]
  },
  {
   "cell_type": "code",
   "execution_count": 14,
   "id": "df265d2b",
   "metadata": {
    "execution": {
     "iopub.execute_input": "2023-02-02T01:29:41.313585Z",
     "iopub.status.busy": "2023-02-02T01:29:41.313167Z",
     "iopub.status.idle": "2023-02-02T01:29:41.317866Z",
     "shell.execute_reply": "2023-02-02T01:29:41.316624Z"
    },
    "papermill": {
     "duration": 0.016797,
     "end_time": "2023-02-02T01:29:41.320252",
     "exception": false,
     "start_time": "2023-02-02T01:29:41.303455",
     "status": "completed"
    },
    "tags": []
   },
   "outputs": [],
   "source": [
    "# DEA 진행\n",
    "# import pandas_profiling\n",
    "# train.profile_report()"
   ]
  },
  {
   "cell_type": "code",
   "execution_count": 15,
   "id": "9b10e64f",
   "metadata": {
    "execution": {
     "iopub.execute_input": "2023-02-02T01:29:41.338205Z",
     "iopub.status.busy": "2023-02-02T01:29:41.337796Z",
     "iopub.status.idle": "2023-02-02T01:29:41.344956Z",
     "shell.execute_reply": "2023-02-02T01:29:41.343606Z"
    },
    "papermill": {
     "duration": 0.019163,
     "end_time": "2023-02-02T01:29:41.347456",
     "exception": false,
     "start_time": "2023-02-02T01:29:41.328293",
     "status": "completed"
    },
    "tags": []
   },
   "outputs": [],
   "source": [
    "x = train.drop(\"quality\",axis = 1)\n",
    "y = train[\"quality\"]"
   ]
  },
  {
   "cell_type": "code",
   "execution_count": 16,
   "id": "9b76bafd",
   "metadata": {
    "execution": {
     "iopub.execute_input": "2023-02-02T01:29:41.365850Z",
     "iopub.status.busy": "2023-02-02T01:29:41.365301Z",
     "iopub.status.idle": "2023-02-02T01:29:41.379871Z",
     "shell.execute_reply": "2023-02-02T01:29:41.378201Z"
    },
    "papermill": {
     "duration": 0.026942,
     "end_time": "2023-02-02T01:29:41.382509",
     "exception": false,
     "start_time": "2023-02-02T01:29:41.355567",
     "status": "completed"
    },
    "tags": []
   },
   "outputs": [
    {
     "name": "stdout",
     "output_type": "stream",
     "text": [
      "(2924, 11) (731, 11)\n",
      "(2924,) (731,)\n",
      "278     6\n",
      "1589    5\n",
      "64      5\n",
      "1760    7\n",
      "1244    5\n",
      "1816    6\n",
      "Name: quality, dtype: int64\n"
     ]
    }
   ],
   "source": [
    "# 7. train test 스플릿\n",
    "\n",
    "x_train, x_test, y_train,y_test = train_test_split(\n",
    "    x,\n",
    "    y,\n",
    "    train_size=0.8,\n",
    "    shuffle = True,\n",
    "    stratify = y,\n",
    "    # random_state=21\n",
    ")\n",
    "print(x_train.shape,x_test.shape)\n",
    "print(y_train.shape,y_test.shape)\n",
    "\n",
    "print(y_train[:6])\n",
    "\n"
   ]
  },
  {
   "cell_type": "code",
   "execution_count": 17,
   "id": "ce13a5c8",
   "metadata": {
    "execution": {
     "iopub.execute_input": "2023-02-02T01:29:41.401024Z",
     "iopub.status.busy": "2023-02-02T01:29:41.400565Z",
     "iopub.status.idle": "2023-02-02T01:29:41.407705Z",
     "shell.execute_reply": "2023-02-02T01:29:41.406376Z"
    },
    "papermill": {
     "duration": 0.019309,
     "end_time": "2023-02-02T01:29:41.410021",
     "exception": false,
     "start_time": "2023-02-02T01:29:41.390712",
     "status": "completed"
    },
    "tags": []
   },
   "outputs": [],
   "source": [
    "# 1-1 겟더미로 y 값 원 핫 인덱싱\n",
    "y_train = pd.get_dummies(y_train)\n"
   ]
  },
  {
   "cell_type": "code",
   "execution_count": 18,
   "id": "77e00c40",
   "metadata": {
    "execution": {
     "iopub.execute_input": "2023-02-02T01:29:41.428829Z",
     "iopub.status.busy": "2023-02-02T01:29:41.428111Z",
     "iopub.status.idle": "2023-02-02T01:29:41.434265Z",
     "shell.execute_reply": "2023-02-02T01:29:41.433281Z"
    },
    "papermill": {
     "duration": 0.018517,
     "end_time": "2023-02-02T01:29:41.436821",
     "exception": false,
     "start_time": "2023-02-02T01:29:41.418304",
     "status": "completed"
    },
    "tags": []
   },
   "outputs": [],
   "source": [
    "y_test = pd.get_dummies(y_test)"
   ]
  },
  {
   "cell_type": "code",
   "execution_count": 19,
   "id": "4e5e847e",
   "metadata": {
    "execution": {
     "iopub.execute_input": "2023-02-02T01:29:41.455440Z",
     "iopub.status.busy": "2023-02-02T01:29:41.454740Z",
     "iopub.status.idle": "2023-02-02T01:29:41.461983Z",
     "shell.execute_reply": "2023-02-02T01:29:41.460893Z"
    },
    "papermill": {
     "duration": 0.019342,
     "end_time": "2023-02-02T01:29:41.464310",
     "exception": false,
     "start_time": "2023-02-02T01:29:41.444968",
     "status": "completed"
    },
    "tags": []
   },
   "outputs": [
    {
     "data": {
      "text/plain": [
       "(2924, 6)"
      ]
     },
     "execution_count": 19,
     "metadata": {},
     "output_type": "execute_result"
    }
   ],
   "source": [
    "y_train.shape"
   ]
  },
  {
   "cell_type": "code",
   "execution_count": 20,
   "id": "cd9e1195",
   "metadata": {
    "execution": {
     "iopub.execute_input": "2023-02-02T01:29:41.483194Z",
     "iopub.status.busy": "2023-02-02T01:29:41.482491Z",
     "iopub.status.idle": "2023-02-02T01:29:41.658353Z",
     "shell.execute_reply": "2023-02-02T01:29:41.657124Z"
    },
    "papermill": {
     "duration": 0.188935,
     "end_time": "2023-02-02T01:29:41.661380",
     "exception": false,
     "start_time": "2023-02-02T01:29:41.472445",
     "status": "completed"
    },
    "tags": []
   },
   "outputs": [],
   "source": [
    "# 9. https://www.kaggle.com/code/alexandershumilin/ps-s3-e3-keras-nn \n",
    "# 윗 링크의 모델 따옴\n",
    "from tensorflow.keras import layers\n",
    "from tensorflow import keras\n",
    "import tensorflow_addons as tfa\n",
    "dr = 0.2\n",
    "\n",
    "def get_model():\n",
    "    model = keras.Sequential([\n",
    "    layers.Dense(512), \n",
    "    layers.LeakyReLU(alpha=0.3),\n",
    "    layers.Dropout(rate=dr),\n",
    "    layers.Dense(256), \n",
    "    layers.LeakyReLU(alpha=0.3),\n",
    "    layers.Dropout(rate=dr),\n",
    "    layers.Dense(128), \n",
    "    layers.LeakyReLU(alpha=0.3),\n",
    "    layers.Dropout(rate=dr),\n",
    "    layers.Dense(64), \n",
    "    layers.LeakyReLU(alpha=0.3),\n",
    "    layers.Dropout(rate=dr),\n",
    "    layers.BatchNormalization(),\n",
    "    layers.Dense(32), \n",
    "    layers.LeakyReLU(alpha=0.3),\n",
    "    layers.Dropout(rate=dr),\n",
    "    layers.Dense(16), \n",
    "    layers.LeakyReLU(alpha=0.3),\n",
    "    layers.Dropout(rate=dr),\n",
    "    layers.Dense(8),\n",
    "    layers.LeakyReLU(alpha=0.3),\n",
    "    layers.Dense(6, activation='softmax')\n",
    "   ])\n",
    "\n",
    "    opt = keras.optimizers.Adam(learning_rate=0.0001)\n",
    "    \n",
    "    model.compile(\n",
    "        optimizer = \"adam\",\n",
    "        loss=\"categorical_crossentropy\",\n",
    "        metrics='AUC',\n",
    ")\n",
    "    return model\n",
    "\n",
    "early_stopping = keras.callbacks.EarlyStopping(\n",
    "        monitor=\"val_auc\", \n",
    "        mode='max',\n",
    "        patience=30,\n",
    "        min_delta=0.00001,\n",
    "        restore_best_weights=True,\n",
    ")\n",
    "plat = keras.callbacks.ReduceLROnPlateau(\n",
    "        monitor=\"val_auc\", \n",
    "        mode='max', \n",
    "        patience=3, \n",
    "        factor=0.1, \n",
    "        min_lr=1e-8, \n",
    "        min_delta=0.000001)\n"
   ]
  },
  {
   "cell_type": "code",
   "execution_count": 21,
   "id": "5a07ece6",
   "metadata": {
    "collapsed": true,
    "execution": {
     "iopub.execute_input": "2023-02-02T01:29:41.679765Z",
     "iopub.status.busy": "2023-02-02T01:29:41.679333Z",
     "iopub.status.idle": "2023-02-02T01:30:27.603024Z",
     "shell.execute_reply": "2023-02-02T01:30:27.601621Z"
    },
    "jupyter": {
     "outputs_hidden": true
    },
    "papermill": {
     "duration": 45.936344,
     "end_time": "2023-02-02T01:30:27.606039",
     "exception": false,
     "start_time": "2023-02-02T01:29:41.669695",
     "status": "completed"
    },
    "tags": []
   },
   "outputs": [
    {
     "name": "stderr",
     "output_type": "stream",
     "text": [
      "2023-02-02 01:29:41.747425: I tensorflow/core/common_runtime/process_util.cc:146] Creating new thread pool with default inter op setting: 2. Tune using inter_op_parallelism_threads for best performance.\n",
      "2023-02-02 01:29:41.909276: I tensorflow/compiler/mlir/mlir_graph_optimization_pass.cc:185] None of the MLIR Optimization Passes are enabled (registered 2)\n"
     ]
    },
    {
     "name": "stdout",
     "output_type": "stream",
     "text": [
      "Epoch 1/500\n",
      "74/74 [==============================] - 3s 14ms/step - loss: 1.5044 - auc: 0.7614 - val_loss: 1.3393 - val_auc: 0.8326\n",
      "Epoch 2/500\n",
      "74/74 [==============================] - 1s 8ms/step - loss: 1.3131 - auc: 0.8278 - val_loss: 1.2162 - val_auc: 0.8460\n",
      "Epoch 3/500\n",
      "74/74 [==============================] - 1s 8ms/step - loss: 1.2891 - auc: 0.8295 - val_loss: 1.2124 - val_auc: 0.8474\n",
      "Epoch 4/500\n",
      "74/74 [==============================] - 1s 8ms/step - loss: 1.2448 - auc: 0.8372 - val_loss: 1.1913 - val_auc: 0.8526\n",
      "Epoch 5/500\n",
      "74/74 [==============================] - 1s 8ms/step - loss: 1.2283 - auc: 0.8383 - val_loss: 1.1811 - val_auc: 0.8552\n",
      "Epoch 6/500\n",
      "74/74 [==============================] - 1s 8ms/step - loss: 1.2142 - auc: 0.8463 - val_loss: 1.2383 - val_auc: 0.8274\n",
      "Epoch 7/500\n",
      "74/74 [==============================] - 1s 8ms/step - loss: 1.2013 - auc: 0.8468 - val_loss: 1.1458 - val_auc: 0.8656\n",
      "Epoch 8/500\n",
      "74/74 [==============================] - 1s 8ms/step - loss: 1.2017 - auc: 0.8491 - val_loss: 1.1346 - val_auc: 0.8636\n",
      "Epoch 9/500\n",
      "74/74 [==============================] - 1s 8ms/step - loss: 1.1907 - auc: 0.8505 - val_loss: 1.1529 - val_auc: 0.8615\n",
      "Epoch 10/500\n",
      "74/74 [==============================] - 1s 7ms/step - loss: 1.1852 - auc: 0.8528 - val_loss: 1.1696 - val_auc: 0.8617\n",
      "Epoch 11/500\n",
      "74/74 [==============================] - 1s 7ms/step - loss: 1.1819 - auc: 0.8533 - val_loss: 1.1180 - val_auc: 0.8698\n",
      "Epoch 12/500\n",
      "74/74 [==============================] - 1s 8ms/step - loss: 1.1607 - auc: 0.8581 - val_loss: 1.1145 - val_auc: 0.8715\n",
      "Epoch 13/500\n",
      "74/74 [==============================] - 1s 8ms/step - loss: 1.1641 - auc: 0.8576 - val_loss: 1.1110 - val_auc: 0.8726\n",
      "Epoch 14/500\n",
      "74/74 [==============================] - 1s 9ms/step - loss: 1.1568 - auc: 0.8597 - val_loss: 1.1091 - val_auc: 0.8728\n",
      "Epoch 15/500\n",
      "74/74 [==============================] - 1s 8ms/step - loss: 1.1618 - auc: 0.8579 - val_loss: 1.1044 - val_auc: 0.8740\n",
      "Epoch 16/500\n",
      "74/74 [==============================] - 1s 8ms/step - loss: 1.1590 - auc: 0.8594 - val_loss: 1.0972 - val_auc: 0.8756\n",
      "Epoch 17/500\n",
      "74/74 [==============================] - 1s 8ms/step - loss: 1.1543 - auc: 0.8602 - val_loss: 1.0929 - val_auc: 0.8763\n",
      "Epoch 18/500\n",
      "74/74 [==============================] - 1s 8ms/step - loss: 1.1641 - auc: 0.8592 - val_loss: 1.0854 - val_auc: 0.8782\n",
      "Epoch 19/500\n",
      "74/74 [==============================] - 1s 8ms/step - loss: 1.1486 - auc: 0.8616 - val_loss: 1.0816 - val_auc: 0.8778\n",
      "Epoch 20/500\n",
      "74/74 [==============================] - 1s 8ms/step - loss: 1.1537 - auc: 0.8598 - val_loss: 1.0807 - val_auc: 0.8800\n",
      "Epoch 21/500\n",
      "74/74 [==============================] - 1s 8ms/step - loss: 1.1404 - auc: 0.8640 - val_loss: 1.0732 - val_auc: 0.8803\n",
      "Epoch 22/500\n",
      "74/74 [==============================] - 1s 8ms/step - loss: 1.1475 - auc: 0.8623 - val_loss: 1.0706 - val_auc: 0.8811\n",
      "Epoch 23/500\n",
      "74/74 [==============================] - 1s 8ms/step - loss: 1.1296 - auc: 0.8661 - val_loss: 1.0718 - val_auc: 0.8818\n",
      "Epoch 24/500\n",
      "74/74 [==============================] - 1s 8ms/step - loss: 1.1254 - auc: 0.8673 - val_loss: 1.0603 - val_auc: 0.8830\n",
      "Epoch 25/500\n",
      "74/74 [==============================] - 1s 8ms/step - loss: 1.1262 - auc: 0.8669 - val_loss: 1.0612 - val_auc: 0.8829\n",
      "Epoch 26/500\n",
      "74/74 [==============================] - 1s 8ms/step - loss: 1.1337 - auc: 0.8662 - val_loss: 1.0571 - val_auc: 0.8841\n",
      "Epoch 27/500\n",
      "74/74 [==============================] - 1s 9ms/step - loss: 1.1397 - auc: 0.8642 - val_loss: 1.0589 - val_auc: 0.8840\n",
      "Epoch 28/500\n",
      "74/74 [==============================] - 1s 8ms/step - loss: 1.1222 - auc: 0.8675 - val_loss: 1.0575 - val_auc: 0.8843\n",
      "Epoch 29/500\n",
      "74/74 [==============================] - 1s 8ms/step - loss: 1.1245 - auc: 0.8680 - val_loss: 1.0482 - val_auc: 0.8856\n",
      "Epoch 30/500\n",
      "74/74 [==============================] - 1s 12ms/step - loss: 1.1162 - auc: 0.8696 - val_loss: 1.0534 - val_auc: 0.8842\n",
      "Epoch 31/500\n",
      "74/74 [==============================] - 1s 11ms/step - loss: 1.1239 - auc: 0.8680 - val_loss: 1.0495 - val_auc: 0.8866\n",
      "Epoch 32/500\n",
      "74/74 [==============================] - 1s 8ms/step - loss: 1.1249 - auc: 0.8684 - val_loss: 1.0693 - val_auc: 0.8847\n",
      "Epoch 33/500\n",
      "74/74 [==============================] - 1s 8ms/step - loss: 1.1235 - auc: 0.8674 - val_loss: 1.0488 - val_auc: 0.8860\n",
      "Epoch 34/500\n",
      "74/74 [==============================] - 1s 8ms/step - loss: 1.1244 - auc: 0.8688 - val_loss: 1.0450 - val_auc: 0.8869\n",
      "Epoch 35/500\n",
      "74/74 [==============================] - 1s 8ms/step - loss: 1.1127 - auc: 0.8706 - val_loss: 1.0421 - val_auc: 0.8876\n",
      "Epoch 36/500\n",
      "74/74 [==============================] - 1s 8ms/step - loss: 1.1244 - auc: 0.8681 - val_loss: 1.0410 - val_auc: 0.8883\n",
      "Epoch 37/500\n",
      "74/74 [==============================] - 1s 8ms/step - loss: 1.1093 - auc: 0.8710 - val_loss: 1.0397 - val_auc: 0.8880\n",
      "Epoch 38/500\n",
      "74/74 [==============================] - 1s 8ms/step - loss: 1.1061 - auc: 0.8721 - val_loss: 1.0398 - val_auc: 0.8874\n",
      "Epoch 39/500\n",
      "74/74 [==============================] - 1s 8ms/step - loss: 1.1022 - auc: 0.8729 - val_loss: 1.0428 - val_auc: 0.8881\n",
      "Epoch 40/500\n",
      "74/74 [==============================] - 1s 9ms/step - loss: 1.1077 - auc: 0.8724 - val_loss: 1.0370 - val_auc: 0.8885\n",
      "Epoch 41/500\n",
      "74/74 [==============================] - 1s 8ms/step - loss: 1.1050 - auc: 0.8726 - val_loss: 1.0359 - val_auc: 0.8886\n",
      "Epoch 42/500\n",
      "74/74 [==============================] - 1s 9ms/step - loss: 1.0939 - auc: 0.8745 - val_loss: 1.0366 - val_auc: 0.8883\n",
      "Epoch 43/500\n",
      "74/74 [==============================] - 1s 9ms/step - loss: 1.1003 - auc: 0.8737 - val_loss: 1.0370 - val_auc: 0.8884\n",
      "Epoch 44/500\n",
      "74/74 [==============================] - 1s 8ms/step - loss: 1.1001 - auc: 0.8729 - val_loss: 1.0381 - val_auc: 0.8882\n",
      "Epoch 45/500\n",
      "74/74 [==============================] - 1s 8ms/step - loss: 1.0985 - auc: 0.8737 - val_loss: 1.0384 - val_auc: 0.8880\n",
      "Epoch 46/500\n",
      "74/74 [==============================] - 1s 8ms/step - loss: 1.0897 - auc: 0.8759 - val_loss: 1.0388 - val_auc: 0.8878\n",
      "Epoch 47/500\n",
      "74/74 [==============================] - 1s 9ms/step - loss: 1.0965 - auc: 0.8745 - val_loss: 1.0384 - val_auc: 0.8879\n",
      "Epoch 48/500\n",
      "74/74 [==============================] - 1s 9ms/step - loss: 1.1074 - auc: 0.8727 - val_loss: 1.0389 - val_auc: 0.8878\n",
      "Epoch 49/500\n",
      "74/74 [==============================] - 1s 9ms/step - loss: 1.1021 - auc: 0.8739 - val_loss: 1.0391 - val_auc: 0.8878\n",
      "Epoch 50/500\n",
      "74/74 [==============================] - 1s 9ms/step - loss: 1.1075 - auc: 0.8714 - val_loss: 1.0390 - val_auc: 0.8879\n",
      "Epoch 51/500\n",
      "74/74 [==============================] - 1s 8ms/step - loss: 1.0932 - auc: 0.8750 - val_loss: 1.0387 - val_auc: 0.8880\n",
      "Epoch 52/500\n",
      "74/74 [==============================] - 1s 8ms/step - loss: 1.0950 - auc: 0.8742 - val_loss: 1.0388 - val_auc: 0.8880\n",
      "Epoch 53/500\n",
      "74/74 [==============================] - 1s 8ms/step - loss: 1.1038 - auc: 0.8731 - val_loss: 1.0390 - val_auc: 0.8879\n",
      "Epoch 54/500\n",
      "74/74 [==============================] - 1s 8ms/step - loss: 1.0919 - auc: 0.8748 - val_loss: 1.0391 - val_auc: 0.8878\n",
      "Epoch 55/500\n",
      "74/74 [==============================] - 1s 9ms/step - loss: 1.1160 - auc: 0.8687 - val_loss: 1.0395 - val_auc: 0.8878\n",
      "Epoch 56/500\n",
      "74/74 [==============================] - 1s 9ms/step - loss: 1.1080 - auc: 0.8718 - val_loss: 1.0391 - val_auc: 0.8879\n",
      "Epoch 57/500\n",
      "74/74 [==============================] - 1s 8ms/step - loss: 1.1010 - auc: 0.8735 - val_loss: 1.0393 - val_auc: 0.8877\n",
      "Epoch 58/500\n",
      "74/74 [==============================] - 1s 8ms/step - loss: 1.0958 - auc: 0.8739 - val_loss: 1.0396 - val_auc: 0.8878\n",
      "Epoch 59/500\n",
      "74/74 [==============================] - 1s 8ms/step - loss: 1.1128 - auc: 0.8711 - val_loss: 1.0392 - val_auc: 0.8878\n",
      "Epoch 60/500\n",
      "74/74 [==============================] - 1s 9ms/step - loss: 1.0998 - auc: 0.8731 - val_loss: 1.0390 - val_auc: 0.8878\n",
      "Epoch 61/500\n",
      "74/74 [==============================] - 1s 8ms/step - loss: 1.1117 - auc: 0.8700 - val_loss: 1.0389 - val_auc: 0.8879\n",
      "Epoch 62/500\n",
      "74/74 [==============================] - 1s 8ms/step - loss: 1.1129 - auc: 0.8702 - val_loss: 1.0386 - val_auc: 0.8879\n",
      "Epoch 63/500\n",
      "74/74 [==============================] - 1s 7ms/step - loss: 1.1026 - auc: 0.8727 - val_loss: 1.0394 - val_auc: 0.8877\n",
      "Epoch 64/500\n",
      "74/74 [==============================] - 1s 8ms/step - loss: 1.1099 - auc: 0.8716 - val_loss: 1.0394 - val_auc: 0.8878\n",
      "Epoch 65/500\n",
      "74/74 [==============================] - 1s 8ms/step - loss: 1.1079 - auc: 0.8715 - val_loss: 1.0391 - val_auc: 0.8879\n",
      "Epoch 66/500\n",
      "74/74 [==============================] - 1s 8ms/step - loss: 1.1096 - auc: 0.8711 - val_loss: 1.0394 - val_auc: 0.8878\n",
      "Epoch 67/500\n",
      "74/74 [==============================] - 1s 9ms/step - loss: 1.1058 - auc: 0.8718 - val_loss: 1.0392 - val_auc: 0.8877\n",
      "Epoch 68/500\n",
      "74/74 [==============================] - 1s 8ms/step - loss: 1.0944 - auc: 0.8750 - val_loss: 1.0392 - val_auc: 0.8878\n",
      "Epoch 69/500\n",
      "74/74 [==============================] - 1s 8ms/step - loss: 1.1001 - auc: 0.8733 - val_loss: 1.0394 - val_auc: 0.8878\n",
      "Epoch 70/500\n",
      "74/74 [==============================] - 1s 8ms/step - loss: 1.1158 - auc: 0.8695 - val_loss: 1.0390 - val_auc: 0.8880\n",
      "Epoch 71/500\n",
      "74/74 [==============================] - 1s 8ms/step - loss: 1.1122 - auc: 0.8707 - val_loss: 1.0391 - val_auc: 0.8878\n"
     ]
    }
   ],
   "source": [
    "model = get_model()\n",
    "\n",
    "class_weight = 10\n",
    "history = model.fit(\n",
    "        x_train, y_train,\n",
    "        validation_split=0.2,\n",
    "        batch_size=32,\n",
    "        epochs=500,\n",
    "        callbacks=[early_stopping, plat],\n",
    "        verbose=1\n",
    "        )\n"
   ]
  },
  {
   "cell_type": "code",
   "execution_count": 22,
   "id": "98647e4b",
   "metadata": {
    "execution": {
     "iopub.execute_input": "2023-02-02T01:30:27.727990Z",
     "iopub.status.busy": "2023-02-02T01:30:27.727098Z",
     "iopub.status.idle": "2023-02-02T01:30:27.956942Z",
     "shell.execute_reply": "2023-02-02T01:30:27.955363Z"
    },
    "papermill": {
     "duration": 0.294879,
     "end_time": "2023-02-02T01:30:27.960119",
     "exception": false,
     "start_time": "2023-02-02T01:30:27.665240",
     "status": "completed"
    },
    "tags": []
   },
   "outputs": [
    {
     "data": {
      "image/png": "[encoded data removed]",
      "text/plain": [
       "<Figure size 432x288 with 1 Axes>"
      ]
     },
     "metadata": {
      "needs_background": "light"
     },
     "output_type": "display_data"
    }
   ],
   "source": [
    "plt.plot(history.history['auc'])\n",
    "plt.plot(history.history['val_auc'])\n",
    "plt.title('Model Accuracy')\n",
    "plt.ylabel('Accuracy')\n",
    "plt.xlabel('Epoch')\n",
    "plt.legend(['train', 'test'], loc='upper left')\n",
    "plt.show()"
   ]
  },
  {
   "cell_type": "code",
   "execution_count": 23,
   "id": "1096b16e",
   "metadata": {
    "execution": {
     "iopub.execute_input": "2023-02-02T01:30:28.096609Z",
     "iopub.status.busy": "2023-02-02T01:30:28.096129Z",
     "iopub.status.idle": "2023-02-02T01:30:28.324952Z",
     "shell.execute_reply": "2023-02-02T01:30:28.323617Z"
    },
    "papermill": {
     "duration": 0.308325,
     "end_time": "2023-02-02T01:30:28.327711",
     "exception": false,
     "start_time": "2023-02-02T01:30:28.019386",
     "status": "completed"
    },
    "tags": []
   },
   "outputs": [
    {
     "data": {
      "image/png": "[encoded data removed]",
      "text/plain": [
       "<Figure size 432x288 with 1 Axes>"
      ]
     },
     "metadata": {
      "needs_background": "light"
     },
     "output_type": "display_data"
    }
   ],
   "source": [
    "plt.plot(history.history['loss'])\n",
    "plt.plot(history.history['val_loss'])\n",
    "plt.title('Model Accuracy')\n",
    "plt.ylabel('Accuracy')\n",
    "plt.xlabel('Epoch')\n",
    "plt.legend(['train', 'test'], loc='upper left')\n",
    "plt.show()"
   ]
  },
  {
   "cell_type": "code",
   "execution_count": 24,
   "id": "5de32ebf",
   "metadata": {
    "execution": {
     "iopub.execute_input": "2023-02-02T01:30:28.444431Z",
     "iopub.status.busy": "2023-02-02T01:30:28.443986Z",
     "iopub.status.idle": "2023-02-02T01:30:28.904047Z",
     "shell.execute_reply": "2023-02-02T01:30:28.902656Z"
    },
    "papermill": {
     "duration": 0.521795,
     "end_time": "2023-02-02T01:30:28.907012",
     "exception": false,
     "start_time": "2023-02-02T01:30:28.385217",
     "status": "completed"
    },
    "tags": []
   },
   "outputs": [
    {
     "name": "stdout",
     "output_type": "stream",
     "text": [
      "23/23 [==============================] - 0s 4ms/step - loss: 1.0471 - auc: 0.8857\n",
      "================================\n",
      "loss :  1.047080397605896 \n",
      " acc :  0.8857277631759644\n",
      "RMSE :  0.30631843\n",
      "R2   :  0.07447619124035187\n"
     ]
    }
   ],
   "source": [
    "from sklearn.metrics import mean_squared_error\n",
    "from sklearn.metrics import r2_score\n",
    "\n",
    "def RMSE(y_test,y_predict):\n",
    "    return np.sqrt(mean_squared_error(y_test,y_predict))\n",
    "# 평가 손실률 가져오기\n",
    "\n",
    "\n",
    "loss = model.evaluate(x_test,y_test)\n",
    "\n",
    "y_predict =model.predict(x_test)\n",
    "# print(\"=================\")\n",
    "# print(y_test)\n",
    "# print(y_predict)\n",
    "print(\"================================\")\n",
    "print(\"loss : \",loss[0],\"\\n acc : \",loss[1])\n",
    "print(\"RMSE : \",RMSE(y_test,y_predict))\n",
    "print(\"R2   : \",r2_score(y_test,y_predict))"
   ]
  },
  {
   "cell_type": "code",
   "execution_count": 25,
   "id": "90d3eec4",
   "metadata": {
    "execution": {
     "iopub.execute_input": "2023-02-02T01:30:29.025539Z",
     "iopub.status.busy": "2023-02-02T01:30:29.025127Z",
     "iopub.status.idle": "2023-02-02T01:30:29.204692Z",
     "shell.execute_reply": "2023-02-02T01:30:29.203436Z"
    },
    "papermill": {
     "duration": 0.241485,
     "end_time": "2023-02-02T01:30:29.207277",
     "exception": false,
     "start_time": "2023-02-02T01:30:28.965792",
     "status": "completed"
    },
    "tags": []
   },
   "outputs": [
    {
     "name": "stdout",
     "output_type": "stream",
     "text": [
      "[5 5 5 6 6 5 5 5 6 5 5 5 6 6 5 5 6 5 5 6 6 6 5 6 5 6 6 6 6 5 5 6 5 5 6 5 6\n",
      " 5 5 5 5 5 6 6 6 5 5 5 5 5]\n"
     ]
    }
   ],
   "source": [
    "preds =[]\n",
    "\n",
    "# 기존 원핫 인코딩 범위는 0~ 5까지 지만\n",
    "# 위 데이터의 quailty 범위는 3~8 까지라 3을 더해줌\n",
    "preds.append(np.argmax(model.predict(test_csv),axis=1)+3)\n",
    "pred = (np.average(np.array(preds),axis=0))\n",
    "\n",
    "pred= pred.astype(int)\n",
    "\n",
    "print(pred[:50])\n",
    "\n",
    "# 15-3 경로와 파일명 지정\n",
    "submission = pd.read_csv(path +\"sample_submission.csv\",index_col=\"Id\")\n",
    "submission['quality'] = pred\n",
    "# 임계값을 0 으로 변경\n",
    "# submission['quality'] = np.where(submission['quality'] > 0.5, 1 , 0)\n",
    "\n",
    "submission.to_csv(\"/kaggle/working/\"+\"submission_4.csv\")"
   ]
  }
 ],
 "metadata": {
  "kernelspec": {
   "display_name": "Python 3",
   "language": "python",
   "name": "python3"
  },
  "language_info": {
   "codemirror_mode": {
    "name": "ipython",
    "version": 3
   },
   "file_extension": ".py",
   "mimetype": "text/x-python",
   "name": "python",
   "nbconvert_exporter": "python",
   "pygments_lexer": "ipython3",
   "version": "3.7.12"
  },
  "papermill": {
   "default_parameters": {},
   "duration": 70.942815,
   "end_time": "2023-02-02T01:30:32.197785",
   "environment_variables": {},
   "exception": null,
   "input_path": "__notebook__.ipynb",
   "output_path": "__notebook__.ipynb",
   "parameters": {},
   "start_time": "2023-02-02T01:29:21.254970",
   "version": "2.3.4"
  }
 },
 "nbformat": 4,
 "nbformat_minor": 5
}
